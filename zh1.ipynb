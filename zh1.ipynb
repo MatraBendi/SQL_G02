{
    "metadata": {
        "kernelspec": {
            "name": "SQL",
            "display_name": "SQL",
            "language": "sql"
        },
        "language_info": {
            "name": "sql",
            "version": ""
        }
    },
    "nbformat_minor": 2,
    "nbformat": 4,
    "cells": [
        {
            "cell_type": "code",
            "source": [
                "SELECT NEV, EMAIL\r\n",
                "FROM Vendeg  \r\n",
                "WHERE SZUL_DAT BETWEEN '1990-07-01' AND '1990-12-31'\r\n",
                "ORDER BY MONTH(SZUL_DAT) ASC;\r\n",
                ""
            ],
            "metadata": {
                "azdata_cell_guid": "b6a45be0-e7aa-467c-a0ee-084c42a867ee",
                "language": "sql"
            },
            "outputs": [
                {
                    "output_type": "display_data",
                    "data": {
                        "text/html": "(4 rows affected)"
                    },
                    "metadata": {}
                },
                {
                    "output_type": "display_data",
                    "data": {
                        "text/html": "Total execution time: 00:00:00.008"
                    },
                    "metadata": {}
                },
                {
                    "output_type": "execute_result",
                    "metadata": {},
                    "execution_count": 33,
                    "data": {
                        "application/vnd.dataresource+json": {
                            "schema": {
                                "fields": [
                                    {
                                        "name": "NEV"
                                    },
                                    {
                                        "name": "EMAIL"
                                    }
                                ]
                            },
                            "data": [
                                {
                                    "NEV": "Bodor Szabolcs",
                                    "EMAIL": "szabolcs.bodor@mail.hu"
                                },
                                {
                                    "NEV": "Bosnyák Ilona",
                                    "EMAIL": "ilona3@gmail.com"
                                },
                                {
                                    "NEV": "Szabó Julianna",
                                    "EMAIL": "julianna4@gmail.com"
                                },
                                {
                                    "NEV": "Berta Dávid",
                                    "EMAIL": "david4@gmail.com"
                                }
                            ]
                        },
                        "text/html": [
                            "<table>",
                            "<tr><th>NEV</th><th>EMAIL</th></tr>",
                            "<tr><td>Bodor Szabolcs</td><td>szabolcs.bodor@mail.hu</td></tr>",
                            "<tr><td>Bosnyák Ilona</td><td>ilona3@gmail.com</td></tr>",
                            "<tr><td>Szabó Julianna</td><td>julianna4@gmail.com</td></tr>",
                            "<tr><td>Berta Dávid</td><td>david4@gmail.com</td></tr>",
                            "</table>"
                        ]
                    }
                }
            ],
            "execution_count": 33
        },
        {
            "cell_type": "code",
            "source": [
                "SELECT szh.TIPUS AS 'Típus', ROUND(COUNT(METTOL), -2) AS 'Százasra kerekítve. foglalások száma'\r\n",
                " \r\n",
                "FROM Foglalas f JOIN Szoba sz ON f.SZOBA_FK = sz.SZOBA_ID\r\n",
                "                JOIN Szallashely szh ON sz.SZALLAS_FK = szh.SZALLAS_ID\r\n",
                "GROUP BY szh.TIPUS\r\n",
                "HAVING ROUND(COUNT(METTOL), -2) < 500\r\n",
                "\r\n",
                ""
            ],
            "metadata": {
                "azdata_cell_guid": "7a96fc4f-2da7-486f-ac90-52413b75e8d2",
                "language": "sql",
                "tags": []
            },
            "outputs": [
                {
                    "output_type": "display_data",
                    "data": {
                        "text/html": "(3 rows affected)"
                    },
                    "metadata": {}
                },
                {
                    "output_type": "display_data",
                    "data": {
                        "text/html": "Total execution time: 00:00:00.014"
                    },
                    "metadata": {}
                },
                {
                    "output_type": "execute_result",
                    "metadata": {},
                    "execution_count": 31,
                    "data": {
                        "application/vnd.dataresource+json": {
                            "schema": {
                                "fields": [
                                    {
                                        "name": "Típus"
                                    },
                                    {
                                        "name": "Százasra kerekítve. foglalások száma"
                                    }
                                ]
                            },
                            "data": [
                                {
                                    "Típus": "Apartman",
                                    "Százasra kerekítve. foglalások száma": "100"
                                },
                                {
                                    "Típus": "vendégház",
                                    "Százasra kerekítve. foglalások száma": "100"
                                },
                                {
                                    "Típus": "panzió",
                                    "Százasra kerekítve. foglalások száma": "200"
                                }
                            ]
                        },
                        "text/html": [
                            "<table>",
                            "<tr><th>Típus</th><th>Százasra kerekítve. foglalások száma</th></tr>",
                            "<tr><td>Apartman</td><td>100</td></tr>",
                            "<tr><td>vendégház</td><td>100</td></tr>",
                            "<tr><td>panzió</td><td>200</td></tr>",
                            "</table>"
                        ]
                    }
                }
            ],
            "execution_count": 31
        },
        {
            "cell_type": "code",
            "source": [
                "SELECT F.SZOBA_FK, YEAR(F.mettol) AS evszam, COUNT(*) AS foglalasok_szama\r\n",
                "FROM Foglalas AS F JOIN Szoba AS S ON F.SZOBA_FK = S.szoba_id\r\n",
                "WHERE F.SZOBA_FK % 2 = 1\r\n",
                "GROUP BY F.SZOBA_FK, YEAR(F.METTOL)\r\n",
                "HAVING COUNT(*) > 10\r\n",
                "\r\n",
                ""
            ],
            "metadata": {
                "azdata_cell_guid": "7374914d-7413-4c86-b56b-c3deac48a007",
                "language": "sql"
            },
            "outputs": [
{
    "output_type": "display_data",
    "data": {
        "text/html": "(0 rows affected)"
    },
    "metadata": {}
}, {
    "output_type": "display_data",
    "data": {
        "text/html": "Total execution time: 00:00:00.003"
    },
    "metadata": {}
}, {
    "output_type": "execute_result",
    "metadata": {},
    "execution_count": 34,
    "data": {
        "application/vnd.dataresource+json": {
            "schema": {
                "fields": [
                    {
                        "name": "SZOBA_FK"
                    },
                    {
                        "name": "evszam"
                    },
                    {
                        "name": "foglalasok_szama"
                    }
                ]
            },
            "data": []
        },
        "text/html": [
            "<table>",
            "<tr><th>SZOBA_FK</th><th>evszam</th><th>foglalasok_szama</th></tr>",
            "</table>"
        ]
    }
}
],
            "execution_count": 34
        }
    ]
}