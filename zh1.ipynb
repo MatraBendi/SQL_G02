{
    "metadata": {
        "kernelspec": {
            "name": "SQL",
            "display_name": "SQL",
            "language": "sql"
        },
        "language_info": {
            "name": "sql",
            "version": ""
        }
    },
    "nbformat_minor": 2,
    "nbformat": 4,
    "cells": [
        {
            "cell_type": "code",
            "source": [
                "SELECT NEV, EMAIL\r\n",
                "FROM Vendeg\r\n",
                "WHERE YEAR(SZUL_DAT) BETWEEN 1995 AND 1999\r\n",
                "ORDER BY MONTH(SZUL_DAT);\r\n",
                ""
            ],
            "metadata": {
                "azdata_cell_guid": "b6a45be0-e7aa-467c-a0ee-084c42a867ee",
                "language": "sql"
            },
            "outputs": [
{
    "output_type": "display_data",
    "data": {
        "text/html": "(26 rows affected)"
    },
    "metadata": {}
}, {
    "output_type": "display_data",
    "data": {
        "text/html": "Total execution time: 00:00:00.041"
    },
    "metadata": {}
}, {
    "output_type": "execute_result",
    "metadata": {},
    "execution_count": 3,
    "data": {
        "application/vnd.dataresource+json": {
            "schema": {
                "fields": [
                    {
                        "name": "NEV"
                    },
                    {
                        "name": "EMAIL"
                    }
                ]
            },
            "data": [
                {
                    "NEV": "Balogh Eszter",
                    "EMAIL": "eszter.balogh@mail.hu"
                },
                {
                    "NEV": "Kispál Márk",
                    "EMAIL": "márk.kispál@mail.hu"
                },
                {
                    "NEV": "Papós Tímea",
                    "EMAIL": "timea@gmail.com"
                },
                {
                    "NEV": "Koza Máté",
                    "EMAIL": "máté.koza@mail.hu"
                },
                {
                    "NEV": "Nagymihály Lajos",
                    "EMAIL": "lajos.nagymihály@mail.hu"
                },
                {
                    "NEV": "Farkas Béla",
                    "EMAIL": "BELAF@gmail.com"
                },
                {
                    "NEV": "Horváth Bálint",
                    "EMAIL": "balint@gmail.com"
                },
                {
                    "NEV": "Erdei András",
                    "EMAIL": "ANDRASE@gmail.com"
                },
                {
                    "NEV": "Szomor Andrea",
                    "EMAIL": "andrea3@gmail.com"
                },
                {
                    "NEV": "Opra Attila",
                    "EMAIL": "ATTILAO@gmail.com"
                },
                {
                    "NEV": "Sarodi Dóra",
                    "EMAIL": "dóra.sarodi@mail.hu"
                },
                {
                    "NEV": "Urbán Viktoria",
                    "EMAIL": "viktoria.urbán@mail.hu"
                },
                {
                    "NEV": "Zatykó Katalin",
                    "EMAIL": "katalin.zatykó@mail.hu"
                },
                {
                    "NEV": "Nagy Sándor",
                    "EMAIL": "sandor4@gmail.com"
                },
                {
                    "NEV": "Hídasi Judit",
                    "EMAIL": "JUDITH@gmail.com"
                },
                {
                    "NEV": "Frank Fruzsina",
                    "EMAIL": "fruzsina4@gmail.com"
                },
                {
                    "NEV": "Kovács Bernadett",
                    "EMAIL": "bernadett.kovács@mail.hu"
                },
                {
                    "NEV": "Vukasinovity Bálint",
                    "EMAIL": "balint2@gmail.com"
                },
                {
                    "NEV": "Horváth Márk",
                    "EMAIL": "márk.horváth@mail.hu"
                },
                {
                    "NEV": "Tóth András",
                    "EMAIL": "andrás.tóth@mail.hu"
                },
                {
                    "NEV": "Komjáti András",
                    "EMAIL": "andras41@gmail.com"
                },
                {
                    "NEV": "Gondos Miklós",
                    "EMAIL": "miklos2@gmail.com"
                },
                {
                    "NEV": "Tatár Nikoletta",
                    "EMAIL": "nikoletta.tatár@mail.hu"
                },
                {
                    "NEV": "Fényes Tamás",
                    "EMAIL": "TAMASF@gmail.com"
                },
                {
                    "NEV": "Baráth Mária",
                    "EMAIL": "mária.baráth@mail.hu"
                },
                {
                    "NEV": "Vizi István",
                    "EMAIL": "istván.vizi@mail.hu"
                }
            ]
        },
        "text/html": [
            "<table>",
            "<tr><th>NEV</th><th>EMAIL</th></tr>",
            "<tr><td>Balogh Eszter</td><td>eszter.balogh@mail.hu</td></tr>",
            "<tr><td>Kispál Márk</td><td>márk.kispál@mail.hu</td></tr>",
            "<tr><td>Papós Tímea</td><td>timea@gmail.com</td></tr>",
            "<tr><td>Koza Máté</td><td>máté.koza@mail.hu</td></tr>",
            "<tr><td>Nagymihály Lajos</td><td>lajos.nagymihály@mail.hu</td></tr>",
            "<tr><td>Farkas Béla</td><td>BELAF@gmail.com</td></tr>",
            "<tr><td>Horváth Bálint</td><td>balint@gmail.com</td></tr>",
            "<tr><td>Erdei András</td><td>ANDRASE@gmail.com</td></tr>",
            "<tr><td>Szomor Andrea</td><td>andrea3@gmail.com</td></tr>",
            "<tr><td>Opra Attila</td><td>ATTILAO@gmail.com</td></tr>",
            "<tr><td>Sarodi Dóra</td><td>dóra.sarodi@mail.hu</td></tr>",
            "<tr><td>Urbán Viktoria</td><td>viktoria.urbán@mail.hu</td></tr>",
            "<tr><td>Zatykó Katalin</td><td>katalin.zatykó@mail.hu</td></tr>",
            "<tr><td>Nagy Sándor</td><td>sandor4@gmail.com</td></tr>",
            "<tr><td>Hídasi Judit</td><td>JUDITH@gmail.com</td></tr>",
            "<tr><td>Frank Fruzsina</td><td>fruzsina4@gmail.com</td></tr>",
            "<tr><td>Kovács Bernadett</td><td>bernadett.kovács@mail.hu</td></tr>",
            "<tr><td>Vukasinovity Bálint</td><td>balint2@gmail.com</td></tr>",
            "<tr><td>Horváth Márk</td><td>márk.horváth@mail.hu</td></tr>",
            "<tr><td>Tóth András</td><td>andrás.tóth@mail.hu</td></tr>",
            "<tr><td>Komjáti András</td><td>andras41@gmail.com</td></tr>",
            "<tr><td>Gondos Miklós</td><td>miklos2@gmail.com</td></tr>",
            "<tr><td>Tatár Nikoletta</td><td>nikoletta.tatár@mail.hu</td></tr>",
            "<tr><td>Fényes Tamás</td><td>TAMASF@gmail.com</td></tr>",
            "<tr><td>Baráth Mária</td><td>mária.baráth@mail.hu</td></tr>",
            "<tr><td>Vizi István</td><td>istván.vizi@mail.hu</td></tr>",
            "</table>"
        ]
    }
}
],
            "execution_count": 3
        }
    ]
}