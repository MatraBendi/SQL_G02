{
    "metadata": {
        "kernelspec": {
            "name": "SQL",
            "display_name": "SQL",
            "language": "sql"
        },
        "language_info": {
            "name": "sql",
            "version": ""
        },
        "extensions": {
            "azuredatastudio": {
                "version": 1,
                "views": []
            }
        }
    },
    "nbformat_minor": 2,
    "nbformat": 4,
    "cells": [
        {
            "cell_type": "markdown",
            "source": [
                "1. <span style=\"color:rgb(36, 41, 47);font-family:-apple-system, BlinkMacSystemFont, &quot;Segoe UI&quot;, Helvetica, Arial, sans-serif, &quot;Apple Color Emoji&quot;, &quot;Segoe UI Emoji&quot;;font-size:16px;\">Készítsünk lekérdezést, amely listázza, hogy mely napokon hány db kölcsönzés történt!</span>\n",
                "\n",
                "<span style=\"font-size: 16px;\">a.&nbsp;</span> Az oszlopok neve legyen 'Dátum' és 'Kölcsönzések száma'  \n",
                "b. A listát rendezzük a kölcsönzés dátuma szerint csökkenő sorrendbe!"
            ],
            "metadata": {
                "azdata_cell_guid": "77f2d5b3-38e9-41cc-893f-f5afd02b97ef"
            },
            "attachments": {}
        },
        {
            "cell_type": "code",
            "source": [
                "\r\n",
                "SELECT ki_datum, COUNT(*) as 'DB' FROM kolcsonzesek GROUP BY ki_datum ORDER BY ki_datum desc\r\n",
                "\r\n",
                ""
            ],
            "metadata": {
                "azdata_cell_guid": "bd3cef1a-4e6e-4ece-9dc3-aaa9d2b5d66d",
                "language": "sql"
            },
            "outputs": [
                {
                    "output_type": "display_data",
                    "data": {
                        "text/html": "(3 rows affected)"
                    },
                    "metadata": {}
                },
                {
                    "output_type": "display_data",
                    "data": {
                        "text/html": "Total execution time: 00:00:00.007"
                    },
                    "metadata": {}
                },
                {
                    "output_type": "execute_result",
                    "metadata": {},
                    "execution_count": 15,
                    "data": {
                        "application/vnd.dataresource+json": {
                            "schema": {
                                "fields": [
                                    {
                                        "name": "ki_datum"
                                    },
                                    {
                                        "name": "DB"
                                    }
                                ]
                            },
                            "data": [
                                {
                                    "ki_datum": "2006-10-02",
                                    "DB": "1"
                                },
                                {
                                    "ki_datum": "2006-10-01",
                                    "DB": "1"
                                },
                                {
                                    "ki_datum": "2003-12-11",
                                    "DB": "3"
                                }
                            ]
                        },
                        "text/html": [
                            "<table>",
                            "<tr><th>ki_datum</th><th>DB</th></tr>",
                            "<tr><td>2006-10-02</td><td>1</td></tr>",
                            "<tr><td>2006-10-01</td><td>1</td></tr>",
                            "<tr><td>2003-12-11</td><td>3</td></tr>",
                            "</table>"
                        ]
                    }
                }
            ],
            "execution_count": 15
        },
        {
            "cell_type": "markdown",
            "source": [
                "2. <span style=\"font-weight: 600; color: rgb(36, 41, 47); font-family: -apple-system, BlinkMacSystemFont, &quot;Segoe UI&quot;, Helvetica, Arial, sans-serif, &quot;Apple Color Emoji&quot;, &quot;Segoe UI Emoji&quot;; font-size: 16px;\">Mennyi a dvd-k átlagos ára stílusonkénti bontásban?</span>\n",
                "\n",
                "1. Csak azokat a stílusokat vegyük figyelembe, ahol az átlagos ár 4500 Ft feletti!\n",
                "2. Az oszlopokat nevezzük el értelemszerűen!\n",
                "3. A listát rendezzük átlagos ár szerint csökkenő sorrendbe!"
            ],
            "metadata": {
                "azdata_cell_guid": "88f5b4bb-f4c1-4bad-a0c7-b2592687b422"
            },
            "attachments": {}
        },
        {
            "cell_type": "code",
            "source": [
                "SELECT stilus as 'Stílus', AVG(nettoar) as 'Átlagos Ár'\r\n",
                "FROM dvd\r\n",
                "GROUP BY stilus\r\n",
                "HAVING AVG(nettoar) > 4500\r\n",
                "ORDER BY AVG(nettoar) DESC;\r\n",
                ""
            ],
            "metadata": {
                "azdata_cell_guid": "e9de5726-f036-4fb9-8c33-a873955ed886",
                "language": "sql",
                "tags": []
            },
            "outputs": [
                {
                    "output_type": "display_data",
                    "data": {
                        "text/html": "(30 rows affected)"
                    },
                    "metadata": {}
                },
                {
                    "output_type": "display_data",
                    "data": {
                        "text/html": "Total execution time: 00:00:00.010"
                    },
                    "metadata": {}
                },
                {
                    "output_type": "execute_result",
                    "metadata": {},
                    "execution_count": 19,
                    "data": {
                        "application/vnd.dataresource+json": {
                            "schema": {
                                "fields": [
                                    {
                                        "name": "Stílus"
                                    },
                                    {
                                        "name": "Átlagos Ár"
                                    }
                                ]
                            },
                            "data": [
                                {
                                    "Stílus": "ásványtan",
                                    "Átlagos Ár": "5624"
                                },
                                {
                                    "Stílus": "játék (rodeó)",
                                    "Átlagos Ár": "5591"
                                },
                                {
                                    "Stílus": "humor",
                                    "Átlagos Ár": "5573"
                                },
                                {
                                    "Stílus": "környezetvédelem",
                                    "Átlagos Ár": "5508"
                                },
                                {
                                    "Stílus": "kresz",
                                    "Átlagos Ár": "5476"
                                },
                                {
                                    "Stílus": "játék (jégkorong)",
                                    "Átlagos Ár": "5242"
                                },
                                {
                                    "Stílus": "színház",
                                    "Átlagos Ár": "5158"
                                },
                                {
                                    "Stílus": "múvészet",
                                    "Átlagos Ár": "5118"
                                },
                                {
                                    "Stílus": "kémia",
                                    "Átlagos Ár": "5094"
                                },
                                {
                                    "Stílus": "fordító program",
                                    "Átlagos Ár": "5036"
                                },
                                {
                                    "Stílus": "kerttervező",
                                    "Átlagos Ár": "4951"
                                },
                                {
                                    "Stílus": "művészet",
                                    "Átlagos Ár": "4939,25"
                                },
                                {
                                    "Stílus": "festészet",
                                    "Átlagos Ár": "4901"
                                },
                                {
                                    "Stílus": "zene",
                                    "Átlagos Ár": "4855,333333333333"
                                },
                                {
                                    "Stílus": "játék",
                                    "Átlagos Ár": "4850,466666666666"
                                },
                                {
                                    "Stílus": "játék (labdarúgás)",
                                    "Átlagos Ár": "4817,333333333333"
                                },
                                {
                                    "Stílus": "állattan",
                                    "Átlagos Ár": "4783,666666666667"
                                },
                                {
                                    "Stílus": "nyelvtan",
                                    "Átlagos Ár": "4770,666666666667"
                                },
                                {
                                    "Stílus": "fizika",
                                    "Átlagos Ár": "4769"
                                },
                                {
                                    "Stílus": "nyelvtanító",
                                    "Átlagos Ár": "4759,476190476191"
                                },
                                {
                                    "Stílus": "csillagászat",
                                    "Átlagos Ár": "4733,571428571428"
                                },
                                {
                                    "Stílus": "ismeretterjesztő",
                                    "Átlagos Ár": "4726,673913043478"
                                },
                                {
                                    "Stílus": "irodalom, nyelv",
                                    "Átlagos Ár": "4704"
                                },
                                {
                                    "Stílus": "gasztronómia",
                                    "Átlagos Ár": "4691"
                                },
                                {
                                    "Stílus": "történelem",
                                    "Átlagos Ár": "4655,731707317073"
                                },
                                {
                                    "Stílus": "szótár",
                                    "Átlagos Ár": "4624,428571428572"
                                },
                                {
                                    "Stílus": "sport",
                                    "Átlagos Ár": "4607"
                                },
                                {
                                    "Stílus": "földrajz",
                                    "Átlagos Ár": "4580,0625"
                                },
                                {
                                    "Stílus": "matematika",
                                    "Átlagos Ár": "4520,777777777777"
                                },
                                {
                                    "Stílus": "felvételi",
                                    "Átlagos Ár": "4501,333333333333"
                                }
                            ]
                        },
                        "text/html": [
                            "<table>",
                            "<tr><th>Stílus</th><th>Átlagos Ár</th></tr>",
                            "<tr><td>ásványtan</td><td>5624</td></tr>",
                            "<tr><td>játék (rodeó)</td><td>5591</td></tr>",
                            "<tr><td>humor</td><td>5573</td></tr>",
                            "<tr><td>környezetvédelem</td><td>5508</td></tr>",
                            "<tr><td>kresz</td><td>5476</td></tr>",
                            "<tr><td>játék (jégkorong)</td><td>5242</td></tr>",
                            "<tr><td>színház</td><td>5158</td></tr>",
                            "<tr><td>múvészet</td><td>5118</td></tr>",
                            "<tr><td>kémia</td><td>5094</td></tr>",
                            "<tr><td>fordító program</td><td>5036</td></tr>",
                            "<tr><td>kerttervező</td><td>4951</td></tr>",
                            "<tr><td>művészet</td><td>4939,25</td></tr>",
                            "<tr><td>festészet</td><td>4901</td></tr>",
                            "<tr><td>zene</td><td>4855,333333333333</td></tr>",
                            "<tr><td>játék</td><td>4850,466666666666</td></tr>",
                            "<tr><td>játék (labdarúgás)</td><td>4817,333333333333</td></tr>",
                            "<tr><td>állattan</td><td>4783,666666666667</td></tr>",
                            "<tr><td>nyelvtan</td><td>4770,666666666667</td></tr>",
                            "<tr><td>fizika</td><td>4769</td></tr>",
                            "<tr><td>nyelvtanító</td><td>4759,476190476191</td></tr>",
                            "<tr><td>csillagászat</td><td>4733,571428571428</td></tr>",
                            "<tr><td>ismeretterjesztő</td><td>4726,673913043478</td></tr>",
                            "<tr><td>irodalom, nyelv</td><td>4704</td></tr>",
                            "<tr><td>gasztronómia</td><td>4691</td></tr>",
                            "<tr><td>történelem</td><td>4655,731707317073</td></tr>",
                            "<tr><td>szótár</td><td>4624,428571428572</td></tr>",
                            "<tr><td>sport</td><td>4607</td></tr>",
                            "<tr><td>földrajz</td><td>4580,0625</td></tr>",
                            "<tr><td>matematika</td><td>4520,777777777777</td></tr>",
                            "<tr><td>felvételi</td><td>4501,333333333333</td></tr>",
                            "</table>"
                        ]
                    }
                }
            ],
            "execution_count": 19
        },
        {
            "cell_type": "markdown",
            "source": [
                "3. <span style=\"color:rgb(36, 41, 47);font-family:-apple-system, BlinkMacSystemFont, &quot;Segoe UI&quot;, Helvetica, Arial, sans-serif, &quot;Apple Color Emoji&quot;, &quot;Segoe UI Emoji&quot;;font-size:16px;\">Listázzuk nyelvenkénti, azon belül stílusonkénti bontásban, hogy mennyi a dvd-k legkisebb és legnagyobb ára!&nbsp;</span> \n",
                "\n",
                "<span style=\"font-size: 16px;\">a. Az oszlopok neve legyen 'Nyelv', 'Stílus', 'MinÁr' és 'MaxÁr'!<br>b.&nbsp;</span> A listából hagyjuk ki azokat a sorokat, ahol a nyelv vagy a stílus nincs megadva!  \n",
                "c. Szintén hagyjuk ki azokat a csoportokat, ahol a csoport elemszáma 3-nál kisebb!"
            ],
            "metadata": {
                "azdata_cell_guid": "9e7249de-1b59-43d8-84b1-26fa7d81fc5a"
            },
            "attachments": {}
        },
        {
            "cell_type": "code",
            "source": [
                "SELECT \r\n",
                "    nyelvek.lang as 'Nyelv',\r\n",
                "    stilus as 'Stílus',\r\n",
                "    MIN(nettoar) as 'MinÁr',\r\n",
                "    MAX(nettoar) as 'MaxÁr'\r\n",
                "FROM dvd, nyelvek\r\n",
                "WHERE nyelvek.lang IS NOT NULL AND stilus IS NOT NULL\r\n",
                "GROUP BY nyelvek.lang, stilus\r\n",
                "HAVING COUNT(*) >= 3;\r\n",
                ""
            ],
            "metadata": {
                "azdata_cell_guid": "6405d3e8-a9b1-45d7-aa76-3b1e785ef6cc",
                "language": "sql"
            },
            "outputs": [
{
    "output_type": "display_data",
    "data": {
        "text/html": "(160 rows affected)"
    },
    "metadata": {}
}, {
    "output_type": "display_data",
    "data": {
        "text/html": "Total execution time: 00:00:00.026"
    },
    "metadata": {}
}, {
    "output_type": "execute_result",
    "metadata": {},
    "execution_count": 24,
    "data": {
        "application/vnd.dataresource+json": {
            "schema": {
                "fields": [
                    {
                        "name": "Nyelv"
                    },
                    {
                        "name": "Stílus"
                    },
                    {
                        "name": "MinÁr"
                    },
                    {
                        "name": "MaxÁr"
                    }
                ]
            },
            "data": [
                {
                    "Nyelv": "angol",
                    "Stílus": "állattan",
                    "MinÁr": "4153",
                    "MaxÁr": "5235"
                },
                {
                    "Nyelv": "angol/német",
                    "Stílus": "állattan",
                    "MinÁr": "4153",
                    "MaxÁr": "5235"
                },
                {
                    "Nyelv": "francia",
                    "Stílus": "állattan",
                    "MinÁr": "4153",
                    "MaxÁr": "5235"
                },
                {
                    "Nyelv": "magyar",
                    "Stílus": "állattan",
                    "MinÁr": "4153",
                    "MaxÁr": "5235"
                },
                {
                    "Nyelv": "magyar/angol",
                    "Stílus": "állattan",
                    "MinÁr": "4153",
                    "MaxÁr": "5235"
                },
                {
                    "Nyelv": "német",
                    "Stílus": "állattan",
                    "MinÁr": "4153",
                    "MaxÁr": "5235"
                },
                {
                    "Nyelv": "olasz",
                    "Stílus": "állattan",
                    "MinÁr": "4153",
                    "MaxÁr": "5235"
                },
                {
                    "Nyelv": "orosz",
                    "Stílus": "állattan",
                    "MinÁr": "4153",
                    "MaxÁr": "5235"
                },
                {
                    "Nyelv": "angol",
                    "Stílus": "biológia",
                    "MinÁr": "3482",
                    "MaxÁr": "5543"
                },
                {
                    "Nyelv": "angol/német",
                    "Stílus": "biológia",
                    "MinÁr": "3482",
                    "MaxÁr": "5543"
                },
                {
                    "Nyelv": "francia",
                    "Stílus": "biológia",
                    "MinÁr": "3482",
                    "MaxÁr": "5543"
                },
                {
                    "Nyelv": "magyar",
                    "Stílus": "biológia",
                    "MinÁr": "3482",
                    "MaxÁr": "5543"
                },
                {
                    "Nyelv": "magyar/angol",
                    "Stílus": "biológia",
                    "MinÁr": "3482",
                    "MaxÁr": "5543"
                },
                {
                    "Nyelv": "német",
                    "Stílus": "biológia",
                    "MinÁr": "3482",
                    "MaxÁr": "5543"
                },
                {
                    "Nyelv": "olasz",
                    "Stílus": "biológia",
                    "MinÁr": "3482",
                    "MaxÁr": "5543"
                },
                {
                    "Nyelv": "orosz",
                    "Stílus": "biológia",
                    "MinÁr": "3482",
                    "MaxÁr": "5543"
                },
                {
                    "Nyelv": "angol",
                    "Stílus": "csillagászat",
                    "MinÁr": "3582",
                    "MaxÁr": "5992"
                },
                {
                    "Nyelv": "angol/német",
                    "Stílus": "csillagászat",
                    "MinÁr": "3582",
                    "MaxÁr": "5992"
                },
                {
                    "Nyelv": "francia",
                    "Stílus": "csillagászat",
                    "MinÁr": "3582",
                    "MaxÁr": "5992"
                },
                {
                    "Nyelv": "magyar",
                    "Stílus": "csillagászat",
                    "MinÁr": "3582",
                    "MaxÁr": "5992"
                },
                {
                    "Nyelv": "magyar/angol",
                    "Stílus": "csillagászat",
                    "MinÁr": "3582",
                    "MaxÁr": "5992"
                },
                {
                    "Nyelv": "német",
                    "Stílus": "csillagászat",
                    "MinÁr": "3582",
                    "MaxÁr": "5992"
                },
                {
                    "Nyelv": "olasz",
                    "Stílus": "csillagászat",
                    "MinÁr": "3582",
                    "MaxÁr": "5992"
                },
                {
                    "Nyelv": "orosz",
                    "Stílus": "csillagászat",
                    "MinÁr": "3582",
                    "MaxÁr": "5992"
                },
                {
                    "Nyelv": "angol",
                    "Stílus": "felvételi",
                    "MinÁr": "3102",
                    "MaxÁr": "5955"
                },
                {
                    "Nyelv": "angol/német",
                    "Stílus": "felvételi",
                    "MinÁr": "3102",
                    "MaxÁr": "5955"
                },
                {
                    "Nyelv": "francia",
                    "Stílus": "felvételi",
                    "MinÁr": "3102",
                    "MaxÁr": "5955"
                },
                {
                    "Nyelv": "magyar",
                    "Stílus": "felvételi",
                    "MinÁr": "3102",
                    "MaxÁr": "5955"
                },
                {
                    "Nyelv": "magyar/angol",
                    "Stílus": "felvételi",
                    "MinÁr": "3102",
                    "MaxÁr": "5955"
                },
                {
                    "Nyelv": "német",
                    "Stílus": "felvételi",
                    "MinÁr": "3102",
                    "MaxÁr": "5955"
                },
                {
                    "Nyelv": "olasz",
                    "Stílus": "felvételi",
                    "MinÁr": "3102",
                    "MaxÁr": "5955"
                },
                {
                    "Nyelv": "orosz",
                    "Stílus": "felvételi",
                    "MinÁr": "3102",
                    "MaxÁr": "5955"
                },
                {
                    "Nyelv": "angol",
                    "Stílus": "fizika",
                    "MinÁr": "3734",
                    "MaxÁr": "5763"
                },
                {
                    "Nyelv": "angol/német",
                    "Stílus": "fizika",
                    "MinÁr": "3734",
                    "MaxÁr": "5763"
                },
                {
                    "Nyelv": "francia",
                    "Stílus": "fizika",
                    "MinÁr": "3734",
                    "MaxÁr": "5763"
                },
                {
                    "Nyelv": "magyar",
                    "Stílus": "fizika",
                    "MinÁr": "3734",
                    "MaxÁr": "5763"
                },
                {
                    "Nyelv": "magyar/angol",
                    "Stílus": "fizika",
                    "MinÁr": "3734",
                    "MaxÁr": "5763"
                },
                {
                    "Nyelv": "német",
                    "Stílus": "fizika",
                    "MinÁr": "3734",
                    "MaxÁr": "5763"
                },
                {
                    "Nyelv": "olasz",
                    "Stílus": "fizika",
                    "MinÁr": "3734",
                    "MaxÁr": "5763"
                },
                {
                    "Nyelv": "orosz",
                    "Stílus": "fizika",
                    "MinÁr": "3734",
                    "MaxÁr": "5763"
                },
                {
                    "Nyelv": "angol",
                    "Stílus": "földrajz",
                    "MinÁr": "3123",
                    "MaxÁr": "6065"
                },
                {
                    "Nyelv": "angol/német",
                    "Stílus": "földrajz",
                    "MinÁr": "3123",
                    "MaxÁr": "6065"
                },
                {
                    "Nyelv": "francia",
                    "Stílus": "földrajz",
                    "MinÁr": "3123",
                    "MaxÁr": "6065"
                },
                {
                    "Nyelv": "magyar",
                    "Stílus": "földrajz",
                    "MinÁr": "3123",
                    "MaxÁr": "6065"
                },
                {
                    "Nyelv": "magyar/angol",
                    "Stílus": "földrajz",
                    "MinÁr": "3123",
                    "MaxÁr": "6065"
                },
                {
                    "Nyelv": "német",
                    "Stílus": "földrajz",
                    "MinÁr": "3123",
                    "MaxÁr": "6065"
                },
                {
                    "Nyelv": "olasz",
                    "Stílus": "földrajz",
                    "MinÁr": "3123",
                    "MaxÁr": "6065"
                },
                {
                    "Nyelv": "orosz",
                    "Stílus": "földrajz",
                    "MinÁr": "3123",
                    "MaxÁr": "6065"
                },
                {
                    "Nyelv": "angol",
                    "Stílus": "gasztronómia",
                    "MinÁr": "3258",
                    "MaxÁr": "5706"
                },
                {
                    "Nyelv": "angol/német",
                    "Stílus": "gasztronómia",
                    "MinÁr": "3258",
                    "MaxÁr": "5706"
                },
                {
                    "Nyelv": "francia",
                    "Stílus": "gasztronómia",
                    "MinÁr": "3258",
                    "MaxÁr": "5706"
                },
                {
                    "Nyelv": "magyar",
                    "Stílus": "gasztronómia",
                    "MinÁr": "3258",
                    "MaxÁr": "5706"
                },
                {
                    "Nyelv": "magyar/angol",
                    "Stílus": "gasztronómia",
                    "MinÁr": "3258",
                    "MaxÁr": "5706"
                },
                {
                    "Nyelv": "német",
                    "Stílus": "gasztronómia",
                    "MinÁr": "3258",
                    "MaxÁr": "5706"
                },
                {
                    "Nyelv": "olasz",
                    "Stílus": "gasztronómia",
                    "MinÁr": "3258",
                    "MaxÁr": "5706"
                },
                {
                    "Nyelv": "orosz",
                    "Stílus": "gasztronómia",
                    "MinÁr": "3258",
                    "MaxÁr": "5706"
                },
                {
                    "Nyelv": "angol",
                    "Stílus": "irodalom",
                    "MinÁr": "3391",
                    "MaxÁr": "5654"
                },
                {
                    "Nyelv": "angol/német",
                    "Stílus": "irodalom",
                    "MinÁr": "3391",
                    "MaxÁr": "5654"
                },
                {
                    "Nyelv": "francia",
                    "Stílus": "irodalom",
                    "MinÁr": "3391",
                    "MaxÁr": "5654"
                },
                {
                    "Nyelv": "magyar",
                    "Stílus": "irodalom",
                    "MinÁr": "3391",
                    "MaxÁr": "5654"
                },
                {
                    "Nyelv": "magyar/angol",
                    "Stílus": "irodalom",
                    "MinÁr": "3391",
                    "MaxÁr": "5654"
                },
                {
                    "Nyelv": "német",
                    "Stílus": "irodalom",
                    "MinÁr": "3391",
                    "MaxÁr": "5654"
                },
                {
                    "Nyelv": "olasz",
                    "Stílus": "irodalom",
                    "MinÁr": "3391",
                    "MaxÁr": "5654"
                },
                {
                    "Nyelv": "orosz",
                    "Stílus": "irodalom",
                    "MinÁr": "3391",
                    "MaxÁr": "5654"
                },
                {
                    "Nyelv": "angol",
                    "Stílus": "ismeretterjesztő",
                    "MinÁr": "3256",
                    "MaxÁr": "6072"
                },
                {
                    "Nyelv": "angol/német",
                    "Stílus": "ismeretterjesztő",
                    "MinÁr": "3256",
                    "MaxÁr": "6072"
                },
                {
                    "Nyelv": "francia",
                    "Stílus": "ismeretterjesztő",
                    "MinÁr": "3256",
                    "MaxÁr": "6072"
                },
                {
                    "Nyelv": "magyar",
                    "Stílus": "ismeretterjesztő",
                    "MinÁr": "3256",
                    "MaxÁr": "6072"
                },
                {
                    "Nyelv": "magyar/angol",
                    "Stílus": "ismeretterjesztő",
                    "MinÁr": "3256",
                    "MaxÁr": "6072"
                },
                {
                    "Nyelv": "német",
                    "Stílus": "ismeretterjesztő",
                    "MinÁr": "3256",
                    "MaxÁr": "6072"
                },
                {
                    "Nyelv": "olasz",
                    "Stílus": "ismeretterjesztő",
                    "MinÁr": "3256",
                    "MaxÁr": "6072"
                },
                {
                    "Nyelv": "orosz",
                    "Stílus": "ismeretterjesztő",
                    "MinÁr": "3256",
                    "MaxÁr": "6072"
                },
                {
                    "Nyelv": "angol",
                    "Stílus": "játék",
                    "MinÁr": "3110",
                    "MaxÁr": "6078"
                },
                {
                    "Nyelv": "angol/német",
                    "Stílus": "játék",
                    "MinÁr": "3110",
                    "MaxÁr": "6078"
                },
                {
                    "Nyelv": "francia",
                    "Stílus": "játék",
                    "MinÁr": "3110",
                    "MaxÁr": "6078"
                },
                {
                    "Nyelv": "magyar",
                    "Stílus": "játék",
                    "MinÁr": "3110",
                    "MaxÁr": "6078"
                },
                {
                    "Nyelv": "magyar/angol",
                    "Stílus": "játék",
                    "MinÁr": "3110",
                    "MaxÁr": "6078"
                },
                {
                    "Nyelv": "német",
                    "Stílus": "játék",
                    "MinÁr": "3110",
                    "MaxÁr": "6078"
                },
                {
                    "Nyelv": "olasz",
                    "Stílus": "játék",
                    "MinÁr": "3110",
                    "MaxÁr": "6078"
                },
                {
                    "Nyelv": "orosz",
                    "Stílus": "játék",
                    "MinÁr": "3110",
                    "MaxÁr": "6078"
                },
                {
                    "Nyelv": "angol",
                    "Stílus": "játék (autóverseny)",
                    "MinÁr": "3106",
                    "MaxÁr": "5005"
                },
                {
                    "Nyelv": "angol/német",
                    "Stílus": "játék (autóverseny)",
                    "MinÁr": "3106",
                    "MaxÁr": "5005"
                },
                {
                    "Nyelv": "francia",
                    "Stílus": "játék (autóverseny)",
                    "MinÁr": "3106",
                    "MaxÁr": "5005"
                },
                {
                    "Nyelv": "magyar",
                    "Stílus": "játék (autóverseny)",
                    "MinÁr": "3106",
                    "MaxÁr": "5005"
                },
                {
                    "Nyelv": "magyar/angol",
                    "Stílus": "játék (autóverseny)",
                    "MinÁr": "3106",
                    "MaxÁr": "5005"
                },
                {
                    "Nyelv": "német",
                    "Stílus": "játék (autóverseny)",
                    "MinÁr": "3106",
                    "MaxÁr": "5005"
                },
                {
                    "Nyelv": "olasz",
                    "Stílus": "játék (autóverseny)",
                    "MinÁr": "3106",
                    "MaxÁr": "5005"
                },
                {
                    "Nyelv": "orosz",
                    "Stílus": "játék (autóverseny)",
                    "MinÁr": "3106",
                    "MaxÁr": "5005"
                },
                {
                    "Nyelv": "angol",
                    "Stílus": "játék (labdarúgás)",
                    "MinÁr": "3871",
                    "MaxÁr": "5522"
                },
                {
                    "Nyelv": "angol/német",
                    "Stílus": "játék (labdarúgás)",
                    "MinÁr": "3871",
                    "MaxÁr": "5522"
                },
                {
                    "Nyelv": "francia",
                    "Stílus": "játék (labdarúgás)",
                    "MinÁr": "3871",
                    "MaxÁr": "5522"
                },
                {
                    "Nyelv": "magyar",
                    "Stílus": "játék (labdarúgás)",
                    "MinÁr": "3871",
                    "MaxÁr": "5522"
                },
                {
                    "Nyelv": "magyar/angol",
                    "Stílus": "játék (labdarúgás)",
                    "MinÁr": "3871",
                    "MaxÁr": "5522"
                },
                {
                    "Nyelv": "német",
                    "Stílus": "játék (labdarúgás)",
                    "MinÁr": "3871",
                    "MaxÁr": "5522"
                },
                {
                    "Nyelv": "olasz",
                    "Stílus": "játék (labdarúgás)",
                    "MinÁr": "3871",
                    "MaxÁr": "5522"
                },
                {
                    "Nyelv": "orosz",
                    "Stílus": "játék (labdarúgás)",
                    "MinÁr": "3871",
                    "MaxÁr": "5522"
                },
                {
                    "Nyelv": "angol",
                    "Stílus": "matematika",
                    "MinÁr": "3105",
                    "MaxÁr": "5995"
                },
                {
                    "Nyelv": "angol/német",
                    "Stílus": "matematika",
                    "MinÁr": "3105",
                    "MaxÁr": "5995"
                },
                {
                    "Nyelv": "francia",
                    "Stílus": "matematika",
                    "MinÁr": "3105",
                    "MaxÁr": "5995"
                },
                {
                    "Nyelv": "magyar",
                    "Stílus": "matematika",
                    "MinÁr": "3105",
                    "MaxÁr": "5995"
                },
                {
                    "Nyelv": "magyar/angol",
                    "Stílus": "matematika",
                    "MinÁr": "3105",
                    "MaxÁr": "5995"
                },
                {
                    "Nyelv": "német",
                    "Stílus": "matematika",
                    "MinÁr": "3105",
                    "MaxÁr": "5995"
                },
                {
                    "Nyelv": "olasz",
                    "Stílus": "matematika",
                    "MinÁr": "3105",
                    "MaxÁr": "5995"
                },
                {
                    "Nyelv": "orosz",
                    "Stílus": "matematika",
                    "MinÁr": "3105",
                    "MaxÁr": "5995"
                },
                {
                    "Nyelv": "angol",
                    "Stílus": "művészet",
                    "MinÁr": "3490",
                    "MaxÁr": "6098"
                },
                {
                    "Nyelv": "angol/német",
                    "Stílus": "művészet",
                    "MinÁr": "3490",
                    "MaxÁr": "6098"
                },
                {
                    "Nyelv": "francia",
                    "Stílus": "művészet",
                    "MinÁr": "3490",
                    "MaxÁr": "6098"
                },
                {
                    "Nyelv": "magyar",
                    "Stílus": "művészet",
                    "MinÁr": "3490",
                    "MaxÁr": "6098"
                },
                {
                    "Nyelv": "magyar/angol",
                    "Stílus": "művészet",
                    "MinÁr": "3490",
                    "MaxÁr": "6098"
                },
                {
                    "Nyelv": "német",
                    "Stílus": "művészet",
                    "MinÁr": "3490",
                    "MaxÁr": "6098"
                },
                {
                    "Nyelv": "olasz",
                    "Stílus": "művészet",
                    "MinÁr": "3490",
                    "MaxÁr": "6098"
                },
                {
                    "Nyelv": "orosz",
                    "Stílus": "művészet",
                    "MinÁr": "3490",
                    "MaxÁr": "6098"
                },
                {
                    "Nyelv": "angol",
                    "Stílus": "nyelvtan",
                    "MinÁr": "3688",
                    "MaxÁr": "5845"
                },
                {
                    "Nyelv": "angol/német",
                    "Stílus": "nyelvtan",
                    "MinÁr": "3688",
                    "MaxÁr": "5845"
                },
                {
                    "Nyelv": "francia",
                    "Stílus": "nyelvtan",
                    "MinÁr": "3688",
                    "MaxÁr": "5845"
                },
                {
                    "Nyelv": "magyar",
                    "Stílus": "nyelvtan",
                    "MinÁr": "3688",
                    "MaxÁr": "5845"
                },
                {
                    "Nyelv": "magyar/angol",
                    "Stílus": "nyelvtan",
                    "MinÁr": "3688",
                    "MaxÁr": "5845"
                },
                {
                    "Nyelv": "német",
                    "Stílus": "nyelvtan",
                    "MinÁr": "3688",
                    "MaxÁr": "5845"
                },
                {
                    "Nyelv": "olasz",
                    "Stílus": "nyelvtan",
                    "MinÁr": "3688",
                    "MaxÁr": "5845"
                },
                {
                    "Nyelv": "orosz",
                    "Stílus": "nyelvtan",
                    "MinÁr": "3688",
                    "MaxÁr": "5845"
                },
                {
                    "Nyelv": "angol",
                    "Stílus": "nyelvtanító",
                    "MinÁr": "3115",
                    "MaxÁr": "6082"
                },
                {
                    "Nyelv": "angol/német",
                    "Stílus": "nyelvtanító",
                    "MinÁr": "3115",
                    "MaxÁr": "6082"
                },
                {
                    "Nyelv": "francia",
                    "Stílus": "nyelvtanító",
                    "MinÁr": "3115",
                    "MaxÁr": "6082"
                },
                {
                    "Nyelv": "magyar",
                    "Stílus": "nyelvtanító",
                    "MinÁr": "3115",
                    "MaxÁr": "6082"
                },
                {
                    "Nyelv": "magyar/angol",
                    "Stílus": "nyelvtanító",
                    "MinÁr": "3115",
                    "MaxÁr": "6082"
                },
                {
                    "Nyelv": "német",
                    "Stílus": "nyelvtanító",
                    "MinÁr": "3115",
                    "MaxÁr": "6082"
                },
                {
                    "Nyelv": "olasz",
                    "Stílus": "nyelvtanító",
                    "MinÁr": "3115",
                    "MaxÁr": "6082"
                },
                {
                    "Nyelv": "orosz",
                    "Stílus": "nyelvtanító",
                    "MinÁr": "3115",
                    "MaxÁr": "6082"
                },
                {
                    "Nyelv": "angol",
                    "Stílus": "számítástechnika",
                    "MinÁr": "3277",
                    "MaxÁr": "5260"
                },
                {
                    "Nyelv": "angol/német",
                    "Stílus": "számítástechnika",
                    "MinÁr": "3277",
                    "MaxÁr": "5260"
                },
                {
                    "Nyelv": "francia",
                    "Stílus": "számítástechnika",
                    "MinÁr": "3277",
                    "MaxÁr": "5260"
                },
                {
                    "Nyelv": "magyar",
                    "Stílus": "számítástechnika",
                    "MinÁr": "3277",
                    "MaxÁr": "5260"
                },
                {
                    "Nyelv": "magyar/angol",
                    "Stílus": "számítástechnika",
                    "MinÁr": "3277",
                    "MaxÁr": "5260"
                },
                {
                    "Nyelv": "német",
                    "Stílus": "számítástechnika",
                    "MinÁr": "3277",
                    "MaxÁr": "5260"
                },
                {
                    "Nyelv": "olasz",
                    "Stílus": "számítástechnika",
                    "MinÁr": "3277",
                    "MaxÁr": "5260"
                },
                {
                    "Nyelv": "orosz",
                    "Stílus": "számítástechnika",
                    "MinÁr": "3277",
                    "MaxÁr": "5260"
                },
                {
                    "Nyelv": "angol",
                    "Stílus": "szótár",
                    "MinÁr": "3509",
                    "MaxÁr": "5734"
                },
                {
                    "Nyelv": "angol/német",
                    "Stílus": "szótár",
                    "MinÁr": "3509",
                    "MaxÁr": "5734"
                },
                {
                    "Nyelv": "francia",
                    "Stílus": "szótár",
                    "MinÁr": "3509",
                    "MaxÁr": "5734"
                },
                {
                    "Nyelv": "magyar",
                    "Stílus": "szótár",
                    "MinÁr": "3509",
                    "MaxÁr": "5734"
                },
                {
                    "Nyelv": "magyar/angol",
                    "Stílus": "szótár",
                    "MinÁr": "3509",
                    "MaxÁr": "5734"
                },
                {
                    "Nyelv": "német",
                    "Stílus": "szótár",
                    "MinÁr": "3509",
                    "MaxÁr": "5734"
                },
                {
                    "Nyelv": "olasz",
                    "Stílus": "szótár",
                    "MinÁr": "3509",
                    "MaxÁr": "5734"
                },
                {
                    "Nyelv": "orosz",
                    "Stílus": "szótár",
                    "MinÁr": "3509",
                    "MaxÁr": "5734"
                },
                {
                    "Nyelv": "angol",
                    "Stílus": "történelem",
                    "MinÁr": "3122",
                    "MaxÁr": "6084"
                },
                {
                    "Nyelv": "angol/német",
                    "Stílus": "történelem",
                    "MinÁr": "3122",
                    "MaxÁr": "6084"
                },
                {
                    "Nyelv": "francia",
                    "Stílus": "történelem",
                    "MinÁr": "3122",
                    "MaxÁr": "6084"
                },
                {
                    "Nyelv": "magyar",
                    "Stílus": "történelem",
                    "MinÁr": "3122",
                    "MaxÁr": "6084"
                },
                {
                    "Nyelv": "magyar/angol",
                    "Stílus": "történelem",
                    "MinÁr": "3122",
                    "MaxÁr": "6084"
                },
                {
                    "Nyelv": "német",
                    "Stílus": "történelem",
                    "MinÁr": "3122",
                    "MaxÁr": "6084"
                },
                {
                    "Nyelv": "olasz",
                    "Stílus": "történelem",
                    "MinÁr": "3122",
                    "MaxÁr": "6084"
                },
                {
                    "Nyelv": "orosz",
                    "Stílus": "történelem",
                    "MinÁr": "3122",
                    "MaxÁr": "6084"
                },
                {
                    "Nyelv": "angol",
                    "Stílus": "zene",
                    "MinÁr": "3391",
                    "MaxÁr": "5730"
                },
                {
                    "Nyelv": "angol/német",
                    "Stílus": "zene",
                    "MinÁr": "3391",
                    "MaxÁr": "5730"
                },
                {
                    "Nyelv": "francia",
                    "Stílus": "zene",
                    "MinÁr": "3391",
                    "MaxÁr": "5730"
                },
                {
                    "Nyelv": "magyar",
                    "Stílus": "zene",
                    "MinÁr": "3391",
                    "MaxÁr": "5730"
                },
                {
                    "Nyelv": "magyar/angol",
                    "Stílus": "zene",
                    "MinÁr": "3391",
                    "MaxÁr": "5730"
                },
                {
                    "Nyelv": "német",
                    "Stílus": "zene",
                    "MinÁr": "3391",
                    "MaxÁr": "5730"
                },
                {
                    "Nyelv": "olasz",
                    "Stílus": "zene",
                    "MinÁr": "3391",
                    "MaxÁr": "5730"
                },
                {
                    "Nyelv": "orosz",
                    "Stílus": "zene",
                    "MinÁr": "3391",
                    "MaxÁr": "5730"
                }
            ]
        },
        "text/html": [
            "<table>",
            "<tr><th>Nyelv</th><th>Stílus</th><th>MinÁr</th><th>MaxÁr</th></tr>",
            "<tr><td>angol</td><td>állattan</td><td>4153</td><td>5235</td></tr>",
            "<tr><td>angol/német</td><td>állattan</td><td>4153</td><td>5235</td></tr>",
            "<tr><td>francia</td><td>állattan</td><td>4153</td><td>5235</td></tr>",
            "<tr><td>magyar</td><td>állattan</td><td>4153</td><td>5235</td></tr>",
            "<tr><td>magyar/angol</td><td>állattan</td><td>4153</td><td>5235</td></tr>",
            "<tr><td>német</td><td>állattan</td><td>4153</td><td>5235</td></tr>",
            "<tr><td>olasz</td><td>állattan</td><td>4153</td><td>5235</td></tr>",
            "<tr><td>orosz</td><td>állattan</td><td>4153</td><td>5235</td></tr>",
            "<tr><td>angol</td><td>biológia</td><td>3482</td><td>5543</td></tr>",
            "<tr><td>angol/német</td><td>biológia</td><td>3482</td><td>5543</td></tr>",
            "<tr><td>francia</td><td>biológia</td><td>3482</td><td>5543</td></tr>",
            "<tr><td>magyar</td><td>biológia</td><td>3482</td><td>5543</td></tr>",
            "<tr><td>magyar/angol</td><td>biológia</td><td>3482</td><td>5543</td></tr>",
            "<tr><td>német</td><td>biológia</td><td>3482</td><td>5543</td></tr>",
            "<tr><td>olasz</td><td>biológia</td><td>3482</td><td>5543</td></tr>",
            "<tr><td>orosz</td><td>biológia</td><td>3482</td><td>5543</td></tr>",
            "<tr><td>angol</td><td>csillagászat</td><td>3582</td><td>5992</td></tr>",
            "<tr><td>angol/német</td><td>csillagászat</td><td>3582</td><td>5992</td></tr>",
            "<tr><td>francia</td><td>csillagászat</td><td>3582</td><td>5992</td></tr>",
            "<tr><td>magyar</td><td>csillagászat</td><td>3582</td><td>5992</td></tr>",
            "<tr><td>magyar/angol</td><td>csillagászat</td><td>3582</td><td>5992</td></tr>",
            "<tr><td>német</td><td>csillagászat</td><td>3582</td><td>5992</td></tr>",
            "<tr><td>olasz</td><td>csillagászat</td><td>3582</td><td>5992</td></tr>",
            "<tr><td>orosz</td><td>csillagászat</td><td>3582</td><td>5992</td></tr>",
            "<tr><td>angol</td><td>felvételi</td><td>3102</td><td>5955</td></tr>",
            "<tr><td>angol/német</td><td>felvételi</td><td>3102</td><td>5955</td></tr>",
            "<tr><td>francia</td><td>felvételi</td><td>3102</td><td>5955</td></tr>",
            "<tr><td>magyar</td><td>felvételi</td><td>3102</td><td>5955</td></tr>",
            "<tr><td>magyar/angol</td><td>felvételi</td><td>3102</td><td>5955</td></tr>",
            "<tr><td>német</td><td>felvételi</td><td>3102</td><td>5955</td></tr>",
            "<tr><td>olasz</td><td>felvételi</td><td>3102</td><td>5955</td></tr>",
            "<tr><td>orosz</td><td>felvételi</td><td>3102</td><td>5955</td></tr>",
            "<tr><td>angol</td><td>fizika</td><td>3734</td><td>5763</td></tr>",
            "<tr><td>angol/német</td><td>fizika</td><td>3734</td><td>5763</td></tr>",
            "<tr><td>francia</td><td>fizika</td><td>3734</td><td>5763</td></tr>",
            "<tr><td>magyar</td><td>fizika</td><td>3734</td><td>5763</td></tr>",
            "<tr><td>magyar/angol</td><td>fizika</td><td>3734</td><td>5763</td></tr>",
            "<tr><td>német</td><td>fizika</td><td>3734</td><td>5763</td></tr>",
            "<tr><td>olasz</td><td>fizika</td><td>3734</td><td>5763</td></tr>",
            "<tr><td>orosz</td><td>fizika</td><td>3734</td><td>5763</td></tr>",
            "<tr><td>angol</td><td>földrajz</td><td>3123</td><td>6065</td></tr>",
            "<tr><td>angol/német</td><td>földrajz</td><td>3123</td><td>6065</td></tr>",
            "<tr><td>francia</td><td>földrajz</td><td>3123</td><td>6065</td></tr>",
            "<tr><td>magyar</td><td>földrajz</td><td>3123</td><td>6065</td></tr>",
            "<tr><td>magyar/angol</td><td>földrajz</td><td>3123</td><td>6065</td></tr>",
            "<tr><td>német</td><td>földrajz</td><td>3123</td><td>6065</td></tr>",
            "<tr><td>olasz</td><td>földrajz</td><td>3123</td><td>6065</td></tr>",
            "<tr><td>orosz</td><td>földrajz</td><td>3123</td><td>6065</td></tr>",
            "<tr><td>angol</td><td>gasztronómia</td><td>3258</td><td>5706</td></tr>",
            "<tr><td>angol/német</td><td>gasztronómia</td><td>3258</td><td>5706</td></tr>",
            "<tr><td>francia</td><td>gasztronómia</td><td>3258</td><td>5706</td></tr>",
            "<tr><td>magyar</td><td>gasztronómia</td><td>3258</td><td>5706</td></tr>",
            "<tr><td>magyar/angol</td><td>gasztronómia</td><td>3258</td><td>5706</td></tr>",
            "<tr><td>német</td><td>gasztronómia</td><td>3258</td><td>5706</td></tr>",
            "<tr><td>olasz</td><td>gasztronómia</td><td>3258</td><td>5706</td></tr>",
            "<tr><td>orosz</td><td>gasztronómia</td><td>3258</td><td>5706</td></tr>",
            "<tr><td>angol</td><td>irodalom</td><td>3391</td><td>5654</td></tr>",
            "<tr><td>angol/német</td><td>irodalom</td><td>3391</td><td>5654</td></tr>",
            "<tr><td>francia</td><td>irodalom</td><td>3391</td><td>5654</td></tr>",
            "<tr><td>magyar</td><td>irodalom</td><td>3391</td><td>5654</td></tr>",
            "<tr><td>magyar/angol</td><td>irodalom</td><td>3391</td><td>5654</td></tr>",
            "<tr><td>német</td><td>irodalom</td><td>3391</td><td>5654</td></tr>",
            "<tr><td>olasz</td><td>irodalom</td><td>3391</td><td>5654</td></tr>",
            "<tr><td>orosz</td><td>irodalom</td><td>3391</td><td>5654</td></tr>",
            "<tr><td>angol</td><td>ismeretterjesztő</td><td>3256</td><td>6072</td></tr>",
            "<tr><td>angol/német</td><td>ismeretterjesztő</td><td>3256</td><td>6072</td></tr>",
            "<tr><td>francia</td><td>ismeretterjesztő</td><td>3256</td><td>6072</td></tr>",
            "<tr><td>magyar</td><td>ismeretterjesztő</td><td>3256</td><td>6072</td></tr>",
            "<tr><td>magyar/angol</td><td>ismeretterjesztő</td><td>3256</td><td>6072</td></tr>",
            "<tr><td>német</td><td>ismeretterjesztő</td><td>3256</td><td>6072</td></tr>",
            "<tr><td>olasz</td><td>ismeretterjesztő</td><td>3256</td><td>6072</td></tr>",
            "<tr><td>orosz</td><td>ismeretterjesztő</td><td>3256</td><td>6072</td></tr>",
            "<tr><td>angol</td><td>játék</td><td>3110</td><td>6078</td></tr>",
            "<tr><td>angol/német</td><td>játék</td><td>3110</td><td>6078</td></tr>",
            "<tr><td>francia</td><td>játék</td><td>3110</td><td>6078</td></tr>",
            "<tr><td>magyar</td><td>játék</td><td>3110</td><td>6078</td></tr>",
            "<tr><td>magyar/angol</td><td>játék</td><td>3110</td><td>6078</td></tr>",
            "<tr><td>német</td><td>játék</td><td>3110</td><td>6078</td></tr>",
            "<tr><td>olasz</td><td>játék</td><td>3110</td><td>6078</td></tr>",
            "<tr><td>orosz</td><td>játék</td><td>3110</td><td>6078</td></tr>",
            "<tr><td>angol</td><td>játék (autóverseny)</td><td>3106</td><td>5005</td></tr>",
            "<tr><td>angol/német</td><td>játék (autóverseny)</td><td>3106</td><td>5005</td></tr>",
            "<tr><td>francia</td><td>játék (autóverseny)</td><td>3106</td><td>5005</td></tr>",
            "<tr><td>magyar</td><td>játék (autóverseny)</td><td>3106</td><td>5005</td></tr>",
            "<tr><td>magyar/angol</td><td>játék (autóverseny)</td><td>3106</td><td>5005</td></tr>",
            "<tr><td>német</td><td>játék (autóverseny)</td><td>3106</td><td>5005</td></tr>",
            "<tr><td>olasz</td><td>játék (autóverseny)</td><td>3106</td><td>5005</td></tr>",
            "<tr><td>orosz</td><td>játék (autóverseny)</td><td>3106</td><td>5005</td></tr>",
            "<tr><td>angol</td><td>játék (labdarúgás)</td><td>3871</td><td>5522</td></tr>",
            "<tr><td>angol/német</td><td>játék (labdarúgás)</td><td>3871</td><td>5522</td></tr>",
            "<tr><td>francia</td><td>játék (labdarúgás)</td><td>3871</td><td>5522</td></tr>",
            "<tr><td>magyar</td><td>játék (labdarúgás)</td><td>3871</td><td>5522</td></tr>",
            "<tr><td>magyar/angol</td><td>játék (labdarúgás)</td><td>3871</td><td>5522</td></tr>",
            "<tr><td>német</td><td>játék (labdarúgás)</td><td>3871</td><td>5522</td></tr>",
            "<tr><td>olasz</td><td>játék (labdarúgás)</td><td>3871</td><td>5522</td></tr>",
            "<tr><td>orosz</td><td>játék (labdarúgás)</td><td>3871</td><td>5522</td></tr>",
            "<tr><td>angol</td><td>matematika</td><td>3105</td><td>5995</td></tr>",
            "<tr><td>angol/német</td><td>matematika</td><td>3105</td><td>5995</td></tr>",
            "<tr><td>francia</td><td>matematika</td><td>3105</td><td>5995</td></tr>",
            "<tr><td>magyar</td><td>matematika</td><td>3105</td><td>5995</td></tr>",
            "<tr><td>magyar/angol</td><td>matematika</td><td>3105</td><td>5995</td></tr>",
            "<tr><td>német</td><td>matematika</td><td>3105</td><td>5995</td></tr>",
            "<tr><td>olasz</td><td>matematika</td><td>3105</td><td>5995</td></tr>",
            "<tr><td>orosz</td><td>matematika</td><td>3105</td><td>5995</td></tr>",
            "<tr><td>angol</td><td>művészet</td><td>3490</td><td>6098</td></tr>",
            "<tr><td>angol/német</td><td>művészet</td><td>3490</td><td>6098</td></tr>",
            "<tr><td>francia</td><td>művészet</td><td>3490</td><td>6098</td></tr>",
            "<tr><td>magyar</td><td>művészet</td><td>3490</td><td>6098</td></tr>",
            "<tr><td>magyar/angol</td><td>művészet</td><td>3490</td><td>6098</td></tr>",
            "<tr><td>német</td><td>művészet</td><td>3490</td><td>6098</td></tr>",
            "<tr><td>olasz</td><td>művészet</td><td>3490</td><td>6098</td></tr>",
            "<tr><td>orosz</td><td>művészet</td><td>3490</td><td>6098</td></tr>",
            "<tr><td>angol</td><td>nyelvtan</td><td>3688</td><td>5845</td></tr>",
            "<tr><td>angol/német</td><td>nyelvtan</td><td>3688</td><td>5845</td></tr>",
            "<tr><td>francia</td><td>nyelvtan</td><td>3688</td><td>5845</td></tr>",
            "<tr><td>magyar</td><td>nyelvtan</td><td>3688</td><td>5845</td></tr>",
            "<tr><td>magyar/angol</td><td>nyelvtan</td><td>3688</td><td>5845</td></tr>",
            "<tr><td>német</td><td>nyelvtan</td><td>3688</td><td>5845</td></tr>",
            "<tr><td>olasz</td><td>nyelvtan</td><td>3688</td><td>5845</td></tr>",
            "<tr><td>orosz</td><td>nyelvtan</td><td>3688</td><td>5845</td></tr>",
            "<tr><td>angol</td><td>nyelvtanító</td><td>3115</td><td>6082</td></tr>",
            "<tr><td>angol/német</td><td>nyelvtanító</td><td>3115</td><td>6082</td></tr>",
            "<tr><td>francia</td><td>nyelvtanító</td><td>3115</td><td>6082</td></tr>",
            "<tr><td>magyar</td><td>nyelvtanító</td><td>3115</td><td>6082</td></tr>",
            "<tr><td>magyar/angol</td><td>nyelvtanító</td><td>3115</td><td>6082</td></tr>",
            "<tr><td>német</td><td>nyelvtanító</td><td>3115</td><td>6082</td></tr>",
            "<tr><td>olasz</td><td>nyelvtanító</td><td>3115</td><td>6082</td></tr>",
            "<tr><td>orosz</td><td>nyelvtanító</td><td>3115</td><td>6082</td></tr>",
            "<tr><td>angol</td><td>számítástechnika</td><td>3277</td><td>5260</td></tr>",
            "<tr><td>angol/német</td><td>számítástechnika</td><td>3277</td><td>5260</td></tr>",
            "<tr><td>francia</td><td>számítástechnika</td><td>3277</td><td>5260</td></tr>",
            "<tr><td>magyar</td><td>számítástechnika</td><td>3277</td><td>5260</td></tr>",
            "<tr><td>magyar/angol</td><td>számítástechnika</td><td>3277</td><td>5260</td></tr>",
            "<tr><td>német</td><td>számítástechnika</td><td>3277</td><td>5260</td></tr>",
            "<tr><td>olasz</td><td>számítástechnika</td><td>3277</td><td>5260</td></tr>",
            "<tr><td>orosz</td><td>számítástechnika</td><td>3277</td><td>5260</td></tr>",
            "<tr><td>angol</td><td>szótár</td><td>3509</td><td>5734</td></tr>",
            "<tr><td>angol/német</td><td>szótár</td><td>3509</td><td>5734</td></tr>",
            "<tr><td>francia</td><td>szótár</td><td>3509</td><td>5734</td></tr>",
            "<tr><td>magyar</td><td>szótár</td><td>3509</td><td>5734</td></tr>",
            "<tr><td>magyar/angol</td><td>szótár</td><td>3509</td><td>5734</td></tr>",
            "<tr><td>német</td><td>szótár</td><td>3509</td><td>5734</td></tr>",
            "<tr><td>olasz</td><td>szótár</td><td>3509</td><td>5734</td></tr>",
            "<tr><td>orosz</td><td>szótár</td><td>3509</td><td>5734</td></tr>",
            "<tr><td>angol</td><td>történelem</td><td>3122</td><td>6084</td></tr>",
            "<tr><td>angol/német</td><td>történelem</td><td>3122</td><td>6084</td></tr>",
            "<tr><td>francia</td><td>történelem</td><td>3122</td><td>6084</td></tr>",
            "<tr><td>magyar</td><td>történelem</td><td>3122</td><td>6084</td></tr>",
            "<tr><td>magyar/angol</td><td>történelem</td><td>3122</td><td>6084</td></tr>",
            "<tr><td>német</td><td>történelem</td><td>3122</td><td>6084</td></tr>",
            "<tr><td>olasz</td><td>történelem</td><td>3122</td><td>6084</td></tr>",
            "<tr><td>orosz</td><td>történelem</td><td>3122</td><td>6084</td></tr>",
            "<tr><td>angol</td><td>zene</td><td>3391</td><td>5730</td></tr>",
            "<tr><td>angol/német</td><td>zene</td><td>3391</td><td>5730</td></tr>",
            "<tr><td>francia</td><td>zene</td><td>3391</td><td>5730</td></tr>",
            "<tr><td>magyar</td><td>zene</td><td>3391</td><td>5730</td></tr>",
            "<tr><td>magyar/angol</td><td>zene</td><td>3391</td><td>5730</td></tr>",
            "<tr><td>német</td><td>zene</td><td>3391</td><td>5730</td></tr>",
            "<tr><td>olasz</td><td>zene</td><td>3391</td><td>5730</td></tr>",
            "<tr><td>orosz</td><td>zene</td><td>3391</td><td>5730</td></tr>",
            "</table>"
        ]
    }
}
],
            "execution_count": 24
        },
        {
            "cell_type": "markdown",
            "source": [
                "4. <span style=\"color: rgb(36, 41, 47); font-family: -apple-system, BlinkMacSystemFont, &quot;Segoe UI&quot;, Helvetica, Arial, sans-serif, &quot;Apple Color Emoji&quot;, &quot;Segoe UI Emoji&quot;; font-size: 16px;\">Készítsünk listát, amely a csoportokat hoz létre aszerint, hogy a mai naptól számítva hány nap telt el a kölcsönzés kezdete óta. A lista jelenítse meg csoportonkénti bontásban a kikölcsönzött dvd-k számát!</span>\n",
                "\n",
                "1. Az oszlopokat nevezzük el értelemszerűen!\n",
                "2. A listát rendezzük az eltelt napok száma szerint csökkenő sorrendbe!"
            ],
            "metadata": {
                "azdata_cell_guid": "6478e469-c094-472c-a772-ccd5b5c61516"
            },
            "attachments": {}
        },
        {
            "cell_type": "code",
            "source": [
                ""
            ],
            "metadata": {
                "azdata_cell_guid": "02031ea2-3838-458d-839c-228e3b362b61",
                "language": "sql"
            },
            "outputs": [],
            "execution_count": null
        },
        {
            "cell_type": "markdown",
            "source": [
                "5. <span style=\"color: rgb(36, 41, 47); font-family: -apple-system, BlinkMacSystemFont, &quot;Segoe UI&quot;, Helvetica, Arial, sans-serif, &quot;Apple Color Emoji&quot;, &quot;Segoe UI Emoji&quot;; font-size: 16px;\">A kölcsönző tulajdonosa elhatározza, hogy ezentúl kerekebb árakat alkalmaz. Ezért minden dvd árát 1000 Ft-ra kerekíti. Készítsünk lekérdezést, amely megmutatja, hogy melyik 1000 Ft-ra kerekített ár szerint, azon belül stílus szerint hány db dvd összesen raktáron! **</span>\n",
                "\n",
                "1. Csak olyan csoportokat listázzunk, ahol a raktárkészlet legalább 30!\n",
                "2. A listát rendezzük kerekített ár szerint, azon belül raktárkészlet szerint növekvő sorrendbe!"
            ],
            "metadata": {
                "azdata_cell_guid": "9edbbaf9-c276-4898-9a01-e1b2993c089f"
            },
            "attachments": {}
        },
        {
            "cell_type": "code",
            "source": [
                ""
            ],
            "metadata": {
                "azdata_cell_guid": "5ad5fdcb-2878-4111-861a-833bcd50e935",
                "language": "sql"
            },
            "outputs": [],
            "execution_count": null
        },
        {
            "cell_type": "markdown",
            "source": [
                "6. <span style=\"font-weight: 600; color: rgb(36, 41, 47); font-family: -apple-system, BlinkMacSystemFont, &quot;Segoe UI&quot;, Helvetica, Arial, sans-serif, &quot;Apple Color Emoji&quot;, &quot;Segoe UI Emoji&quot;; font-size: 16px;\">A dvd-ket csoportosíthatjuk aszerint, hogy milyen hosszú a címük. Amelyiknél a cím hosszúsága 10 karakter alatt van, az legyen Rövid, 10-20-ig Átlagos, 20 felett Hosszú. Hány Rövid, Átlagos, illetve Hosszú dvd-van összesen raktáron?</span>\n",
                "\n",
                "1. Az oszlopok neve legyen 'Cím hosszúság' és 'Darabszám"
            ],
            "metadata": {
                "azdata_cell_guid": "5fe65c1c-2479-45ac-ad03-ec99d12eae21"
            },
            "attachments": {}
        },
        {
            "cell_type": "code",
            "source": [
                ""
            ],
            "metadata": {
                "azdata_cell_guid": "924f2dde-f1c2-4def-a7f9-dbf4bace7735",
                "language": "sql"
            },
            "outputs": [],
            "execution_count": null
        },
        {
            "cell_type": "markdown",
            "source": [
                "7. <span style=\"color: rgb(36, 41, 47); font-family: -apple-system, BlinkMacSystemFont, &quot;Segoe UI&quot;, Helvetica, Arial, sans-serif, &quot;Apple Color Emoji&quot;, &quot;Segoe UI Emoji&quot;; font-size: 16px;\">Készítsünk listát arról, hogy melyik teremben hány óra van!</span>\n",
                "\n",
                "1. Jelenítsük meg a termek azonosítóit és a teremben tartott órák számát!\n",
                "2. Az oszlopokat nevezzük el értelemszerűen!\n",
                "3. Szűrjünk azokra a termekre, ahol az órák száma legalább 3!"
            ],
            "metadata": {
                "azdata_cell_guid": "3aeb6bf5-b111-40d5-92b2-9712ce335696"
            },
            "attachments": {}
        },
        {
            "cell_type": "code",
            "source": [
                ""
            ],
            "metadata": {
                "azdata_cell_guid": "3e89b651-f56f-4102-af52-30eb2bbe360d",
                "language": "sql"
            },
            "outputs": [],
            "execution_count": null
        },
        {
            "cell_type": "markdown",
            "source": [
                "8. <span style=\"color: rgb(36, 41, 47); font-family: -apple-system, BlinkMacSystemFont, &quot;Segoe UI&quot;, Helvetica, Arial, sans-serif, &quot;Apple Color Emoji&quot;, &quot;Segoe UI Emoji&quot;; font-size: 16px;\">Készítsünk lekérdezést, amely megadja, hogy minimálian és maximálisan hány kreditet ér egy tantárgy!</span>\n",
                "\n",
                "1. Az oszlopokat nevezzük el értelemszerűen!\n",
                "2. Ne vegyük figyelembe azokat a tantárgyakat, amelyek nevében az „alapjai” szó szerepel, vagy a tantárgy neve 10 karakternél rövidebb!"
            ],
            "metadata": {
                "azdata_cell_guid": "26a504dc-ff6a-439f-94c0-4580eca3eacf"
            },
            "attachments": {}
        },
        {
            "cell_type": "code",
            "source": [
                ""
            ],
            "metadata": {
                "azdata_cell_guid": "1cbb8aeb-78b5-4350-aa45-e3202fdab85b",
                "language": "sql"
            },
            "outputs": [],
            "execution_count": null
        },
        {
            "cell_type": "markdown",
            "source": [
                "9. <span style=\"color: rgb(36, 41, 47); font-family: -apple-system, BlinkMacSystemFont, &quot;Segoe UI&quot;, Helvetica, Arial, sans-serif, &quot;Apple Color Emoji&quot;, &quot;Segoe UI Emoji&quot;; font-size: 16px;\">A tapasztalat alapján a tanársegédeknek 8, az óraadóknak 10 órájuk van egy héten. A többiek annyi órát tartanak, amennyi az elvárt óraszámuk. Készítsünk lekérdezést, amely minden beosztáshoz megjeleníti, hogy hetente hány túlóra tartozik hozzá!</span>\n",
                "\n",
                "1. A lekérdezés csak a beosztások nevét és a heti túlórák számát jelenítse meg!"
            ],
            "metadata": {
                "azdata_cell_guid": "435e2860-2dd5-4877-90f4-34a43baeb53c"
            },
            "attachments": {}
        },
        {
            "cell_type": "code",
            "source": [
                ""
            ],
            "metadata": {
                "azdata_cell_guid": "ce846351-ddbe-4d8e-b8fb-2a92c73ac80b",
                "language": "sql"
            },
            "outputs": [],
            "execution_count": null
        },
        {
            "cell_type": "markdown",
            "source": [
                "10. <span style=\"font-weight: 600; color: rgb(36, 41, 47); font-family: -apple-system, BlinkMacSystemFont, &quot;Segoe UI&quot;, Helvetica, Arial, sans-serif, &quot;Apple Color Emoji&quot;, &quot;Segoe UI Emoji&quot;; font-size: 16px;\">Melyek azok az oktatók, akiknek nincs órájuk?</span>\n",
                "\n",
                "1. Csak az oktatók neve jelenjen meg!\n",
                "2. ÖTLET: használjunk LEFT JOIN-t, és szűrjünk azokra a rekordokra, ahol NULL érték van a JOIN utáni feltétel jobb oldalán!"
            ],
            "metadata": {
                "azdata_cell_guid": "217c5772-afe2-4a7c-b913-e3a3e09d6411"
            },
            "attachments": {}
        },
        {
            "cell_type": "code",
            "source": [
                ""
            ],
            "metadata": {
                "azdata_cell_guid": "a9cc0926-3dbd-4ed8-8179-1c39d64a0762",
                "language": "sql"
            },
            "outputs": [],
            "execution_count": null
        },
        {
            "cell_type": "markdown",
            "source": [
                "11. <span style=\"font-weight: 600; color: rgb(36, 41, 47); font-family: -apple-system, BlinkMacSystemFont, &quot;Segoe UI&quot;, Helvetica, Arial, sans-serif, &quot;Apple Color Emoji&quot;, &quot;Segoe UI Emoji&quot;; font-size: 16px;\">Készítsünk lekérdezést, amely részletesen megjeleníti az egyes órák fontosabb adatait, azaz</span>\n",
                "\n",
                "1. Az órák azonosítóit, a tanár nevét, a tantárgy nevét, a terem nevét és a kezdési időpontot!\n",
                "2. Az oszlopokat nevezzük el értelemszerűen!"
            ],
            "metadata": {
                "azdata_cell_guid": "d2340f5f-1614-473c-b937-85740d67f7c1"
            },
            "attachments": {}
        },
        {
            "cell_type": "code",
            "source": [
                ""
            ],
            "metadata": {
                "azdata_cell_guid": "e99c2c53-898f-4787-b0e6-182d106dc16f",
                "language": "sql"
            },
            "outputs": [],
            "execution_count": null
        },
        {
            "cell_type": "markdown",
            "source": [
                "12. <span style=\"color: rgb(36, 41, 47); font-family: -apple-system, BlinkMacSystemFont, &quot;Segoe UI&quot;, Helvetica, Arial, sans-serif, &quot;Apple Color Emoji&quot;, &quot;Segoe UI Emoji&quot;; font-size: 16px;\">Készítsünk listát, amely tartalmazza az egyes órák azonosítóit, és az órán oktatott tantárgy felelősének nevét!</span>\n",
                "\n",
                "1. Rendezzük a listát a tantárgyfelelős neve szerint csökkenő sorrendbe!"
            ],
            "metadata": {
                "azdata_cell_guid": "a765e9d6-58b3-4171-872a-78f3118fd6e3"
            },
            "attachments": {}
        },
        {
            "cell_type": "code",
            "source": [
                ""
            ],
            "metadata": {
                "azdata_cell_guid": "422e8127-b652-4d3a-bfd7-9b1637b5781e",
                "language": "sql"
            },
            "outputs": [],
            "execution_count": null
        },
        {
            "cell_type": "markdown",
            "source": [
                "13. <span style=\"color: rgb(36, 41, 47); font-family: -apple-system, BlinkMacSystemFont, &quot;Segoe UI&quot;, Helvetica, Arial, sans-serif, &quot;Apple Color Emoji&quot;, &quot;Segoe UI Emoji&quot;; font-size: 16px;\">Készítsünk listát, amely megjeleníti, hogy az Orak táblában lévő órák közül hányat tart Dr., illetve nem Dr. titulusú tanár!</span>\n",
                "\n",
                "1. Az oszlopokat nevezzük el értelemszerűen!"
            ],
            "metadata": {
                "azdata_cell_guid": "3f9237ae-f109-401c-acb9-31d75e73331b"
            },
            "attachments": {}
        },
        {
            "cell_type": "code",
            "source": [
                ""
            ],
            "metadata": {
                "azdata_cell_guid": "4b31bb89-cfbc-46b1-8639-85c462877786",
                "language": "sql"
            },
            "outputs": [],
            "execution_count": null
        },
        {
            "cell_type": "markdown",
            "source": [
                "14. <span style=\"color: rgb(36, 41, 47); font-family: -apple-system, BlinkMacSystemFont, &quot;Segoe UI&quot;, Helvetica, Arial, sans-serif, &quot;Apple Color Emoji&quot;, &quot;Segoe UI Emoji&quot;; font-size: 16px;\">Készítsünk listát arról, hogy beosztásonként hány óra szerepel az Orak táblában!</span>\n",
                "\n",
                "1. Jelenítsük meg a beosztások nevét és az órák számát!\n",
                "2. A listát szűrjük azokra a beosztásokra, ahol ez az óraszám 10 feletti!"
            ],
            "metadata": {
                "azdata_cell_guid": "f634e09a-85ef-4e70-8ec6-ef355dfddaa7"
            },
            "attachments": {}
        },
        {
            "cell_type": "code",
            "source": [
                ""
            ],
            "metadata": {
                "azdata_cell_guid": "88abc55b-2c78-495b-a72f-3f8f4eb5fe70",
                "language": "sql"
            },
            "outputs": [],
            "execution_count": null
        },
        {
            "cell_type": "markdown",
            "source": [
                "15. <span style=\"color: rgb(36, 41, 47); font-family: -apple-system, BlinkMacSystemFont, &quot;Segoe UI&quot;, Helvetica, Arial, sans-serif, &quot;Apple Color Emoji&quot;, &quot;Segoe UI Emoji&quot;; font-size: 16px;\">Melyek azok az órák, amelyek kezdési időpontja olyan sávba esik, amely a mostani időpont (óra:perc) után van?</span>\n",
                "\n",
                "1. Listázzuk az órák azonosítóit, valamint az órakezdés napját és időpontját!\n",
                "2. A listát rendezzük az időpont szerint növekvő sorrendbe!"
            ],
            "metadata": {
                "azdata_cell_guid": "4cbf2f0d-a65d-480a-8186-ccdb24498443"
            },
            "attachments": {}
        },
        {
            "cell_type": "code",
            "source": [
                ""
            ],
            "metadata": {
                "azdata_cell_guid": "c148aee8-bc85-40bf-b80a-a4898a6c05cb",
                "language": "sql"
            },
            "outputs": [],
            "execution_count": null
        }
    ]
}