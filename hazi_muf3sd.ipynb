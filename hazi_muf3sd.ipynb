{
    "metadata": {
        "kernelspec": {
            "name": "SQL",
            "display_name": "SQL",
            "language": "sql"
        },
        "language_info": {
            "name": "sql",
            "version": ""
        }
    },
    "nbformat_minor": 2,
    "nbformat": 4,
    "cells": [
        {
            "cell_type": "code",
            "source": [
                "Select *\r\n",
                "From Flat"
            ],
            "metadata": {
                "azdata_cell_guid": "732c2972-d5a1-4b4b-9dd5-c8c666e25811",
                "language": "sql"
            },
            "outputs": [
                {
                    "output_type": "display_data",
                    "data": {
                        "text/html": "(104 rows affected)"
                    },
                    "metadata": {}
                },
                {
                    "output_type": "display_data",
                    "data": {
                        "text/html": "Total execution time: 00:00:00.083"
                    },
                    "metadata": {}
                },
                {
                    "output_type": "execute_result",
                    "metadata": {},
                    "execution_count": 1,
                    "data": {
                        "application/vnd.dataresource+json": {
                            "schema": {
                                "fields": [
                                    {
                                        "name": "FlatSK"
                                    },
                                    {
                                        "name": "Code"
                                    },
                                    {
                                        "name": "Vendor"
                                    },
                                    {
                                        "name": "Side"
                                    },
                                    {
                                        "name": "District"
                                    },
                                    {
                                        "name": "Elevator"
                                    },
                                    {
                                        "name": "NumberOfRooms"
                                    },
                                    {
                                        "name": "FloorArea"
                                    },
                                    {
                                        "name": "Price"
                                    }
                                ]
                            },
                            "data": [
                                {
                                    "FlatSK": "1",
                                    "Code": "CH0741",
                                    "Vendor": "Christy  Olson",
                                    "Side": "Pest",
                                    "District": "7",
                                    "Elevator": "0",
                                    "NumberOfRooms": "1.00",
                                    "FloorArea": "33",
                                    "Price": "7.50"
                                },
                                {
                                    "FlatSK": "2",
                                    "Code": "DA0744",
                                    "Vendor": "Dan  Peterson",
                                    "Side": "Pest",
                                    "District": "7",
                                    "Elevator": "0",
                                    "NumberOfRooms": "3.50",
                                    "FloorArea": "97",
                                    "Price": "29.90"
                                },
                                {
                                    "FlatSK": "3",
                                    "Code": "MA0937",
                                    "Vendor": "Mable  Lindsey",
                                    "Side": "Pest",
                                    "District": "9",
                                    "Elevator": "0",
                                    "NumberOfRooms": "2.50",
                                    "FloorArea": "73",
                                    "Price": "23.80"
                                },
                                {
                                    "FlatSK": "4",
                                    "Code": "KY0938",
                                    "Vendor": "Kyle  Carr",
                                    "Side": "Pest",
                                    "District": "9",
                                    "Elevator": "0",
                                    "NumberOfRooms": "2.00",
                                    "FloorArea": "62",
                                    "Price": "14.80"
                                },
                                {
                                    "FlatSK": "5",
                                    "Code": "RA2068",
                                    "Vendor": "Rachel  Gomez",
                                    "Side": "Pest",
                                    "District": "20",
                                    "Elevator": "0",
                                    "NumberOfRooms": "3.00",
                                    "FloorArea": "90",
                                    "Price": "25.00"
                                },
                                {
                                    "FlatSK": "6",
                                    "Code": "IS0925",
                                    "Vendor": "Isabel  Cross",
                                    "Side": "Pest",
                                    "District": "9",
                                    "Elevator": "0",
                                    "NumberOfRooms": "1.00",
                                    "FloorArea": "49",
                                    "Price": "15.00"
                                },
                                {
                                    "FlatSK": "7",
                                    "Code": "BI0711",
                                    "Vendor": "Billie  Chandler",
                                    "Side": "Pest",
                                    "District": "7",
                                    "Elevator": "0",
                                    "NumberOfRooms": "2.00",
                                    "FloorArea": "83",
                                    "Price": "18.00"
                                },
                                {
                                    "FlatSK": "8",
                                    "Code": "SY1256",
                                    "Vendor": "Sylvester  Morales",
                                    "Side": "Buda",
                                    "District": "12",
                                    "Elevator": "0",
                                    "NumberOfRooms": "3.00",
                                    "FloorArea": "91",
                                    "Price": "32.90"
                                },
                                {
                                    "FlatSK": "9",
                                    "Code": "RA1091",
                                    "Vendor": "Rachel  Gomez",
                                    "Side": "Pest",
                                    "District": "10",
                                    "Elevator": "1",
                                    "NumberOfRooms": "2.00",
                                    "FloorArea": "49",
                                    "Price": "8.70"
                                },
                                {
                                    "FlatSK": "10",
                                    "Code": "BE0846",
                                    "Vendor": "Beth  Tucker",
                                    "Side": "Pest",
                                    "District": "8",
                                    "Elevator": "0",
                                    "NumberOfRooms": "1.00",
                                    "FloorArea": "36",
                                    "Price": "10.50"
                                },
                                {
                                    "FlatSK": "11",
                                    "Code": "SH0740",
                                    "Vendor": "Shari  Silva",
                                    "Side": "Pest",
                                    "District": "7",
                                    "Elevator": "0",
                                    "NumberOfRooms": "2.50",
                                    "FloorArea": "84",
                                    "Price": "25.00"
                                },
                                {
                                    "FlatSK": "12",
                                    "Code": "DR1364",
                                    "Vendor": "Drew  Rogers",
                                    "Side": "Pest",
                                    "District": "13",
                                    "Elevator": "1",
                                    "NumberOfRooms": "2.50",
                                    "FloorArea": "58",
                                    "Price": "11.90"
                                },
                                {
                                    "FlatSK": "13",
                                    "Code": "AR0236",
                                    "Vendor": "Arturo  Francis",
                                    "Side": "Buda",
                                    "District": "2",
                                    "Elevator": "0",
                                    "NumberOfRooms": "1.00",
                                    "FloorArea": "57",
                                    "Price": "16.00"
                                },
                                {
                                    "FlatSK": "14",
                                    "Code": "MA1330",
                                    "Vendor": "Mable  Lindsey",
                                    "Side": "Pest",
                                    "District": "13",
                                    "Elevator": "0",
                                    "NumberOfRooms": "1.00",
                                    "FloorArea": "47",
                                    "Price": "11.30"
                                },
                                {
                                    "FlatSK": "15",
                                    "Code": "SH1327",
                                    "Vendor": "Shari  Silva",
                                    "Side": "Pest",
                                    "District": "13",
                                    "Elevator": "1",
                                    "NumberOfRooms": "2.50",
                                    "FloorArea": "58",
                                    "Price": "11.60"
                                },
                                {
                                    "FlatSK": "16",
                                    "Code": "RA0930",
                                    "Vendor": "Rachel  Gomez",
                                    "Side": "Pest",
                                    "District": "9",
                                    "Elevator": "0",
                                    "NumberOfRooms": "2.00",
                                    "FloorArea": "62",
                                    "Price": "14.40"
                                },
                                {
                                    "FlatSK": "17",
                                    "Code": "JE1383",
                                    "Vendor": "Jenny  Garcia",
                                    "Side": "Pest",
                                    "District": "13",
                                    "Elevator": "1",
                                    "NumberOfRooms": "1.00",
                                    "FloorArea": "27",
                                    "Price": "7.80"
                                },
                                {
                                    "FlatSK": "18",
                                    "Code": "CO1048",
                                    "Vendor": "Colleen  Warren",
                                    "Side": "Pest",
                                    "District": "10",
                                    "Elevator": "1",
                                    "NumberOfRooms": "2.50",
                                    "FloorArea": "53",
                                    "Price": "10.40"
                                },
                                {
                                    "FlatSK": "19",
                                    "Code": "PA0965",
                                    "Vendor": "Pauline  Beck",
                                    "Side": "Pest",
                                    "District": "9",
                                    "Elevator": "0",
                                    "NumberOfRooms": "1.50",
                                    "FloorArea": "43",
                                    "Price": "12.00"
                                },
                                {
                                    "FlatSK": "20",
                                    "Code": "SH1339",
                                    "Vendor": "Shari  Silva",
                                    "Side": "Pest",
                                    "District": "13",
                                    "Elevator": "1",
                                    "NumberOfRooms": "3.00",
                                    "FloorArea": "68",
                                    "Price": "14.60"
                                },
                                {
                                    "FlatSK": "21",
                                    "Code": "JE0528",
                                    "Vendor": "Jenny  Garcia",
                                    "Side": "Pest",
                                    "District": "5",
                                    "Elevator": "0",
                                    "NumberOfRooms": "4.00",
                                    "FloorArea": "120",
                                    "Price": "42.90"
                                },
                                {
                                    "FlatSK": "22",
                                    "Code": "BE0986",
                                    "Vendor": "Ben  Perez",
                                    "Side": "Pest",
                                    "District": "9",
                                    "Elevator": "0",
                                    "NumberOfRooms": "2.50",
                                    "FloorArea": "72",
                                    "Price": "17.90"
                                },
                                {
                                    "FlatSK": "23",
                                    "Code": "CA0959",
                                    "Vendor": "Cassandra  Franklin",
                                    "Side": "Pest",
                                    "District": "9",
                                    "Elevator": "0",
                                    "NumberOfRooms": "3.50",
                                    "FloorArea": "113",
                                    "Price": "36.00"
                                },
                                {
                                    "FlatSK": "24",
                                    "Code": "EL0399",
                                    "Vendor": "Elaine  Ellis",
                                    "Side": "Buda",
                                    "District": "3",
                                    "Elevator": "0",
                                    "NumberOfRooms": "2.00",
                                    "FloorArea": "69",
                                    "Price": "20.50"
                                },
                                {
                                    "FlatSK": "25",
                                    "Code": "BE0269",
                                    "Vendor": "Beth  Tucker",
                                    "Side": "Buda",
                                    "District": "2",
                                    "Elevator": "0",
                                    "NumberOfRooms": "3.00",
                                    "FloorArea": "90",
                                    "Price": "26.00"
                                },
                                {
                                    "FlatSK": "26",
                                    "Code": "CA1359",
                                    "Vendor": "Cassandra  Franklin",
                                    "Side": "Pest",
                                    "District": "13",
                                    "Elevator": "0",
                                    "NumberOfRooms": "3.00",
                                    "FloorArea": "95",
                                    "Price": "19.90"
                                },
                                {
                                    "FlatSK": "27",
                                    "Code": "CO1840",
                                    "Vendor": "Colleen  Warren",
                                    "Side": "Pest",
                                    "District": "18",
                                    "Elevator": "1",
                                    "NumberOfRooms": "2.00",
                                    "FloorArea": "60",
                                    "Price": "8.90"
                                },
                                {
                                    "FlatSK": "28",
                                    "Code": "CA0952",
                                    "Vendor": "Cassandra  Franklin",
                                    "Side": "Pest",
                                    "District": "9",
                                    "Elevator": "0",
                                    "NumberOfRooms": "2.50",
                                    "FloorArea": "68",
                                    "Price": "20.80"
                                },
                                {
                                    "FlatSK": "29",
                                    "Code": "CA1566",
                                    "Vendor": "Cassandra  Franklin",
                                    "Side": "Pest",
                                    "District": "15",
                                    "Elevator": "1",
                                    "NumberOfRooms": "3.00",
                                    "FloorArea": "71",
                                    "Price": "12.60"
                                },
                                {
                                    "FlatSK": "30",
                                    "Code": "NE0627",
                                    "Vendor": "Nellie  Joseph",
                                    "Side": "Pest",
                                    "District": "6",
                                    "Elevator": "0",
                                    "NumberOfRooms": "1.00",
                                    "FloorArea": "42",
                                    "Price": "14.00"
                                },
                                {
                                    "FlatSK": "31",
                                    "Code": "GU0981",
                                    "Vendor": "Guillermo  Potter",
                                    "Side": "Pest",
                                    "District": "9",
                                    "Elevator": "1",
                                    "NumberOfRooms": "1.00",
                                    "FloorArea": "36",
                                    "Price": "10.30"
                                },
                                {
                                    "FlatSK": "32",
                                    "Code": "LY1497",
                                    "Vendor": "Lynette  Brewer",
                                    "Side": "Pest",
                                    "District": "14",
                                    "Elevator": "1",
                                    "NumberOfRooms": "3.00",
                                    "FloorArea": "68",
                                    "Price": "13.50"
                                },
                                {
                                    "FlatSK": "33",
                                    "Code": "RA1337",
                                    "Vendor": "Rachel  Gomez",
                                    "Side": "Pest",
                                    "District": "13",
                                    "Elevator": "1",
                                    "NumberOfRooms": "2.50",
                                    "FloorArea": "74",
                                    "Price": "13.90"
                                },
                                {
                                    "FlatSK": "34",
                                    "Code": "LA0923",
                                    "Vendor": "Lance  Yates",
                                    "Side": "Pest",
                                    "District": "9",
                                    "Elevator": "0",
                                    "NumberOfRooms": "2.50",
                                    "FloorArea": "58",
                                    "Price": "13.70"
                                },
                                {
                                    "FlatSK": "35",
                                    "Code": "AR0366",
                                    "Vendor": "Arturo  Francis",
                                    "Side": "Buda",
                                    "District": "3",
                                    "Elevator": "0",
                                    "NumberOfRooms": "1.50",
                                    "FloorArea": "38",
                                    "Price": "11.90"
                                },
                                {
                                    "FlatSK": "36",
                                    "Code": "LU0965",
                                    "Vendor": "Lula  Daniels",
                                    "Side": "Pest",
                                    "District": "9",
                                    "Elevator": "0",
                                    "NumberOfRooms": "4.00",
                                    "FloorArea": "160",
                                    "Price": "43.00"
                                },
                                {
                                    "FlatSK": "37",
                                    "Code": "BE0221",
                                    "Vendor": "Bethany  Pena",
                                    "Side": "Buda",
                                    "District": "2",
                                    "Elevator": "0",
                                    "NumberOfRooms": "2.00",
                                    "FloorArea": "63",
                                    "Price": "17.90"
                                },
                                {
                                    "FlatSK": "38",
                                    "Code": "RO0499",
                                    "Vendor": "Robert  Munoz",
                                    "Side": "Pest",
                                    "District": "4",
                                    "Elevator": "1",
                                    "NumberOfRooms": "2.50",
                                    "FloorArea": "72",
                                    "Price": "12.00"
                                },
                                {
                                    "FlatSK": "39",
                                    "Code": "SH0987",
                                    "Vendor": "Shari  Silva",
                                    "Side": "Pest",
                                    "District": "9",
                                    "Elevator": "0",
                                    "NumberOfRooms": "2.00",
                                    "FloorArea": "71",
                                    "Price": "16.50"
                                },
                                {
                                    "FlatSK": "40",
                                    "Code": "CI0666",
                                    "Vendor": "Cindy  Becker",
                                    "Side": "Pest",
                                    "District": "6",
                                    "Elevator": "0",
                                    "NumberOfRooms": "1.00",
                                    "FloorArea": "50",
                                    "Price": "16.00"
                                },
                                {
                                    "FlatSK": "41",
                                    "Code": "GU0146",
                                    "Vendor": "Guillermo  Potter",
                                    "Side": "Buda",
                                    "District": "1",
                                    "Elevator": "0",
                                    "NumberOfRooms": "1.50",
                                    "FloorArea": "40",
                                    "Price": "11.00"
                                },
                                {
                                    "FlatSK": "42",
                                    "Code": "SA1391",
                                    "Vendor": "Sandra  Floyd",
                                    "Side": "Pest",
                                    "District": "13",
                                    "Elevator": "1",
                                    "NumberOfRooms": "2.50",
                                    "FloorArea": "55",
                                    "Price": "12.80"
                                },
                                {
                                    "FlatSK": "43",
                                    "Code": "BI0630",
                                    "Vendor": "Billie  Chandler",
                                    "Side": "Pest",
                                    "District": "6",
                                    "Elevator": "0",
                                    "NumberOfRooms": "1.00",
                                    "FloorArea": "52",
                                    "Price": "17.70"
                                },
                                {
                                    "FlatSK": "44",
                                    "Code": "IS0470",
                                    "Vendor": "Isabel  Cross",
                                    "Side": "Pest",
                                    "District": "4",
                                    "Elevator": "1",
                                    "NumberOfRooms": "2.50",
                                    "FloorArea": "59",
                                    "Price": "11.00"
                                },
                                {
                                    "FlatSK": "45",
                                    "Code": "BE0122",
                                    "Vendor": "Bernadette  Page",
                                    "Side": "Buda",
                                    "District": "1",
                                    "Elevator": "0",
                                    "NumberOfRooms": "2.00",
                                    "FloorArea": "70",
                                    "Price": "29.90"
                                },
                                {
                                    "FlatSK": "46",
                                    "Code": "AN1357",
                                    "Vendor": "Andrew  Meyer",
                                    "Side": "Pest",
                                    "District": "13",
                                    "Elevator": "0",
                                    "NumberOfRooms": "1.50",
                                    "FloorArea": "42",
                                    "Price": "11.50"
                                },
                                {
                                    "FlatSK": "47",
                                    "Code": "LE1390",
                                    "Vendor": "Lee  Mack",
                                    "Side": "Pest",
                                    "District": "13",
                                    "Elevator": "0",
                                    "NumberOfRooms": "2.00",
                                    "FloorArea": "57",
                                    "Price": "18.60"
                                },
                                {
                                    "FlatSK": "48",
                                    "Code": "BO1390",
                                    "Vendor": "Bobbie  Ryan",
                                    "Side": "Pest",
                                    "District": "13",
                                    "Elevator": "1",
                                    "NumberOfRooms": "2.00",
                                    "FloorArea": "74",
                                    "Price": "15.90"
                                },
                                {
                                    "FlatSK": "49",
                                    "Code": "TR1315",
                                    "Vendor": "Trevor  Jones",
                                    "Side": "Pest",
                                    "District": "13",
                                    "Elevator": "0",
                                    "NumberOfRooms": "1.00",
                                    "FloorArea": "29",
                                    "Price": "8.30"
                                },
                                {
                                    "FlatSK": "50",
                                    "Code": "ER0897",
                                    "Vendor": "Eric  Rose",
                                    "Side": "Pest",
                                    "District": "8",
                                    "Elevator": "0",
                                    "NumberOfRooms": "3.00",
                                    "FloorArea": "110",
                                    "Price": "21.90"
                                },
                                {
                                    "FlatSK": "51",
                                    "Code": "DO0765",
                                    "Vendor": "Donna  Reid",
                                    "Side": "Pest",
                                    "District": "7",
                                    "Elevator": "0",
                                    "NumberOfRooms": "1.00",
                                    "FloorArea": "36",
                                    "Price": "8.20"
                                },
                                {
                                    "FlatSK": "52",
                                    "Code": "IV0288",
                                    "Vendor": "Ivan  Adkins",
                                    "Side": "Buda",
                                    "District": "2",
                                    "Elevator": "0",
                                    "NumberOfRooms": "2.00",
                                    "FloorArea": "99",
                                    "Price": "35.00"
                                },
                                {
                                    "FlatSK": "53",
                                    "Code": "BI0996",
                                    "Vendor": "Billie  Chandler",
                                    "Side": "Pest",
                                    "District": "9",
                                    "Elevator": "0",
                                    "NumberOfRooms": "1.00",
                                    "FloorArea": "34",
                                    "Price": "8.90"
                                },
                                {
                                    "FlatSK": "54",
                                    "Code": "JE0981",
                                    "Vendor": "Jenny  Garcia",
                                    "Side": "Pest",
                                    "District": "9",
                                    "Elevator": "0",
                                    "NumberOfRooms": "1.50",
                                    "FloorArea": "40",
                                    "Price": "10.90"
                                },
                                {
                                    "FlatSK": "55",
                                    "Code": "AN0548",
                                    "Vendor": "Andrew  Meyer",
                                    "Side": "Pest",
                                    "District": "5",
                                    "Elevator": "0",
                                    "NumberOfRooms": "2.50",
                                    "FloorArea": "84",
                                    "Price": "29.50"
                                },
                                {
                                    "FlatSK": "56",
                                    "Code": "BR1334",
                                    "Vendor": "Brooke  Horton",
                                    "Side": "Pest",
                                    "District": "13",
                                    "Elevator": "1",
                                    "NumberOfRooms": "2.00",
                                    "FloorArea": "58",
                                    "Price": "11.80"
                                },
                                {
                                    "FlatSK": "57",
                                    "Code": "MA1319",
                                    "Vendor": "Max  Rodgers",
                                    "Side": "Pest",
                                    "District": "13",
                                    "Elevator": "0",
                                    "NumberOfRooms": "1.00",
                                    "FloorArea": "24",
                                    "Price": "6.20"
                                },
                                {
                                    "FlatSK": "58",
                                    "Code": "ER0938",
                                    "Vendor": "Eric  Rose",
                                    "Side": "Pest",
                                    "District": "9",
                                    "Elevator": "0",
                                    "NumberOfRooms": "2.50",
                                    "FloorArea": "71",
                                    "Price": "16.90"
                                },
                                {
                                    "FlatSK": "59",
                                    "Code": "RA1326",
                                    "Vendor": "Rachel  Gomez",
                                    "Side": "Pest",
                                    "District": "13",
                                    "Elevator": "0",
                                    "NumberOfRooms": "5.00",
                                    "FloorArea": "70",
                                    "Price": "27.00"
                                },
                                {
                                    "FlatSK": "60",
                                    "Code": "MA0669",
                                    "Vendor": "Max  Rodgers",
                                    "Side": "Pest",
                                    "District": "6",
                                    "Elevator": "0",
                                    "NumberOfRooms": "1.00",
                                    "FloorArea": "45",
                                    "Price": "12.00"
                                },
                                {
                                    "FlatSK": "61",
                                    "Code": "RO0978",
                                    "Vendor": "Robert  Munoz",
                                    "Side": "Pest",
                                    "District": "9",
                                    "Elevator": "0",
                                    "NumberOfRooms": "1.50",
                                    "FloorArea": "52",
                                    "Price": "16.50"
                                },
                                {
                                    "FlatSK": "62",
                                    "Code": "DO0926",
                                    "Vendor": "Don  Gonzales",
                                    "Side": "Pest",
                                    "District": "9",
                                    "Elevator": "0",
                                    "NumberOfRooms": "2.00",
                                    "FloorArea": "58",
                                    "Price": "18.50"
                                },
                                {
                                    "FlatSK": "63",
                                    "Code": "CE1134",
                                    "Vendor": "Cecilia  Manning",
                                    "Side": "Buda",
                                    "District": "11",
                                    "Elevator": "1",
                                    "NumberOfRooms": "3.00",
                                    "FloorArea": "65",
                                    "Price": "11.50"
                                },
                                {
                                    "FlatSK": "64",
                                    "Code": "CI0865",
                                    "Vendor": "Cindy  Becker",
                                    "Side": "Pest",
                                    "District": "8",
                                    "Elevator": "0",
                                    "NumberOfRooms": "2.50",
                                    "FloorArea": "97",
                                    "Price": "20.00"
                                },
                                {
                                    "FlatSK": "65",
                                    "Code": "BR1356",
                                    "Vendor": "Brooke  Horton",
                                    "Side": "Pest",
                                    "District": "13",
                                    "Elevator": "0",
                                    "NumberOfRooms": "1.00",
                                    "FloorArea": "23",
                                    "Price": "7.00"
                                },
                                {
                                    "FlatSK": "66",
                                    "Code": "IV1790",
                                    "Vendor": "Ivan  Adkins",
                                    "Side": "Pest",
                                    "District": "17",
                                    "Elevator": "1",
                                    "NumberOfRooms": "3.00",
                                    "FloorArea": "78",
                                    "Price": "11.90"
                                },
                                {
                                    "FlatSK": "67",
                                    "Code": "CH1017",
                                    "Vendor": "Christina  Fuller",
                                    "Side": "Pest",
                                    "District": "10",
                                    "Elevator": "1",
                                    "NumberOfRooms": "1.00",
                                    "FloorArea": "36",
                                    "Price": "6.90"
                                },
                                {
                                    "FlatSK": "68",
                                    "Code": "PE1588",
                                    "Vendor": "Peter  Hodges",
                                    "Side": "Pest",
                                    "District": "15",
                                    "Elevator": "1",
                                    "NumberOfRooms": "2.00",
                                    "FloorArea": "55",
                                    "Price": "10.50"
                                },
                                {
                                    "FlatSK": "69",
                                    "Code": "BE1367",
                                    "Vendor": "Ben  Perez",
                                    "Side": "Pest",
                                    "District": "13",
                                    "Elevator": "0",
                                    "NumberOfRooms": "2.00",
                                    "FloorArea": "50",
                                    "Price": "14.50"
                                },
                                {
                                    "FlatSK": "70",
                                    "Code": "AN1358",
                                    "Vendor": "Andrew  Meyer",
                                    "Side": "Pest",
                                    "District": "13",
                                    "Elevator": "0",
                                    "NumberOfRooms": "1.00",
                                    "FloorArea": "44",
                                    "Price": "13.00"
                                },
                                {
                                    "FlatSK": "71",
                                    "Code": "PE0719",
                                    "Vendor": "Peter  Hodges",
                                    "Side": "Pest",
                                    "District": "7",
                                    "Elevator": "0",
                                    "NumberOfRooms": "2.00",
                                    "FloorArea": "57",
                                    "Price": "14.70"
                                },
                                {
                                    "FlatSK": "72",
                                    "Code": "BI0965",
                                    "Vendor": "Billie  Chandler",
                                    "Side": "Pest",
                                    "District": "9",
                                    "Elevator": "0",
                                    "NumberOfRooms": "3.00",
                                    "FloorArea": "105",
                                    "Price": "29.00"
                                },
                                {
                                    "FlatSK": "73",
                                    "Code": "RO0851",
                                    "Vendor": "Robert  Munoz",
                                    "Side": "Pest",
                                    "District": "8",
                                    "Elevator": "0",
                                    "NumberOfRooms": "1.00",
                                    "FloorArea": "43",
                                    "Price": "11.00"
                                },
                                {
                                    "FlatSK": "74",
                                    "Code": "SA0821",
                                    "Vendor": "Salvador  Bass",
                                    "Side": "Pest",
                                    "District": "8",
                                    "Elevator": "0",
                                    "NumberOfRooms": "1.00",
                                    "FloorArea": "27",
                                    "Price": "8.60"
                                },
                                {
                                    "FlatSK": "75",
                                    "Code": "SA1363",
                                    "Vendor": "Salvador  Bass",
                                    "Side": "Pest",
                                    "District": "13",
                                    "Elevator": "0",
                                    "NumberOfRooms": "2.00",
                                    "FloorArea": "39",
                                    "Price": "16.90"
                                },
                                {
                                    "FlatSK": "76",
                                    "Code": "BO1318",
                                    "Vendor": "Bobbie  Ryan",
                                    "Side": "Pest",
                                    "District": "13",
                                    "Elevator": "1",
                                    "NumberOfRooms": "4.00",
                                    "FloorArea": "75",
                                    "Price": "16.00"
                                },
                                {
                                    "FlatSK": "77",
                                    "Code": "AN0232",
                                    "Vendor": "Andrew  Meyer",
                                    "Side": "Buda",
                                    "District": "2",
                                    "Elevator": "0",
                                    "NumberOfRooms": "2.00",
                                    "FloorArea": "60",
                                    "Price": "19.90"
                                },
                                {
                                    "FlatSK": "78",
                                    "Code": "DR1337",
                                    "Vendor": "Drew  Rogers",
                                    "Side": "Pest",
                                    "District": "13",
                                    "Elevator": "0",
                                    "NumberOfRooms": "2.00",
                                    "FloorArea": "96",
                                    "Price": "31.50"
                                },
                                {
                                    "FlatSK": "79",
                                    "Code": "IS0934",
                                    "Vendor": "Isabel  Cross",
                                    "Side": "Pest",
                                    "District": "9",
                                    "Elevator": "0",
                                    "NumberOfRooms": "2.00",
                                    "FloorArea": "61",
                                    "Price": "15.70"
                                },
                                {
                                    "FlatSK": "80",
                                    "Code": "DE1351",
                                    "Vendor": "Della  Jensen",
                                    "Side": "Pest",
                                    "District": "13",
                                    "Elevator": "0",
                                    "NumberOfRooms": "1.00",
                                    "FloorArea": "26",
                                    "Price": "7.30"
                                },
                                {
                                    "FlatSK": "81",
                                    "Code": "LO0948",
                                    "Vendor": "Lorraine  Gibson",
                                    "Side": "Pest",
                                    "District": "9",
                                    "Elevator": "0",
                                    "NumberOfRooms": "1.00",
                                    "FloorArea": "30",
                                    "Price": "9.40"
                                },
                                {
                                    "FlatSK": "82",
                                    "Code": "SH1338",
                                    "Vendor": "Shari  Silva",
                                    "Side": "Pest",
                                    "District": "13",
                                    "Elevator": "1",
                                    "NumberOfRooms": "3.50",
                                    "FloorArea": "80",
                                    "Price": "16.80"
                                },
                                {
                                    "FlatSK": "83",
                                    "Code": "DR1354",
                                    "Vendor": "Drew  Rogers",
                                    "Side": "Pest",
                                    "District": "13",
                                    "Elevator": "1",
                                    "NumberOfRooms": "1.00",
                                    "FloorArea": "27",
                                    "Price": "7.20"
                                },
                                {
                                    "FlatSK": "84",
                                    "Code": "IR0944",
                                    "Vendor": "Iris  Underwood",
                                    "Side": "Pest",
                                    "District": "9",
                                    "Elevator": "0",
                                    "NumberOfRooms": "3.00",
                                    "FloorArea": "96",
                                    "Price": "29.90"
                                },
                                {
                                    "FlatSK": "85",
                                    "Code": "DR0960",
                                    "Vendor": "Drew  Rogers",
                                    "Side": "Pest",
                                    "District": "9",
                                    "Elevator": "0",
                                    "NumberOfRooms": "2.00",
                                    "FloorArea": "72",
                                    "Price": "16.80"
                                },
                                {
                                    "FlatSK": "86",
                                    "Code": "JE1430",
                                    "Vendor": "Jenny  Garcia",
                                    "Side": "Pest",
                                    "District": "14",
                                    "Elevator": "0",
                                    "NumberOfRooms": "1.00",
                                    "FloorArea": "29",
                                    "Price": "8.50"
                                },
                                {
                                    "FlatSK": "87",
                                    "Code": "LO0862",
                                    "Vendor": "Lorraine  Gibson",
                                    "Side": "Pest",
                                    "District": "8",
                                    "Elevator": "0",
                                    "NumberOfRooms": "3.00",
                                    "FloorArea": "100",
                                    "Price": "15.80"
                                },
                                {
                                    "FlatSK": "88",
                                    "Code": "EL0590",
                                    "Vendor": "Elaine  Ellis",
                                    "Side": "Pest",
                                    "District": "5",
                                    "Elevator": "0",
                                    "NumberOfRooms": "2.00",
                                    "FloorArea": "81",
                                    "Price": "25.90"
                                },
                                {
                                    "FlatSK": "89",
                                    "Code": "ER0866",
                                    "Vendor": "Eric  Rose",
                                    "Side": "Pest",
                                    "District": "8",
                                    "Elevator": "0",
                                    "NumberOfRooms": "1.00",
                                    "FloorArea": "31",
                                    "Price": "7.90"
                                },
                                {
                                    "FlatSK": "90",
                                    "Code": "IS0528",
                                    "Vendor": "Isabel  Cross",
                                    "Side": "Pest",
                                    "District": "5",
                                    "Elevator": "0",
                                    "NumberOfRooms": "2.00",
                                    "FloorArea": "62",
                                    "Price": "27.40"
                                },
                                {
                                    "FlatSK": "91",
                                    "Code": "BI1347",
                                    "Vendor": "Billie  Chandler",
                                    "Side": "Pest",
                                    "District": "13",
                                    "Elevator": "0",
                                    "NumberOfRooms": "1.00",
                                    "FloorArea": "40",
                                    "Price": "16.50"
                                },
                                {
                                    "FlatSK": "92",
                                    "Code": "WO0991",
                                    "Vendor": "Woodrow  Colon",
                                    "Side": "Pest",
                                    "District": "9",
                                    "Elevator": "0",
                                    "NumberOfRooms": "1.00",
                                    "FloorArea": "40",
                                    "Price": "11.50"
                                },
                                {
                                    "FlatSK": "93",
                                    "Code": "ED1192",
                                    "Vendor": "Edwin  Malone",
                                    "Side": "Buda",
                                    "District": "11",
                                    "Elevator": "0",
                                    "NumberOfRooms": "3.00",
                                    "FloorArea": "105",
                                    "Price": "29.00"
                                },
                                {
                                    "FlatSK": "94",
                                    "Code": "PA1384",
                                    "Vendor": "Paulette  Spencer",
                                    "Side": "Pest",
                                    "District": "13",
                                    "Elevator": "0",
                                    "NumberOfRooms": "2.00",
                                    "FloorArea": "54",
                                    "Price": "15.50"
                                },
                                {
                                    "FlatSK": "95",
                                    "Code": "CA1420",
                                    "Vendor": "Cassandra  Franklin",
                                    "Side": "Pest",
                                    "District": "14",
                                    "Elevator": "0",
                                    "NumberOfRooms": "1.00",
                                    "FloorArea": "38",
                                    "Price": "10.50"
                                },
                                {
                                    "FlatSK": "96",
                                    "Code": "AL1364",
                                    "Vendor": "Allan  Ramos",
                                    "Side": "Pest",
                                    "District": "13",
                                    "Elevator": "0",
                                    "NumberOfRooms": "3.00",
                                    "FloorArea": "77",
                                    "Price": "36.00"
                                },
                                {
                                    "FlatSK": "97",
                                    "Code": "ER1359",
                                    "Vendor": "Eric  Rose",
                                    "Side": "Pest",
                                    "District": "13",
                                    "Elevator": "0",
                                    "NumberOfRooms": "1.00",
                                    "FloorArea": "25",
                                    "Price": "6.60"
                                },
                                {
                                    "FlatSK": "98",
                                    "Code": "CA0657",
                                    "Vendor": "Cassandra  Franklin",
                                    "Side": "Pest",
                                    "District": "6",
                                    "Elevator": "0",
                                    "NumberOfRooms": "4.50",
                                    "FloorArea": "153",
                                    "Price": "37.30"
                                },
                                {
                                    "FlatSK": "99",
                                    "Code": "DE0967",
                                    "Vendor": "Della  Jensen",
                                    "Side": "Pest",
                                    "District": "9",
                                    "Elevator": "0",
                                    "NumberOfRooms": "2.50",
                                    "FloorArea": "80",
                                    "Price": "18.20"
                                },
                                {
                                    "FlatSK": "100",
                                    "Code": "SH0895",
                                    "Vendor": "Shari  Silva",
                                    "Side": "Pest",
                                    "District": "8",
                                    "Elevator": "0",
                                    "NumberOfRooms": "2.00",
                                    "FloorArea": "77",
                                    "Price": "16.50"
                                },
                                {
                                    "FlatSK": "101",
                                    "Code": "AU2181",
                                    "Vendor": "Austin  Reynolds",
                                    "Side": "Pest",
                                    "District": "21",
                                    "Elevator": "1",
                                    "NumberOfRooms": "2.00",
                                    "FloorArea": "35",
                                    "Price": "8.00"
                                },
                                {
                                    "FlatSK": "102",
                                    "Code": "DA0914",
                                    "Vendor": "Dan  Peterson",
                                    "Side": "Pest",
                                    "District": "9",
                                    "Elevator": "0",
                                    "NumberOfRooms": "2.00",
                                    "FloorArea": "82",
                                    "Price": "18.00"
                                },
                                {
                                    "FlatSK": "103",
                                    "Code": "EL1511",
                                    "Vendor": "Elbert  Klein",
                                    "Side": "Pest",
                                    "District": "15",
                                    "Elevator": "0",
                                    "NumberOfRooms": "1.00",
                                    "FloorArea": "32",
                                    "Price": "11.00"
                                },
                                {
                                    "FlatSK": "104",
                                    "Code": "NE1267",
                                    "Vendor": "Nellie  Joseph",
                                    "Side": "Buda",
                                    "District": "12",
                                    "Elevator": "0",
                                    "NumberOfRooms": "3.00",
                                    "FloorArea": "68",
                                    "Price": "39.00"
                                }
                            ]
                        },
                        "text/html": [
                            "<table>",
                            "<tr><th>FlatSK</th><th>Code</th><th>Vendor</th><th>Side</th><th>District</th><th>Elevator</th><th>NumberOfRooms</th><th>FloorArea</th><th>Price</th></tr>",
                            "<tr><td>1</td><td>CH0741</td><td>Christy  Olson</td><td>Pest</td><td>7</td><td>0</td><td>1.00</td><td>33</td><td>7.50</td></tr>",
                            "<tr><td>2</td><td>DA0744</td><td>Dan  Peterson</td><td>Pest</td><td>7</td><td>0</td><td>3.50</td><td>97</td><td>29.90</td></tr>",
                            "<tr><td>3</td><td>MA0937</td><td>Mable  Lindsey</td><td>Pest</td><td>9</td><td>0</td><td>2.50</td><td>73</td><td>23.80</td></tr>",
                            "<tr><td>4</td><td>KY0938</td><td>Kyle  Carr</td><td>Pest</td><td>9</td><td>0</td><td>2.00</td><td>62</td><td>14.80</td></tr>",
                            "<tr><td>5</td><td>RA2068</td><td>Rachel  Gomez</td><td>Pest</td><td>20</td><td>0</td><td>3.00</td><td>90</td><td>25.00</td></tr>",
                            "<tr><td>6</td><td>IS0925</td><td>Isabel  Cross</td><td>Pest</td><td>9</td><td>0</td><td>1.00</td><td>49</td><td>15.00</td></tr>",
                            "<tr><td>7</td><td>BI0711</td><td>Billie  Chandler</td><td>Pest</td><td>7</td><td>0</td><td>2.00</td><td>83</td><td>18.00</td></tr>",
                            "<tr><td>8</td><td>SY1256</td><td>Sylvester  Morales</td><td>Buda</td><td>12</td><td>0</td><td>3.00</td><td>91</td><td>32.90</td></tr>",
                            "<tr><td>9</td><td>RA1091</td><td>Rachel  Gomez</td><td>Pest</td><td>10</td><td>1</td><td>2.00</td><td>49</td><td>8.70</td></tr>",
                            "<tr><td>10</td><td>BE0846</td><td>Beth  Tucker</td><td>Pest</td><td>8</td><td>0</td><td>1.00</td><td>36</td><td>10.50</td></tr>",
                            "<tr><td>11</td><td>SH0740</td><td>Shari  Silva</td><td>Pest</td><td>7</td><td>0</td><td>2.50</td><td>84</td><td>25.00</td></tr>",
                            "<tr><td>12</td><td>DR1364</td><td>Drew  Rogers</td><td>Pest</td><td>13</td><td>1</td><td>2.50</td><td>58</td><td>11.90</td></tr>",
                            "<tr><td>13</td><td>AR0236</td><td>Arturo  Francis</td><td>Buda</td><td>2</td><td>0</td><td>1.00</td><td>57</td><td>16.00</td></tr>",
                            "<tr><td>14</td><td>MA1330</td><td>Mable  Lindsey</td><td>Pest</td><td>13</td><td>0</td><td>1.00</td><td>47</td><td>11.30</td></tr>",
                            "<tr><td>15</td><td>SH1327</td><td>Shari  Silva</td><td>Pest</td><td>13</td><td>1</td><td>2.50</td><td>58</td><td>11.60</td></tr>",
                            "<tr><td>16</td><td>RA0930</td><td>Rachel  Gomez</td><td>Pest</td><td>9</td><td>0</td><td>2.00</td><td>62</td><td>14.40</td></tr>",
                            "<tr><td>17</td><td>JE1383</td><td>Jenny  Garcia</td><td>Pest</td><td>13</td><td>1</td><td>1.00</td><td>27</td><td>7.80</td></tr>",
                            "<tr><td>18</td><td>CO1048</td><td>Colleen  Warren</td><td>Pest</td><td>10</td><td>1</td><td>2.50</td><td>53</td><td>10.40</td></tr>",
                            "<tr><td>19</td><td>PA0965</td><td>Pauline  Beck</td><td>Pest</td><td>9</td><td>0</td><td>1.50</td><td>43</td><td>12.00</td></tr>",
                            "<tr><td>20</td><td>SH1339</td><td>Shari  Silva</td><td>Pest</td><td>13</td><td>1</td><td>3.00</td><td>68</td><td>14.60</td></tr>",
                            "<tr><td>21</td><td>JE0528</td><td>Jenny  Garcia</td><td>Pest</td><td>5</td><td>0</td><td>4.00</td><td>120</td><td>42.90</td></tr>",
                            "<tr><td>22</td><td>BE0986</td><td>Ben  Perez</td><td>Pest</td><td>9</td><td>0</td><td>2.50</td><td>72</td><td>17.90</td></tr>",
                            "<tr><td>23</td><td>CA0959</td><td>Cassandra  Franklin</td><td>Pest</td><td>9</td><td>0</td><td>3.50</td><td>113</td><td>36.00</td></tr>",
                            "<tr><td>24</td><td>EL0399</td><td>Elaine  Ellis</td><td>Buda</td><td>3</td><td>0</td><td>2.00</td><td>69</td><td>20.50</td></tr>",
                            "<tr><td>25</td><td>BE0269</td><td>Beth  Tucker</td><td>Buda</td><td>2</td><td>0</td><td>3.00</td><td>90</td><td>26.00</td></tr>",
                            "<tr><td>26</td><td>CA1359</td><td>Cassandra  Franklin</td><td>Pest</td><td>13</td><td>0</td><td>3.00</td><td>95</td><td>19.90</td></tr>",
                            "<tr><td>27</td><td>CO1840</td><td>Colleen  Warren</td><td>Pest</td><td>18</td><td>1</td><td>2.00</td><td>60</td><td>8.90</td></tr>",
                            "<tr><td>28</td><td>CA0952</td><td>Cassandra  Franklin</td><td>Pest</td><td>9</td><td>0</td><td>2.50</td><td>68</td><td>20.80</td></tr>",
                            "<tr><td>29</td><td>CA1566</td><td>Cassandra  Franklin</td><td>Pest</td><td>15</td><td>1</td><td>3.00</td><td>71</td><td>12.60</td></tr>",
                            "<tr><td>30</td><td>NE0627</td><td>Nellie  Joseph</td><td>Pest</td><td>6</td><td>0</td><td>1.00</td><td>42</td><td>14.00</td></tr>",
                            "<tr><td>31</td><td>GU0981</td><td>Guillermo  Potter</td><td>Pest</td><td>9</td><td>1</td><td>1.00</td><td>36</td><td>10.30</td></tr>",
                            "<tr><td>32</td><td>LY1497</td><td>Lynette  Brewer</td><td>Pest</td><td>14</td><td>1</td><td>3.00</td><td>68</td><td>13.50</td></tr>",
                            "<tr><td>33</td><td>RA1337</td><td>Rachel  Gomez</td><td>Pest</td><td>13</td><td>1</td><td>2.50</td><td>74</td><td>13.90</td></tr>",
                            "<tr><td>34</td><td>LA0923</td><td>Lance  Yates</td><td>Pest</td><td>9</td><td>0</td><td>2.50</td><td>58</td><td>13.70</td></tr>",
                            "<tr><td>35</td><td>AR0366</td><td>Arturo  Francis</td><td>Buda</td><td>3</td><td>0</td><td>1.50</td><td>38</td><td>11.90</td></tr>",
                            "<tr><td>36</td><td>LU0965</td><td>Lula  Daniels</td><td>Pest</td><td>9</td><td>0</td><td>4.00</td><td>160</td><td>43.00</td></tr>",
                            "<tr><td>37</td><td>BE0221</td><td>Bethany  Pena</td><td>Buda</td><td>2</td><td>0</td><td>2.00</td><td>63</td><td>17.90</td></tr>",
                            "<tr><td>38</td><td>RO0499</td><td>Robert  Munoz</td><td>Pest</td><td>4</td><td>1</td><td>2.50</td><td>72</td><td>12.00</td></tr>",
                            "<tr><td>39</td><td>SH0987</td><td>Shari  Silva</td><td>Pest</td><td>9</td><td>0</td><td>2.00</td><td>71</td><td>16.50</td></tr>",
                            "<tr><td>40</td><td>CI0666</td><td>Cindy  Becker</td><td>Pest</td><td>6</td><td>0</td><td>1.00</td><td>50</td><td>16.00</td></tr>",
                            "<tr><td>41</td><td>GU0146</td><td>Guillermo  Potter</td><td>Buda</td><td>1</td><td>0</td><td>1.50</td><td>40</td><td>11.00</td></tr>",
                            "<tr><td>42</td><td>SA1391</td><td>Sandra  Floyd</td><td>Pest</td><td>13</td><td>1</td><td>2.50</td><td>55</td><td>12.80</td></tr>",
                            "<tr><td>43</td><td>BI0630</td><td>Billie  Chandler</td><td>Pest</td><td>6</td><td>0</td><td>1.00</td><td>52</td><td>17.70</td></tr>",
                            "<tr><td>44</td><td>IS0470</td><td>Isabel  Cross</td><td>Pest</td><td>4</td><td>1</td><td>2.50</td><td>59</td><td>11.00</td></tr>",
                            "<tr><td>45</td><td>BE0122</td><td>Bernadette  Page</td><td>Buda</td><td>1</td><td>0</td><td>2.00</td><td>70</td><td>29.90</td></tr>",
                            "<tr><td>46</td><td>AN1357</td><td>Andrew  Meyer</td><td>Pest</td><td>13</td><td>0</td><td>1.50</td><td>42</td><td>11.50</td></tr>",
                            "<tr><td>47</td><td>LE1390</td><td>Lee  Mack</td><td>Pest</td><td>13</td><td>0</td><td>2.00</td><td>57</td><td>18.60</td></tr>",
                            "<tr><td>48</td><td>BO1390</td><td>Bobbie  Ryan</td><td>Pest</td><td>13</td><td>1</td><td>2.00</td><td>74</td><td>15.90</td></tr>",
                            "<tr><td>49</td><td>TR1315</td><td>Trevor  Jones</td><td>Pest</td><td>13</td><td>0</td><td>1.00</td><td>29</td><td>8.30</td></tr>",
                            "<tr><td>50</td><td>ER0897</td><td>Eric  Rose</td><td>Pest</td><td>8</td><td>0</td><td>3.00</td><td>110</td><td>21.90</td></tr>",
                            "<tr><td>51</td><td>DO0765</td><td>Donna  Reid</td><td>Pest</td><td>7</td><td>0</td><td>1.00</td><td>36</td><td>8.20</td></tr>",
                            "<tr><td>52</td><td>IV0288</td><td>Ivan  Adkins</td><td>Buda</td><td>2</td><td>0</td><td>2.00</td><td>99</td><td>35.00</td></tr>",
                            "<tr><td>53</td><td>BI0996</td><td>Billie  Chandler</td><td>Pest</td><td>9</td><td>0</td><td>1.00</td><td>34</td><td>8.90</td></tr>",
                            "<tr><td>54</td><td>JE0981</td><td>Jenny  Garcia</td><td>Pest</td><td>9</td><td>0</td><td>1.50</td><td>40</td><td>10.90</td></tr>",
                            "<tr><td>55</td><td>AN0548</td><td>Andrew  Meyer</td><td>Pest</td><td>5</td><td>0</td><td>2.50</td><td>84</td><td>29.50</td></tr>",
                            "<tr><td>56</td><td>BR1334</td><td>Brooke  Horton</td><td>Pest</td><td>13</td><td>1</td><td>2.00</td><td>58</td><td>11.80</td></tr>",
                            "<tr><td>57</td><td>MA1319</td><td>Max  Rodgers</td><td>Pest</td><td>13</td><td>0</td><td>1.00</td><td>24</td><td>6.20</td></tr>",
                            "<tr><td>58</td><td>ER0938</td><td>Eric  Rose</td><td>Pest</td><td>9</td><td>0</td><td>2.50</td><td>71</td><td>16.90</td></tr>",
                            "<tr><td>59</td><td>RA1326</td><td>Rachel  Gomez</td><td>Pest</td><td>13</td><td>0</td><td>5.00</td><td>70</td><td>27.00</td></tr>",
                            "<tr><td>60</td><td>MA0669</td><td>Max  Rodgers</td><td>Pest</td><td>6</td><td>0</td><td>1.00</td><td>45</td><td>12.00</td></tr>",
                            "<tr><td>61</td><td>RO0978</td><td>Robert  Munoz</td><td>Pest</td><td>9</td><td>0</td><td>1.50</td><td>52</td><td>16.50</td></tr>",
                            "<tr><td>62</td><td>DO0926</td><td>Don  Gonzales</td><td>Pest</td><td>9</td><td>0</td><td>2.00</td><td>58</td><td>18.50</td></tr>",
                            "<tr><td>63</td><td>CE1134</td><td>Cecilia  Manning</td><td>Buda</td><td>11</td><td>1</td><td>3.00</td><td>65</td><td>11.50</td></tr>",
                            "<tr><td>64</td><td>CI0865</td><td>Cindy  Becker</td><td>Pest</td><td>8</td><td>0</td><td>2.50</td><td>97</td><td>20.00</td></tr>",
                            "<tr><td>65</td><td>BR1356</td><td>Brooke  Horton</td><td>Pest</td><td>13</td><td>0</td><td>1.00</td><td>23</td><td>7.00</td></tr>",
                            "<tr><td>66</td><td>IV1790</td><td>Ivan  Adkins</td><td>Pest</td><td>17</td><td>1</td><td>3.00</td><td>78</td><td>11.90</td></tr>",
                            "<tr><td>67</td><td>CH1017</td><td>Christina  Fuller</td><td>Pest</td><td>10</td><td>1</td><td>1.00</td><td>36</td><td>6.90</td></tr>",
                            "<tr><td>68</td><td>PE1588</td><td>Peter  Hodges</td><td>Pest</td><td>15</td><td>1</td><td>2.00</td><td>55</td><td>10.50</td></tr>",
                            "<tr><td>69</td><td>BE1367</td><td>Ben  Perez</td><td>Pest</td><td>13</td><td>0</td><td>2.00</td><td>50</td><td>14.50</td></tr>",
                            "<tr><td>70</td><td>AN1358</td><td>Andrew  Meyer</td><td>Pest</td><td>13</td><td>0</td><td>1.00</td><td>44</td><td>13.00</td></tr>",
                            "<tr><td>71</td><td>PE0719</td><td>Peter  Hodges</td><td>Pest</td><td>7</td><td>0</td><td>2.00</td><td>57</td><td>14.70</td></tr>",
                            "<tr><td>72</td><td>BI0965</td><td>Billie  Chandler</td><td>Pest</td><td>9</td><td>0</td><td>3.00</td><td>105</td><td>29.00</td></tr>",
                            "<tr><td>73</td><td>RO0851</td><td>Robert  Munoz</td><td>Pest</td><td>8</td><td>0</td><td>1.00</td><td>43</td><td>11.00</td></tr>",
                            "<tr><td>74</td><td>SA0821</td><td>Salvador  Bass</td><td>Pest</td><td>8</td><td>0</td><td>1.00</td><td>27</td><td>8.60</td></tr>",
                            "<tr><td>75</td><td>SA1363</td><td>Salvador  Bass</td><td>Pest</td><td>13</td><td>0</td><td>2.00</td><td>39</td><td>16.90</td></tr>",
                            "<tr><td>76</td><td>BO1318</td><td>Bobbie  Ryan</td><td>Pest</td><td>13</td><td>1</td><td>4.00</td><td>75</td><td>16.00</td></tr>",
                            "<tr><td>77</td><td>AN0232</td><td>Andrew  Meyer</td><td>Buda</td><td>2</td><td>0</td><td>2.00</td><td>60</td><td>19.90</td></tr>",
                            "<tr><td>78</td><td>DR1337</td><td>Drew  Rogers</td><td>Pest</td><td>13</td><td>0</td><td>2.00</td><td>96</td><td>31.50</td></tr>",
                            "<tr><td>79</td><td>IS0934</td><td>Isabel  Cross</td><td>Pest</td><td>9</td><td>0</td><td>2.00</td><td>61</td><td>15.70</td></tr>",
                            "<tr><td>80</td><td>DE1351</td><td>Della  Jensen</td><td>Pest</td><td>13</td><td>0</td><td>1.00</td><td>26</td><td>7.30</td></tr>",
                            "<tr><td>81</td><td>LO0948</td><td>Lorraine  Gibson</td><td>Pest</td><td>9</td><td>0</td><td>1.00</td><td>30</td><td>9.40</td></tr>",
                            "<tr><td>82</td><td>SH1338</td><td>Shari  Silva</td><td>Pest</td><td>13</td><td>1</td><td>3.50</td><td>80</td><td>16.80</td></tr>",
                            "<tr><td>83</td><td>DR1354</td><td>Drew  Rogers</td><td>Pest</td><td>13</td><td>1</td><td>1.00</td><td>27</td><td>7.20</td></tr>",
                            "<tr><td>84</td><td>IR0944</td><td>Iris  Underwood</td><td>Pest</td><td>9</td><td>0</td><td>3.00</td><td>96</td><td>29.90</td></tr>",
                            "<tr><td>85</td><td>DR0960</td><td>Drew  Rogers</td><td>Pest</td><td>9</td><td>0</td><td>2.00</td><td>72</td><td>16.80</td></tr>",
                            "<tr><td>86</td><td>JE1430</td><td>Jenny  Garcia</td><td>Pest</td><td>14</td><td>0</td><td>1.00</td><td>29</td><td>8.50</td></tr>",
                            "<tr><td>87</td><td>LO0862</td><td>Lorraine  Gibson</td><td>Pest</td><td>8</td><td>0</td><td>3.00</td><td>100</td><td>15.80</td></tr>",
                            "<tr><td>88</td><td>EL0590</td><td>Elaine  Ellis</td><td>Pest</td><td>5</td><td>0</td><td>2.00</td><td>81</td><td>25.90</td></tr>",
                            "<tr><td>89</td><td>ER0866</td><td>Eric  Rose</td><td>Pest</td><td>8</td><td>0</td><td>1.00</td><td>31</td><td>7.90</td></tr>",
                            "<tr><td>90</td><td>IS0528</td><td>Isabel  Cross</td><td>Pest</td><td>5</td><td>0</td><td>2.00</td><td>62</td><td>27.40</td></tr>",
                            "<tr><td>91</td><td>BI1347</td><td>Billie  Chandler</td><td>Pest</td><td>13</td><td>0</td><td>1.00</td><td>40</td><td>16.50</td></tr>",
                            "<tr><td>92</td><td>WO0991</td><td>Woodrow  Colon</td><td>Pest</td><td>9</td><td>0</td><td>1.00</td><td>40</td><td>11.50</td></tr>",
                            "<tr><td>93</td><td>ED1192</td><td>Edwin  Malone</td><td>Buda</td><td>11</td><td>0</td><td>3.00</td><td>105</td><td>29.00</td></tr>",
                            "<tr><td>94</td><td>PA1384</td><td>Paulette  Spencer</td><td>Pest</td><td>13</td><td>0</td><td>2.00</td><td>54</td><td>15.50</td></tr>",
                            "<tr><td>95</td><td>CA1420</td><td>Cassandra  Franklin</td><td>Pest</td><td>14</td><td>0</td><td>1.00</td><td>38</td><td>10.50</td></tr>",
                            "<tr><td>96</td><td>AL1364</td><td>Allan  Ramos</td><td>Pest</td><td>13</td><td>0</td><td>3.00</td><td>77</td><td>36.00</td></tr>",
                            "<tr><td>97</td><td>ER1359</td><td>Eric  Rose</td><td>Pest</td><td>13</td><td>0</td><td>1.00</td><td>25</td><td>6.60</td></tr>",
                            "<tr><td>98</td><td>CA0657</td><td>Cassandra  Franklin</td><td>Pest</td><td>6</td><td>0</td><td>4.50</td><td>153</td><td>37.30</td></tr>",
                            "<tr><td>99</td><td>DE0967</td><td>Della  Jensen</td><td>Pest</td><td>9</td><td>0</td><td>2.50</td><td>80</td><td>18.20</td></tr>",
                            "<tr><td>100</td><td>SH0895</td><td>Shari  Silva</td><td>Pest</td><td>8</td><td>0</td><td>2.00</td><td>77</td><td>16.50</td></tr>",
                            "<tr><td>101</td><td>AU2181</td><td>Austin  Reynolds</td><td>Pest</td><td>21</td><td>1</td><td>2.00</td><td>35</td><td>8.00</td></tr>",
                            "<tr><td>102</td><td>DA0914</td><td>Dan  Peterson</td><td>Pest</td><td>9</td><td>0</td><td>2.00</td><td>82</td><td>18.00</td></tr>",
                            "<tr><td>103</td><td>EL1511</td><td>Elbert  Klein</td><td>Pest</td><td>15</td><td>0</td><td>1.00</td><td>32</td><td>11.00</td></tr>",
                            "<tr><td>104</td><td>NE1267</td><td>Nellie  Joseph</td><td>Buda</td><td>12</td><td>0</td><td>3.00</td><td>68</td><td>39.00</td></tr>",
                            "</table>"
                        ]
                    }
                }
            ],
            "execution_count": 1
        },
        {
            "cell_type": "markdown",
            "source": [
                "Szoba méret adatok:"
            ],
            "metadata": {
                "azdata_cell_guid": "fc0440b2-9a6d-4bd8-ad7b-75f58e8f7b0c"
            },
            "attachments": {}
        },
        {
            "cell_type": "code",
            "source": [
                "SELECT MIN(NumberOfRooms) AS legkisebb_szoba_méret, \r\n",
                "       MAX(NumberOfRooms) AS legnagyobb_szoba_méret, \r\n",
                "       ROUND(AVG(NumberOfRooms),3) AS átlagos_szoba_méret\r\n",
                "FROM Flat"
            ],
            "metadata": {
                "azdata_cell_guid": "c9ccef20-37f8-445d-8307-a1225bb8973b",
                "language": "sql"
            },
            "outputs": [
                {
                    "output_type": "display_data",
                    "data": {
                        "text/html": "(1 row affected)"
                    },
                    "metadata": {}
                },
                {
                    "output_type": "display_data",
                    "data": {
                        "text/html": "Total execution time: 00:00:00.030"
                    },
                    "metadata": {}
                },
                {
                    "output_type": "execute_result",
                    "metadata": {},
                    "execution_count": 3,
                    "data": {
                        "application/vnd.dataresource+json": {
                            "schema": {
                                "fields": [
                                    {
                                        "name": "legkisebb_szoba_méret"
                                    },
                                    {
                                        "name": "legnagyobb_szoba_méret"
                                    },
                                    {
                                        "name": "atlagos_szoba_méret"
                                    }
                                ]
                            },
                            "data": [
                                {
                                    "legkisebb_szoba_méret": "1.00",
                                    "legnagyobb_szoba_méret": "5.00",
                                    "atlagos_szoba_méret": "2.067000"
                                }
                            ]
                        },
                        "text/html": [
                            "<table>",
                            "<tr><th>legkisebb_szoba_méret</th><th>legnagyobb_szoba_méret</th><th>atlagos_szoba_méret</th></tr>",
                            "<tr><td>1.00</td><td>5.00</td><td>2.067000</td></tr>",
                            "</table>"
                        ]
                    }
                }
            ],
            "execution_count": 3
        },
        {
            "cell_type": "markdown",
            "source": [
                "![](data:image/png;base64,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)"
            ],
            "metadata": {
                "language": "sql",
                "azdata_cell_guid": "4ccad837-f7b6-47d9-8548-747fa42e2c79"
            },
            "attachments": {}
        },
        {
            "cell_type": "markdown",
            "source": [
                "Különböző ár adatok:"
            ],
            "metadata": {
                "azdata_cell_guid": "c8929fee-5d05-43f2-a0b3-8e3473c15b03"
            },
            "attachments": {}
        },
        {
            "cell_type": "code",
            "source": [
                "SELECT MIN(Price) AS legolcsobb_ar_Millioba, \r\n",
                "       MAX(Price) AS legdragabb_ar_Millioba, \r\n",
                "       AVG(Price) AS atlagos_ar_Millioba,\r\n",
                "        STDEV(Price) AS ar_eloszlas, \r\n",
                "       VAR(Price) AS ar_variancia\r\n",
                "FROM Flat\r\n",
                "WHERE Price IS NOT NULL\r\n",
                "AND LEN(Price) > 0"
            ],
            "metadata": {
                "azdata_cell_guid": "e22051d5-3f29-4877-80c1-c6d6c680a670",
                "language": "sql"
            },
            "outputs": [
                {
                    "output_type": "display_data",
                    "data": {
                        "text/html": "(1 row affected)"
                    },
                    "metadata": {}
                },
                {
                    "output_type": "display_data",
                    "data": {
                        "text/html": "Total execution time: 00:00:00.026"
                    },
                    "metadata": {}
                },
                {
                    "output_type": "execute_result",
                    "metadata": {},
                    "execution_count": 6,
                    "data": {
                        "application/vnd.dataresource+json": {
                            "schema": {
                                "fields": [
                                    {
                                        "name": "legolcsobb_ar_Millioba"
                                    },
                                    {
                                        "name": "legdragabb_ar_Millioba"
                                    },
                                    {
                                        "name": "atlagos_ar_Millioba"
                                    },
                                    {
                                        "name": "ar_eloszlas"
                                    },
                                    {
                                        "name": "ar_variancia"
                                    }
                                ]
                            },
                            "data": [
                                {
                                    "legolcsobb_ar_Millioba": "6.20",
                                    "legdragabb_ar_Millioba": "43.00",
                                    "atlagos_ar_Millioba": "17.061538",
                                    "ar_eloszlas": "8.646906486421255",
                                    "ar_variancia": "74.76899178491396"
                                }
                            ]
                        },
                        "text/html": [
                            "<table>",
                            "<tr><th>legolcsobb_ar_Millioba</th><th>legdragabb_ar_Millioba</th><th>atlagos_ar_Millioba</th><th>ar_eloszlas</th><th>ar_variancia</th></tr>",
                            "<tr><td>6.20</td><td>43.00</td><td>17.061538</td><td>8.646906486421255</td><td>74.76899178491396</td></tr>",
                            "</table>"
                        ]
                    }
                }
            ],
            "execution_count": 6
        },
        {
            "cell_type": "markdown",
            "source": [
                "Legnépszerűbb kerületek listája (top 10)"
            ],
            "metadata": {
                "azdata_cell_guid": "b89f2c08-17c9-4462-bfb6-b6b0007eda3f"
            },
            "attachments": {}
        },
        {
            "cell_type": "code",
            "source": [
                "SELECT TOP 10\r\n",
                "    District AS kerület, \r\n",
                "    COUNT(*) darabszám\r\n",
                "from Flat\r\n",
                "WHERE District IS NOT null\r\n",
                "GROUP BY District\r\n",
                "ORDER BY COUNT(*) desc\r\n",
                "\r\n",
                ""
            ],
            "metadata": {
                "azdata_cell_guid": "60cb4ab1-f505-4346-bab4-d9becb632664",
                "language": "sql"
            },
            "outputs": [
                {
                    "output_type": "display_data",
                    "data": {
                        "text/html": "(10 rows affected)"
                    },
                    "metadata": {}
                },
                {
                    "output_type": "display_data",
                    "data": {
                        "text/html": "Total execution time: 00:00:00.040"
                    },
                    "metadata": {}
                },
                {
                    "output_type": "execute_result",
                    "metadata": {},
                    "execution_count": 8,
                    "data": {
                        "application/vnd.dataresource+json": {
                            "schema": {
                                "fields": [
                                    {
                                        "name": "kerület"
                                    },
                                    {
                                        "name": "darabszám"
                                    }
                                ]
                            },
                            "data": [
                                {
                                    "kerület": "13",
                                    "darabszám": "28"
                                },
                                {
                                    "kerület": "9",
                                    "darabszám": "25"
                                },
                                {
                                    "kerület": "8",
                                    "darabszám": "8"
                                },
                                {
                                    "kerület": "7",
                                    "darabszám": "6"
                                },
                                {
                                    "kerület": "2",
                                    "darabszám": "5"
                                },
                                {
                                    "kerület": "6",
                                    "darabszám": "5"
                                },
                                {
                                    "kerület": "5",
                                    "darabszám": "4"
                                },
                                {
                                    "kerület": "10",
                                    "darabszám": "3"
                                },
                                {
                                    "kerület": "14",
                                    "darabszám": "3"
                                },
                                {
                                    "kerület": "15",
                                    "darabszám": "3"
                                }
                            ]
                        },
                        "text/html": [
                            "<table>",
                            "<tr><th>kerület</th><th>darabszám</th></tr>",
                            "<tr><td>13</td><td>28</td></tr>",
                            "<tr><td>9</td><td>25</td></tr>",
                            "<tr><td>8</td><td>8</td></tr>",
                            "<tr><td>7</td><td>6</td></tr>",
                            "<tr><td>2</td><td>5</td></tr>",
                            "<tr><td>6</td><td>5</td></tr>",
                            "<tr><td>5</td><td>4</td></tr>",
                            "<tr><td>10</td><td>3</td></tr>",
                            "<tr><td>14</td><td>3</td></tr>",
                            "<tr><td>15</td><td>3</td></tr>",
                            "</table>"
                        ]
                    }
                }
            ],
            "execution_count": 8
        },
        {
            "cell_type": "markdown",
            "source": [
                "![](data:image/png;base64,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)"
            ],
            "metadata": {
                "azdata_cell_guid": "ec719656-9b6c-4a95-b664-a2c6b92ce6b7"
            },
            "attachments": {}
        },
        {
            "cell_type": "markdown",
            "source": [
                "10 Random összes érték"
            ],
            "metadata": {
                "azdata_cell_guid": "e17da2eb-46dc-44bc-be98-a76bd41467e6"
            },
            "attachments": {}
        },
        {
            "cell_type": "code",
            "source": [
                "SELECT * \r\n",
                "FROM Flat\r\n",
                "WHERE FlatSK IN (\r\n",
                "    SELECT TOP (10) FlatSK\r\n",
                "    FROM Flat\r\n",
                "    ORDER BY NEWID())"
            ],
            "metadata": {
                "azdata_cell_guid": "c1f51327-09a9-4085-a94a-4593921179ee",
                "language": "sql"
            },
            "outputs": [
                {
                    "output_type": "display_data",
                    "data": {
                        "text/html": "(10 rows affected)"
                    },
                    "metadata": {}
                },
                {
                    "output_type": "display_data",
                    "data": {
                        "text/html": "Total execution time: 00:00:00.028"
                    },
                    "metadata": {}
                },
                {
                    "output_type": "execute_result",
                    "metadata": {},
                    "execution_count": 10,
                    "data": {
                        "application/vnd.dataresource+json": {
                            "schema": {
                                "fields": [
                                    {
                                        "name": "FlatSK"
                                    },
                                    {
                                        "name": "Code"
                                    },
                                    {
                                        "name": "Vendor"
                                    },
                                    {
                                        "name": "Side"
                                    },
                                    {
                                        "name": "District"
                                    },
                                    {
                                        "name": "Elevator"
                                    },
                                    {
                                        "name": "NumberOfRooms"
                                    },
                                    {
                                        "name": "FloorArea"
                                    },
                                    {
                                        "name": "Price"
                                    }
                                ]
                            },
                            "data": [
                                {
                                    "FlatSK": "94",
                                    "Code": "PA1384",
                                    "Vendor": "Paulette  Spencer",
                                    "Side": "Pest",
                                    "District": "13",
                                    "Elevator": "0",
                                    "NumberOfRooms": "2.00",
                                    "FloorArea": "54",
                                    "Price": "15.50"
                                },
                                {
                                    "FlatSK": "98",
                                    "Code": "CA0657",
                                    "Vendor": "Cassandra  Franklin",
                                    "Side": "Pest",
                                    "District": "6",
                                    "Elevator": "0",
                                    "NumberOfRooms": "4.50",
                                    "FloorArea": "153",
                                    "Price": "37.30"
                                },
                                {
                                    "FlatSK": "28",
                                    "Code": "CA0952",
                                    "Vendor": "Cassandra  Franklin",
                                    "Side": "Pest",
                                    "District": "9",
                                    "Elevator": "0",
                                    "NumberOfRooms": "2.50",
                                    "FloorArea": "68",
                                    "Price": "20.80"
                                },
                                {
                                    "FlatSK": "20",
                                    "Code": "SH1339",
                                    "Vendor": "Shari  Silva",
                                    "Side": "Pest",
                                    "District": "13",
                                    "Elevator": "1",
                                    "NumberOfRooms": "3.00",
                                    "FloorArea": "68",
                                    "Price": "14.60"
                                },
                                {
                                    "FlatSK": "86",
                                    "Code": "JE1430",
                                    "Vendor": "Jenny  Garcia",
                                    "Side": "Pest",
                                    "District": "14",
                                    "Elevator": "0",
                                    "NumberOfRooms": "1.00",
                                    "FloorArea": "29",
                                    "Price": "8.50"
                                },
                                {
                                    "FlatSK": "51",
                                    "Code": "DO0765",
                                    "Vendor": "Donna  Reid",
                                    "Side": "Pest",
                                    "District": "7",
                                    "Elevator": "0",
                                    "NumberOfRooms": "1.00",
                                    "FloorArea": "36",
                                    "Price": "8.20"
                                },
                                {
                                    "FlatSK": "35",
                                    "Code": "AR0366",
                                    "Vendor": "Arturo  Francis",
                                    "Side": "Buda",
                                    "District": "3",
                                    "Elevator": "0",
                                    "NumberOfRooms": "1.50",
                                    "FloorArea": "38",
                                    "Price": "11.90"
                                },
                                {
                                    "FlatSK": "90",
                                    "Code": "IS0528",
                                    "Vendor": "Isabel  Cross",
                                    "Side": "Pest",
                                    "District": "5",
                                    "Elevator": "0",
                                    "NumberOfRooms": "2.00",
                                    "FloorArea": "62",
                                    "Price": "27.40"
                                },
                                {
                                    "FlatSK": "39",
                                    "Code": "SH0987",
                                    "Vendor": "Shari  Silva",
                                    "Side": "Pest",
                                    "District": "9",
                                    "Elevator": "0",
                                    "NumberOfRooms": "2.00",
                                    "FloorArea": "71",
                                    "Price": "16.50"
                                },
                                {
                                    "FlatSK": "77",
                                    "Code": "AN0232",
                                    "Vendor": "Andrew  Meyer",
                                    "Side": "Buda",
                                    "District": "2",
                                    "Elevator": "0",
                                    "NumberOfRooms": "2.00",
                                    "FloorArea": "60",
                                    "Price": "19.90"
                                }
                            ]
                        },
                        "text/html": [
                            "<table>",
                            "<tr><th>FlatSK</th><th>Code</th><th>Vendor</th><th>Side</th><th>District</th><th>Elevator</th><th>NumberOfRooms</th><th>FloorArea</th><th>Price</th></tr>",
                            "<tr><td>94</td><td>PA1384</td><td>Paulette  Spencer</td><td>Pest</td><td>13</td><td>0</td><td>2.00</td><td>54</td><td>15.50</td></tr>",
                            "<tr><td>98</td><td>CA0657</td><td>Cassandra  Franklin</td><td>Pest</td><td>6</td><td>0</td><td>4.50</td><td>153</td><td>37.30</td></tr>",
                            "<tr><td>28</td><td>CA0952</td><td>Cassandra  Franklin</td><td>Pest</td><td>9</td><td>0</td><td>2.50</td><td>68</td><td>20.80</td></tr>",
                            "<tr><td>20</td><td>SH1339</td><td>Shari  Silva</td><td>Pest</td><td>13</td><td>1</td><td>3.00</td><td>68</td><td>14.60</td></tr>",
                            "<tr><td>86</td><td>JE1430</td><td>Jenny  Garcia</td><td>Pest</td><td>14</td><td>0</td><td>1.00</td><td>29</td><td>8.50</td></tr>",
                            "<tr><td>51</td><td>DO0765</td><td>Donna  Reid</td><td>Pest</td><td>7</td><td>0</td><td>1.00</td><td>36</td><td>8.20</td></tr>",
                            "<tr><td>35</td><td>AR0366</td><td>Arturo  Francis</td><td>Buda</td><td>3</td><td>0</td><td>1.50</td><td>38</td><td>11.90</td></tr>",
                            "<tr><td>90</td><td>IS0528</td><td>Isabel  Cross</td><td>Pest</td><td>5</td><td>0</td><td>2.00</td><td>62</td><td>27.40</td></tr>",
                            "<tr><td>39</td><td>SH0987</td><td>Shari  Silva</td><td>Pest</td><td>9</td><td>0</td><td>2.00</td><td>71</td><td>16.50</td></tr>",
                            "<tr><td>77</td><td>AN0232</td><td>Andrew  Meyer</td><td>Buda</td><td>2</td><td>0</td><td>2.00</td><td>60</td><td>19.90</td></tr>",
                            "</table>"
                        ]
                    }
                }
            ],
            "execution_count": 10
        },
        {
            "cell_type": "markdown",
            "source": [
                "Buda VS Pesti oldal"
            ],
            "metadata": {
                "language": "sql",
                "azdata_cell_guid": "41354e44-7e5e-41bf-b284-d1f2e56d2d5c"
            },
            "attachments": {}
        },
        {
            "cell_type": "code",
            "source": [
                "SELECT Side AS Buda_vagy_Pest, \r\n",
                "       COUNT(*) AS darabszám\r\n",
                "FROM Flat\r\n",
                "WHERE Side IS NOT NULL\r\n",
                "GROUP BY Side\r\n",
                "ORDER BY darabszám DESC;\r\n",
                ""
            ],
            "metadata": {
                "azdata_cell_guid": "d58601c9-512e-4146-853a-35c9f2789a66",
                "language": "sql"
            },
            "outputs": [
                {
                    "output_type": "display_data",
                    "data": {
                        "text/html": "(2 rows affected)"
                    },
                    "metadata": {}
                },
                {
                    "output_type": "display_data",
                    "data": {
                        "text/html": "Total execution time: 00:00:00.030"
                    },
                    "metadata": {}
                },
                {
                    "output_type": "execute_result",
                    "metadata": {},
                    "execution_count": 11,
                    "data": {
                        "application/vnd.dataresource+json": {
                            "schema": {
                                "fields": [
                                    {
                                        "name": "Buda_vagy_Pest"
                                    },
                                    {
                                        "name": "darabszám"
                                    }
                                ]
                            },
                            "data": [
                                {
                                    "Buda_vagy_Pest": "Pest",
                                    "darabszám": "91"
                                },
                                {
                                    "Buda_vagy_Pest": "Buda",
                                    "darabszám": "13"
                                }
                            ]
                        },
                        "text/html": [
                            "<table>",
                            "<tr><th>Buda_vagy_Pest</th><th>darabszám</th></tr>",
                            "<tr><td>Pest</td><td>91</td></tr>",
                            "<tr><td>Buda</td><td>13</td></tr>",
                            "</table>"
                        ]
                    }
                }
            ],
            "execution_count": 11
        },
        {
            "cell_type": "markdown",
            "source": [
                "![](data:image/png;base64,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)"
            ],
            "metadata": {
                "azdata_cell_guid": "57d19f38-b55c-403f-b81e-ca0daa12e886"
            },
            "attachments": {}
        }
    ]
}