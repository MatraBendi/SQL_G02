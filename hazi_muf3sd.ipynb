{
    "metadata": {
        "kernelspec": {
            "name": "SQL",
            "display_name": "SQL",
            "language": "sql"
        },
        "language_info": {
            "name": "sql",
            "version": ""
        }
    },
    "nbformat_minor": 2,
    "nbformat": 4,
    "cells": [
        {
            "cell_type": "code",
            "source": [
                "Select *\r\n",
                "From Flat"
            ],
            "metadata": {
                "azdata_cell_guid": "732c2972-d5a1-4b4b-9dd5-c8c666e25811",
                "language": "sql"
            },
            "outputs": [
                {
                    "output_type": "display_data",
                    "data": {
                        "text/html": "(104 rows affected)"
                    },
                    "metadata": {}
                },
                {
                    "output_type": "display_data",
                    "data": {
                        "text/html": "Total execution time: 00:00:00.083"
                    },
                    "metadata": {}
                },
                {
                    "output_type": "execute_result",
                    "metadata": {},
                    "execution_count": 1,
                    "data": {
                        "application/vnd.dataresource+json": {
                            "schema": {
                                "fields": [
                                    {
                                        "name": "FlatSK"
                                    },
                                    {
                                        "name": "Code"
                                    },
                                    {
                                        "name": "Vendor"
                                    },
                                    {
                                        "name": "Side"
                                    },
                                    {
                                        "name": "District"
                                    },
                                    {
                                        "name": "Elevator"
                                    },
                                    {
                                        "name": "NumberOfRooms"
                                    },
                                    {
                                        "name": "FloorArea"
                                    },
                                    {
                                        "name": "Price"
                                    }
                                ]
                            },
                            "data": [
                                {
                                    "FlatSK": "1",
                                    "Code": "CH0741",
                                    "Vendor": "Christy  Olson",
                                    "Side": "Pest",
                                    "District": "7",
                                    "Elevator": "0",
                                    "NumberOfRooms": "1.00",
                                    "FloorArea": "33",
                                    "Price": "7.50"
                                },
                                {
                                    "FlatSK": "2",
                                    "Code": "DA0744",
                                    "Vendor": "Dan  Peterson",
                                    "Side": "Pest",
                                    "District": "7",
                                    "Elevator": "0",
                                    "NumberOfRooms": "3.50",
                                    "FloorArea": "97",
                                    "Price": "29.90"
                                },
                                {
                                    "FlatSK": "3",
                                    "Code": "MA0937",
                                    "Vendor": "Mable  Lindsey",
                                    "Side": "Pest",
                                    "District": "9",
                                    "Elevator": "0",
                                    "NumberOfRooms": "2.50",
                                    "FloorArea": "73",
                                    "Price": "23.80"
                                },
                                {
                                    "FlatSK": "4",
                                    "Code": "KY0938",
                                    "Vendor": "Kyle  Carr",
                                    "Side": "Pest",
                                    "District": "9",
                                    "Elevator": "0",
                                    "NumberOfRooms": "2.00",
                                    "FloorArea": "62",
                                    "Price": "14.80"
                                },
                                {
                                    "FlatSK": "5",
                                    "Code": "RA2068",
                                    "Vendor": "Rachel  Gomez",
                                    "Side": "Pest",
                                    "District": "20",
                                    "Elevator": "0",
                                    "NumberOfRooms": "3.00",
                                    "FloorArea": "90",
                                    "Price": "25.00"
                                },
                                {
                                    "FlatSK": "6",
                                    "Code": "IS0925",
                                    "Vendor": "Isabel  Cross",
                                    "Side": "Pest",
                                    "District": "9",
                                    "Elevator": "0",
                                    "NumberOfRooms": "1.00",
                                    "FloorArea": "49",
                                    "Price": "15.00"
                                },
                                {
                                    "FlatSK": "7",
                                    "Code": "BI0711",
                                    "Vendor": "Billie  Chandler",
                                    "Side": "Pest",
                                    "District": "7",
                                    "Elevator": "0",
                                    "NumberOfRooms": "2.00",
                                    "FloorArea": "83",
                                    "Price": "18.00"
                                },
                                {
                                    "FlatSK": "8",
                                    "Code": "SY1256",
                                    "Vendor": "Sylvester  Morales",
                                    "Side": "Buda",
                                    "District": "12",
                                    "Elevator": "0",
                                    "NumberOfRooms": "3.00",
                                    "FloorArea": "91",
                                    "Price": "32.90"
                                },
                                {
                                    "FlatSK": "9",
                                    "Code": "RA1091",
                                    "Vendor": "Rachel  Gomez",
                                    "Side": "Pest",
                                    "District": "10",
                                    "Elevator": "1",
                                    "NumberOfRooms": "2.00",
                                    "FloorArea": "49",
                                    "Price": "8.70"
                                },
                                {
                                    "FlatSK": "10",
                                    "Code": "BE0846",
                                    "Vendor": "Beth  Tucker",
                                    "Side": "Pest",
                                    "District": "8",
                                    "Elevator": "0",
                                    "NumberOfRooms": "1.00",
                                    "FloorArea": "36",
                                    "Price": "10.50"
                                },
                                {
                                    "FlatSK": "11",
                                    "Code": "SH0740",
                                    "Vendor": "Shari  Silva",
                                    "Side": "Pest",
                                    "District": "7",
                                    "Elevator": "0",
                                    "NumberOfRooms": "2.50",
                                    "FloorArea": "84",
                                    "Price": "25.00"
                                },
                                {
                                    "FlatSK": "12",
                                    "Code": "DR1364",
                                    "Vendor": "Drew  Rogers",
                                    "Side": "Pest",
                                    "District": "13",
                                    "Elevator": "1",
                                    "NumberOfRooms": "2.50",
                                    "FloorArea": "58",
                                    "Price": "11.90"
                                },
                                {
                                    "FlatSK": "13",
                                    "Code": "AR0236",
                                    "Vendor": "Arturo  Francis",
                                    "Side": "Buda",
                                    "District": "2",
                                    "Elevator": "0",
                                    "NumberOfRooms": "1.00",
                                    "FloorArea": "57",
                                    "Price": "16.00"
                                },
                                {
                                    "FlatSK": "14",
                                    "Code": "MA1330",
                                    "Vendor": "Mable  Lindsey",
                                    "Side": "Pest",
                                    "District": "13",
                                    "Elevator": "0",
                                    "NumberOfRooms": "1.00",
                                    "FloorArea": "47",
                                    "Price": "11.30"
                                },
                                {
                                    "FlatSK": "15",
                                    "Code": "SH1327",
                                    "Vendor": "Shari  Silva",
                                    "Side": "Pest",
                                    "District": "13",
                                    "Elevator": "1",
                                    "NumberOfRooms": "2.50",
                                    "FloorArea": "58",
                                    "Price": "11.60"
                                },
                                {
                                    "FlatSK": "16",
                                    "Code": "RA0930",
                                    "Vendor": "Rachel  Gomez",
                                    "Side": "Pest",
                                    "District": "9",
                                    "Elevator": "0",
                                    "NumberOfRooms": "2.00",
                                    "FloorArea": "62",
                                    "Price": "14.40"
                                },
                                {
                                    "FlatSK": "17",
                                    "Code": "JE1383",
                                    "Vendor": "Jenny  Garcia",
                                    "Side": "Pest",
                                    "District": "13",
                                    "Elevator": "1",
                                    "NumberOfRooms": "1.00",
                                    "FloorArea": "27",
                                    "Price": "7.80"
                                },
                                {
                                    "FlatSK": "18",
                                    "Code": "CO1048",
                                    "Vendor": "Colleen  Warren",
                                    "Side": "Pest",
                                    "District": "10",
                                    "Elevator": "1",
                                    "NumberOfRooms": "2.50",
                                    "FloorArea": "53",
                                    "Price": "10.40"
                                },
                                {
                                    "FlatSK": "19",
                                    "Code": "PA0965",
                                    "Vendor": "Pauline  Beck",
                                    "Side": "Pest",
                                    "District": "9",
                                    "Elevator": "0",
                                    "NumberOfRooms": "1.50",
                                    "FloorArea": "43",
                                    "Price": "12.00"
                                },
                                {
                                    "FlatSK": "20",
                                    "Code": "SH1339",
                                    "Vendor": "Shari  Silva",
                                    "Side": "Pest",
                                    "District": "13",
                                    "Elevator": "1",
                                    "NumberOfRooms": "3.00",
                                    "FloorArea": "68",
                                    "Price": "14.60"
                                },
                                {
                                    "FlatSK": "21",
                                    "Code": "JE0528",
                                    "Vendor": "Jenny  Garcia",
                                    "Side": "Pest",
                                    "District": "5",
                                    "Elevator": "0",
                                    "NumberOfRooms": "4.00",
                                    "FloorArea": "120",
                                    "Price": "42.90"
                                },
                                {
                                    "FlatSK": "22",
                                    "Code": "BE0986",
                                    "Vendor": "Ben  Perez",
                                    "Side": "Pest",
                                    "District": "9",
                                    "Elevator": "0",
                                    "NumberOfRooms": "2.50",
                                    "FloorArea": "72",
                                    "Price": "17.90"
                                },
                                {
                                    "FlatSK": "23",
                                    "Code": "CA0959",
                                    "Vendor": "Cassandra  Franklin",
                                    "Side": "Pest",
                                    "District": "9",
                                    "Elevator": "0",
                                    "NumberOfRooms": "3.50",
                                    "FloorArea": "113",
                                    "Price": "36.00"
                                },
                                {
                                    "FlatSK": "24",
                                    "Code": "EL0399",
                                    "Vendor": "Elaine  Ellis",
                                    "Side": "Buda",
                                    "District": "3",
                                    "Elevator": "0",
                                    "NumberOfRooms": "2.00",
                                    "FloorArea": "69",
                                    "Price": "20.50"
                                },
                                {
                                    "FlatSK": "25",
                                    "Code": "BE0269",
                                    "Vendor": "Beth  Tucker",
                                    "Side": "Buda",
                                    "District": "2",
                                    "Elevator": "0",
                                    "NumberOfRooms": "3.00",
                                    "FloorArea": "90",
                                    "Price": "26.00"
                                },
                                {
                                    "FlatSK": "26",
                                    "Code": "CA1359",
                                    "Vendor": "Cassandra  Franklin",
                                    "Side": "Pest",
                                    "District": "13",
                                    "Elevator": "0",
                                    "NumberOfRooms": "3.00",
                                    "FloorArea": "95",
                                    "Price": "19.90"
                                },
                                {
                                    "FlatSK": "27",
                                    "Code": "CO1840",
                                    "Vendor": "Colleen  Warren",
                                    "Side": "Pest",
                                    "District": "18",
                                    "Elevator": "1",
                                    "NumberOfRooms": "2.00",
                                    "FloorArea": "60",
                                    "Price": "8.90"
                                },
                                {
                                    "FlatSK": "28",
                                    "Code": "CA0952",
                                    "Vendor": "Cassandra  Franklin",
                                    "Side": "Pest",
                                    "District": "9",
                                    "Elevator": "0",
                                    "NumberOfRooms": "2.50",
                                    "FloorArea": "68",
                                    "Price": "20.80"
                                },
                                {
                                    "FlatSK": "29",
                                    "Code": "CA1566",
                                    "Vendor": "Cassandra  Franklin",
                                    "Side": "Pest",
                                    "District": "15",
                                    "Elevator": "1",
                                    "NumberOfRooms": "3.00",
                                    "FloorArea": "71",
                                    "Price": "12.60"
                                },
                                {
                                    "FlatSK": "30",
                                    "Code": "NE0627",
                                    "Vendor": "Nellie  Joseph",
                                    "Side": "Pest",
                                    "District": "6",
                                    "Elevator": "0",
                                    "NumberOfRooms": "1.00",
                                    "FloorArea": "42",
                                    "Price": "14.00"
                                },
                                {
                                    "FlatSK": "31",
                                    "Code": "GU0981",
                                    "Vendor": "Guillermo  Potter",
                                    "Side": "Pest",
                                    "District": "9",
                                    "Elevator": "1",
                                    "NumberOfRooms": "1.00",
                                    "FloorArea": "36",
                                    "Price": "10.30"
                                },
                                {
                                    "FlatSK": "32",
                                    "Code": "LY1497",
                                    "Vendor": "Lynette  Brewer",
                                    "Side": "Pest",
                                    "District": "14",
                                    "Elevator": "1",
                                    "NumberOfRooms": "3.00",
                                    "FloorArea": "68",
                                    "Price": "13.50"
                                },
                                {
                                    "FlatSK": "33",
                                    "Code": "RA1337",
                                    "Vendor": "Rachel  Gomez",
                                    "Side": "Pest",
                                    "District": "13",
                                    "Elevator": "1",
                                    "NumberOfRooms": "2.50",
                                    "FloorArea": "74",
                                    "Price": "13.90"
                                },
                                {
                                    "FlatSK": "34",
                                    "Code": "LA0923",
                                    "Vendor": "Lance  Yates",
                                    "Side": "Pest",
                                    "District": "9",
                                    "Elevator": "0",
                                    "NumberOfRooms": "2.50",
                                    "FloorArea": "58",
                                    "Price": "13.70"
                                },
                                {
                                    "FlatSK": "35",
                                    "Code": "AR0366",
                                    "Vendor": "Arturo  Francis",
                                    "Side": "Buda",
                                    "District": "3",
                                    "Elevator": "0",
                                    "NumberOfRooms": "1.50",
                                    "FloorArea": "38",
                                    "Price": "11.90"
                                },
                                {
                                    "FlatSK": "36",
                                    "Code": "LU0965",
                                    "Vendor": "Lula  Daniels",
                                    "Side": "Pest",
                                    "District": "9",
                                    "Elevator": "0",
                                    "NumberOfRooms": "4.00",
                                    "FloorArea": "160",
                                    "Price": "43.00"
                                },
                                {
                                    "FlatSK": "37",
                                    "Code": "BE0221",
                                    "Vendor": "Bethany  Pena",
                                    "Side": "Buda",
                                    "District": "2",
                                    "Elevator": "0",
                                    "NumberOfRooms": "2.00",
                                    "FloorArea": "63",
                                    "Price": "17.90"
                                },
                                {
                                    "FlatSK": "38",
                                    "Code": "RO0499",
                                    "Vendor": "Robert  Munoz",
                                    "Side": "Pest",
                                    "District": "4",
                                    "Elevator": "1",
                                    "NumberOfRooms": "2.50",
                                    "FloorArea": "72",
                                    "Price": "12.00"
                                },
                                {
                                    "FlatSK": "39",
                                    "Code": "SH0987",
                                    "Vendor": "Shari  Silva",
                                    "Side": "Pest",
                                    "District": "9",
                                    "Elevator": "0",
                                    "NumberOfRooms": "2.00",
                                    "FloorArea": "71",
                                    "Price": "16.50"
                                },
                                {
                                    "FlatSK": "40",
                                    "Code": "CI0666",
                                    "Vendor": "Cindy  Becker",
                                    "Side": "Pest",
                                    "District": "6",
                                    "Elevator": "0",
                                    "NumberOfRooms": "1.00",
                                    "FloorArea": "50",
                                    "Price": "16.00"
                                },
                                {
                                    "FlatSK": "41",
                                    "Code": "GU0146",
                                    "Vendor": "Guillermo  Potter",
                                    "Side": "Buda",
                                    "District": "1",
                                    "Elevator": "0",
                                    "NumberOfRooms": "1.50",
                                    "FloorArea": "40",
                                    "Price": "11.00"
                                },
                                {
                                    "FlatSK": "42",
                                    "Code": "SA1391",
                                    "Vendor": "Sandra  Floyd",
                                    "Side": "Pest",
                                    "District": "13",
                                    "Elevator": "1",
                                    "NumberOfRooms": "2.50",
                                    "FloorArea": "55",
                                    "Price": "12.80"
                                },
                                {
                                    "FlatSK": "43",
                                    "Code": "BI0630",
                                    "Vendor": "Billie  Chandler",
                                    "Side": "Pest",
                                    "District": "6",
                                    "Elevator": "0",
                                    "NumberOfRooms": "1.00",
                                    "FloorArea": "52",
                                    "Price": "17.70"
                                },
                                {
                                    "FlatSK": "44",
                                    "Code": "IS0470",
                                    "Vendor": "Isabel  Cross",
                                    "Side": "Pest",
                                    "District": "4",
                                    "Elevator": "1",
                                    "NumberOfRooms": "2.50",
                                    "FloorArea": "59",
                                    "Price": "11.00"
                                },
                                {
                                    "FlatSK": "45",
                                    "Code": "BE0122",
                                    "Vendor": "Bernadette  Page",
                                    "Side": "Buda",
                                    "District": "1",
                                    "Elevator": "0",
                                    "NumberOfRooms": "2.00",
                                    "FloorArea": "70",
                                    "Price": "29.90"
                                },
                                {
                                    "FlatSK": "46",
                                    "Code": "AN1357",
                                    "Vendor": "Andrew  Meyer",
                                    "Side": "Pest",
                                    "District": "13",
                                    "Elevator": "0",
                                    "NumberOfRooms": "1.50",
                                    "FloorArea": "42",
                                    "Price": "11.50"
                                },
                                {
                                    "FlatSK": "47",
                                    "Code": "LE1390",
                                    "Vendor": "Lee  Mack",
                                    "Side": "Pest",
                                    "District": "13",
                                    "Elevator": "0",
                                    "NumberOfRooms": "2.00",
                                    "FloorArea": "57",
                                    "Price": "18.60"
                                },
                                {
                                    "FlatSK": "48",
                                    "Code": "BO1390",
                                    "Vendor": "Bobbie  Ryan",
                                    "Side": "Pest",
                                    "District": "13",
                                    "Elevator": "1",
                                    "NumberOfRooms": "2.00",
                                    "FloorArea": "74",
                                    "Price": "15.90"
                                },
                                {
                                    "FlatSK": "49",
                                    "Code": "TR1315",
                                    "Vendor": "Trevor  Jones",
                                    "Side": "Pest",
                                    "District": "13",
                                    "Elevator": "0",
                                    "NumberOfRooms": "1.00",
                                    "FloorArea": "29",
                                    "Price": "8.30"
                                },
                                {
                                    "FlatSK": "50",
                                    "Code": "ER0897",
                                    "Vendor": "Eric  Rose",
                                    "Side": "Pest",
                                    "District": "8",
                                    "Elevator": "0",
                                    "NumberOfRooms": "3.00",
                                    "FloorArea": "110",
                                    "Price": "21.90"
                                },
                                {
                                    "FlatSK": "51",
                                    "Code": "DO0765",
                                    "Vendor": "Donna  Reid",
                                    "Side": "Pest",
                                    "District": "7",
                                    "Elevator": "0",
                                    "NumberOfRooms": "1.00",
                                    "FloorArea": "36",
                                    "Price": "8.20"
                                },
                                {
                                    "FlatSK": "52",
                                    "Code": "IV0288",
                                    "Vendor": "Ivan  Adkins",
                                    "Side": "Buda",
                                    "District": "2",
                                    "Elevator": "0",
                                    "NumberOfRooms": "2.00",
                                    "FloorArea": "99",
                                    "Price": "35.00"
                                },
                                {
                                    "FlatSK": "53",
                                    "Code": "BI0996",
                                    "Vendor": "Billie  Chandler",
                                    "Side": "Pest",
                                    "District": "9",
                                    "Elevator": "0",
                                    "NumberOfRooms": "1.00",
                                    "FloorArea": "34",
                                    "Price": "8.90"
                                },
                                {
                                    "FlatSK": "54",
                                    "Code": "JE0981",
                                    "Vendor": "Jenny  Garcia",
                                    "Side": "Pest",
                                    "District": "9",
                                    "Elevator": "0",
                                    "NumberOfRooms": "1.50",
                                    "FloorArea": "40",
                                    "Price": "10.90"
                                },
                                {
                                    "FlatSK": "55",
                                    "Code": "AN0548",
                                    "Vendor": "Andrew  Meyer",
                                    "Side": "Pest",
                                    "District": "5",
                                    "Elevator": "0",
                                    "NumberOfRooms": "2.50",
                                    "FloorArea": "84",
                                    "Price": "29.50"
                                },
                                {
                                    "FlatSK": "56",
                                    "Code": "BR1334",
                                    "Vendor": "Brooke  Horton",
                                    "Side": "Pest",
                                    "District": "13",
                                    "Elevator": "1",
                                    "NumberOfRooms": "2.00",
                                    "FloorArea": "58",
                                    "Price": "11.80"
                                },
                                {
                                    "FlatSK": "57",
                                    "Code": "MA1319",
                                    "Vendor": "Max  Rodgers",
                                    "Side": "Pest",
                                    "District": "13",
                                    "Elevator": "0",
                                    "NumberOfRooms": "1.00",
                                    "FloorArea": "24",
                                    "Price": "6.20"
                                },
                                {
                                    "FlatSK": "58",
                                    "Code": "ER0938",
                                    "Vendor": "Eric  Rose",
                                    "Side": "Pest",
                                    "District": "9",
                                    "Elevator": "0",
                                    "NumberOfRooms": "2.50",
                                    "FloorArea": "71",
                                    "Price": "16.90"
                                },
                                {
                                    "FlatSK": "59",
                                    "Code": "RA1326",
                                    "Vendor": "Rachel  Gomez",
                                    "Side": "Pest",
                                    "District": "13",
                                    "Elevator": "0",
                                    "NumberOfRooms": "5.00",
                                    "FloorArea": "70",
                                    "Price": "27.00"
                                },
                                {
                                    "FlatSK": "60",
                                    "Code": "MA0669",
                                    "Vendor": "Max  Rodgers",
                                    "Side": "Pest",
                                    "District": "6",
                                    "Elevator": "0",
                                    "NumberOfRooms": "1.00",
                                    "FloorArea": "45",
                                    "Price": "12.00"
                                },
                                {
                                    "FlatSK": "61",
                                    "Code": "RO0978",
                                    "Vendor": "Robert  Munoz",
                                    "Side": "Pest",
                                    "District": "9",
                                    "Elevator": "0",
                                    "NumberOfRooms": "1.50",
                                    "FloorArea": "52",
                                    "Price": "16.50"
                                },
                                {
                                    "FlatSK": "62",
                                    "Code": "DO0926",
                                    "Vendor": "Don  Gonzales",
                                    "Side": "Pest",
                                    "District": "9",
                                    "Elevator": "0",
                                    "NumberOfRooms": "2.00",
                                    "FloorArea": "58",
                                    "Price": "18.50"
                                },
                                {
                                    "FlatSK": "63",
                                    "Code": "CE1134",
                                    "Vendor": "Cecilia  Manning",
                                    "Side": "Buda",
                                    "District": "11",
                                    "Elevator": "1",
                                    "NumberOfRooms": "3.00",
                                    "FloorArea": "65",
                                    "Price": "11.50"
                                },
                                {
                                    "FlatSK": "64",
                                    "Code": "CI0865",
                                    "Vendor": "Cindy  Becker",
                                    "Side": "Pest",
                                    "District": "8",
                                    "Elevator": "0",
                                    "NumberOfRooms": "2.50",
                                    "FloorArea": "97",
                                    "Price": "20.00"
                                },
                                {
                                    "FlatSK": "65",
                                    "Code": "BR1356",
                                    "Vendor": "Brooke  Horton",
                                    "Side": "Pest",
                                    "District": "13",
                                    "Elevator": "0",
                                    "NumberOfRooms": "1.00",
                                    "FloorArea": "23",
                                    "Price": "7.00"
                                },
                                {
                                    "FlatSK": "66",
                                    "Code": "IV1790",
                                    "Vendor": "Ivan  Adkins",
                                    "Side": "Pest",
                                    "District": "17",
                                    "Elevator": "1",
                                    "NumberOfRooms": "3.00",
                                    "FloorArea": "78",
                                    "Price": "11.90"
                                },
                                {
                                    "FlatSK": "67",
                                    "Code": "CH1017",
                                    "Vendor": "Christina  Fuller",
                                    "Side": "Pest",
                                    "District": "10",
                                    "Elevator": "1",
                                    "NumberOfRooms": "1.00",
                                    "FloorArea": "36",
                                    "Price": "6.90"
                                },
                                {
                                    "FlatSK": "68",
                                    "Code": "PE1588",
                                    "Vendor": "Peter  Hodges",
                                    "Side": "Pest",
                                    "District": "15",
                                    "Elevator": "1",
                                    "NumberOfRooms": "2.00",
                                    "FloorArea": "55",
                                    "Price": "10.50"
                                },
                                {
                                    "FlatSK": "69",
                                    "Code": "BE1367",
                                    "Vendor": "Ben  Perez",
                                    "Side": "Pest",
                                    "District": "13",
                                    "Elevator": "0",
                                    "NumberOfRooms": "2.00",
                                    "FloorArea": "50",
                                    "Price": "14.50"
                                },
                                {
                                    "FlatSK": "70",
                                    "Code": "AN1358",
                                    "Vendor": "Andrew  Meyer",
                                    "Side": "Pest",
                                    "District": "13",
                                    "Elevator": "0",
                                    "NumberOfRooms": "1.00",
                                    "FloorArea": "44",
                                    "Price": "13.00"
                                },
                                {
                                    "FlatSK": "71",
                                    "Code": "PE0719",
                                    "Vendor": "Peter  Hodges",
                                    "Side": "Pest",
                                    "District": "7",
                                    "Elevator": "0",
                                    "NumberOfRooms": "2.00",
                                    "FloorArea": "57",
                                    "Price": "14.70"
                                },
                                {
                                    "FlatSK": "72",
                                    "Code": "BI0965",
                                    "Vendor": "Billie  Chandler",
                                    "Side": "Pest",
                                    "District": "9",
                                    "Elevator": "0",
                                    "NumberOfRooms": "3.00",
                                    "FloorArea": "105",
                                    "Price": "29.00"
                                },
                                {
                                    "FlatSK": "73",
                                    "Code": "RO0851",
                                    "Vendor": "Robert  Munoz",
                                    "Side": "Pest",
                                    "District": "8",
                                    "Elevator": "0",
                                    "NumberOfRooms": "1.00",
                                    "FloorArea": "43",
                                    "Price": "11.00"
                                },
                                {
                                    "FlatSK": "74",
                                    "Code": "SA0821",
                                    "Vendor": "Salvador  Bass",
                                    "Side": "Pest",
                                    "District": "8",
                                    "Elevator": "0",
                                    "NumberOfRooms": "1.00",
                                    "FloorArea": "27",
                                    "Price": "8.60"
                                },
                                {
                                    "FlatSK": "75",
                                    "Code": "SA1363",
                                    "Vendor": "Salvador  Bass",
                                    "Side": "Pest",
                                    "District": "13",
                                    "Elevator": "0",
                                    "NumberOfRooms": "2.00",
                                    "FloorArea": "39",
                                    "Price": "16.90"
                                },
                                {
                                    "FlatSK": "76",
                                    "Code": "BO1318",
                                    "Vendor": "Bobbie  Ryan",
                                    "Side": "Pest",
                                    "District": "13",
                                    "Elevator": "1",
                                    "NumberOfRooms": "4.00",
                                    "FloorArea": "75",
                                    "Price": "16.00"
                                },
                                {
                                    "FlatSK": "77",
                                    "Code": "AN0232",
                                    "Vendor": "Andrew  Meyer",
                                    "Side": "Buda",
                                    "District": "2",
                                    "Elevator": "0",
                                    "NumberOfRooms": "2.00",
                                    "FloorArea": "60",
                                    "Price": "19.90"
                                },
                                {
                                    "FlatSK": "78",
                                    "Code": "DR1337",
                                    "Vendor": "Drew  Rogers",
                                    "Side": "Pest",
                                    "District": "13",
                                    "Elevator": "0",
                                    "NumberOfRooms": "2.00",
                                    "FloorArea": "96",
                                    "Price": "31.50"
                                },
                                {
                                    "FlatSK": "79",
                                    "Code": "IS0934",
                                    "Vendor": "Isabel  Cross",
                                    "Side": "Pest",
                                    "District": "9",
                                    "Elevator": "0",
                                    "NumberOfRooms": "2.00",
                                    "FloorArea": "61",
                                    "Price": "15.70"
                                },
                                {
                                    "FlatSK": "80",
                                    "Code": "DE1351",
                                    "Vendor": "Della  Jensen",
                                    "Side": "Pest",
                                    "District": "13",
                                    "Elevator": "0",
                                    "NumberOfRooms": "1.00",
                                    "FloorArea": "26",
                                    "Price": "7.30"
                                },
                                {
                                    "FlatSK": "81",
                                    "Code": "LO0948",
                                    "Vendor": "Lorraine  Gibson",
                                    "Side": "Pest",
                                    "District": "9",
                                    "Elevator": "0",
                                    "NumberOfRooms": "1.00",
                                    "FloorArea": "30",
                                    "Price": "9.40"
                                },
                                {
                                    "FlatSK": "82",
                                    "Code": "SH1338",
                                    "Vendor": "Shari  Silva",
                                    "Side": "Pest",
                                    "District": "13",
                                    "Elevator": "1",
                                    "NumberOfRooms": "3.50",
                                    "FloorArea": "80",
                                    "Price": "16.80"
                                },
                                {
                                    "FlatSK": "83",
                                    "Code": "DR1354",
                                    "Vendor": "Drew  Rogers",
                                    "Side": "Pest",
                                    "District": "13",
                                    "Elevator": "1",
                                    "NumberOfRooms": "1.00",
                                    "FloorArea": "27",
                                    "Price": "7.20"
                                },
                                {
                                    "FlatSK": "84",
                                    "Code": "IR0944",
                                    "Vendor": "Iris  Underwood",
                                    "Side": "Pest",
                                    "District": "9",
                                    "Elevator": "0",
                                    "NumberOfRooms": "3.00",
                                    "FloorArea": "96",
                                    "Price": "29.90"
                                },
                                {
                                    "FlatSK": "85",
                                    "Code": "DR0960",
                                    "Vendor": "Drew  Rogers",
                                    "Side": "Pest",
                                    "District": "9",
                                    "Elevator": "0",
                                    "NumberOfRooms": "2.00",
                                    "FloorArea": "72",
                                    "Price": "16.80"
                                },
                                {
                                    "FlatSK": "86",
                                    "Code": "JE1430",
                                    "Vendor": "Jenny  Garcia",
                                    "Side": "Pest",
                                    "District": "14",
                                    "Elevator": "0",
                                    "NumberOfRooms": "1.00",
                                    "FloorArea": "29",
                                    "Price": "8.50"
                                },
                                {
                                    "FlatSK": "87",
                                    "Code": "LO0862",
                                    "Vendor": "Lorraine  Gibson",
                                    "Side": "Pest",
                                    "District": "8",
                                    "Elevator": "0",
                                    "NumberOfRooms": "3.00",
                                    "FloorArea": "100",
                                    "Price": "15.80"
                                },
                                {
                                    "FlatSK": "88",
                                    "Code": "EL0590",
                                    "Vendor": "Elaine  Ellis",
                                    "Side": "Pest",
                                    "District": "5",
                                    "Elevator": "0",
                                    "NumberOfRooms": "2.00",
                                    "FloorArea": "81",
                                    "Price": "25.90"
                                },
                                {
                                    "FlatSK": "89",
                                    "Code": "ER0866",
                                    "Vendor": "Eric  Rose",
                                    "Side": "Pest",
                                    "District": "8",
                                    "Elevator": "0",
                                    "NumberOfRooms": "1.00",
                                    "FloorArea": "31",
                                    "Price": "7.90"
                                },
                                {
                                    "FlatSK": "90",
                                    "Code": "IS0528",
                                    "Vendor": "Isabel  Cross",
                                    "Side": "Pest",
                                    "District": "5",
                                    "Elevator": "0",
                                    "NumberOfRooms": "2.00",
                                    "FloorArea": "62",
                                    "Price": "27.40"
                                },
                                {
                                    "FlatSK": "91",
                                    "Code": "BI1347",
                                    "Vendor": "Billie  Chandler",
                                    "Side": "Pest",
                                    "District": "13",
                                    "Elevator": "0",
                                    "NumberOfRooms": "1.00",
                                    "FloorArea": "40",
                                    "Price": "16.50"
                                },
                                {
                                    "FlatSK": "92",
                                    "Code": "WO0991",
                                    "Vendor": "Woodrow  Colon",
                                    "Side": "Pest",
                                    "District": "9",
                                    "Elevator": "0",
                                    "NumberOfRooms": "1.00",
                                    "FloorArea": "40",
                                    "Price": "11.50"
                                },
                                {
                                    "FlatSK": "93",
                                    "Code": "ED1192",
                                    "Vendor": "Edwin  Malone",
                                    "Side": "Buda",
                                    "District": "11",
                                    "Elevator": "0",
                                    "NumberOfRooms": "3.00",
                                    "FloorArea": "105",
                                    "Price": "29.00"
                                },
                                {
                                    "FlatSK": "94",
                                    "Code": "PA1384",
                                    "Vendor": "Paulette  Spencer",
                                    "Side": "Pest",
                                    "District": "13",
                                    "Elevator": "0",
                                    "NumberOfRooms": "2.00",
                                    "FloorArea": "54",
                                    "Price": "15.50"
                                },
                                {
                                    "FlatSK": "95",
                                    "Code": "CA1420",
                                    "Vendor": "Cassandra  Franklin",
                                    "Side": "Pest",
                                    "District": "14",
                                    "Elevator": "0",
                                    "NumberOfRooms": "1.00",
                                    "FloorArea": "38",
                                    "Price": "10.50"
                                },
                                {
                                    "FlatSK": "96",
                                    "Code": "AL1364",
                                    "Vendor": "Allan  Ramos",
                                    "Side": "Pest",
                                    "District": "13",
                                    "Elevator": "0",
                                    "NumberOfRooms": "3.00",
                                    "FloorArea": "77",
                                    "Price": "36.00"
                                },
                                {
                                    "FlatSK": "97",
                                    "Code": "ER1359",
                                    "Vendor": "Eric  Rose",
                                    "Side": "Pest",
                                    "District": "13",
                                    "Elevator": "0",
                                    "NumberOfRooms": "1.00",
                                    "FloorArea": "25",
                                    "Price": "6.60"
                                },
                                {
                                    "FlatSK": "98",
                                    "Code": "CA0657",
                                    "Vendor": "Cassandra  Franklin",
                                    "Side": "Pest",
                                    "District": "6",
                                    "Elevator": "0",
                                    "NumberOfRooms": "4.50",
                                    "FloorArea": "153",
                                    "Price": "37.30"
                                },
                                {
                                    "FlatSK": "99",
                                    "Code": "DE0967",
                                    "Vendor": "Della  Jensen",
                                    "Side": "Pest",
                                    "District": "9",
                                    "Elevator": "0",
                                    "NumberOfRooms": "2.50",
                                    "FloorArea": "80",
                                    "Price": "18.20"
                                },
                                {
                                    "FlatSK": "100",
                                    "Code": "SH0895",
                                    "Vendor": "Shari  Silva",
                                    "Side": "Pest",
                                    "District": "8",
                                    "Elevator": "0",
                                    "NumberOfRooms": "2.00",
                                    "FloorArea": "77",
                                    "Price": "16.50"
                                },
                                {
                                    "FlatSK": "101",
                                    "Code": "AU2181",
                                    "Vendor": "Austin  Reynolds",
                                    "Side": "Pest",
                                    "District": "21",
                                    "Elevator": "1",
                                    "NumberOfRooms": "2.00",
                                    "FloorArea": "35",
                                    "Price": "8.00"
                                },
                                {
                                    "FlatSK": "102",
                                    "Code": "DA0914",
                                    "Vendor": "Dan  Peterson",
                                    "Side": "Pest",
                                    "District": "9",
                                    "Elevator": "0",
                                    "NumberOfRooms": "2.00",
                                    "FloorArea": "82",
                                    "Price": "18.00"
                                },
                                {
                                    "FlatSK": "103",
                                    "Code": "EL1511",
                                    "Vendor": "Elbert  Klein",
                                    "Side": "Pest",
                                    "District": "15",
                                    "Elevator": "0",
                                    "NumberOfRooms": "1.00",
                                    "FloorArea": "32",
                                    "Price": "11.00"
                                },
                                {
                                    "FlatSK": "104",
                                    "Code": "NE1267",
                                    "Vendor": "Nellie  Joseph",
                                    "Side": "Buda",
                                    "District": "12",
                                    "Elevator": "0",
                                    "NumberOfRooms": "3.00",
                                    "FloorArea": "68",
                                    "Price": "39.00"
                                }
                            ]
                        },
                        "text/html": [
                            "<table>",
                            "<tr><th>FlatSK</th><th>Code</th><th>Vendor</th><th>Side</th><th>District</th><th>Elevator</th><th>NumberOfRooms</th><th>FloorArea</th><th>Price</th></tr>",
                            "<tr><td>1</td><td>CH0741</td><td>Christy  Olson</td><td>Pest</td><td>7</td><td>0</td><td>1.00</td><td>33</td><td>7.50</td></tr>",
                            "<tr><td>2</td><td>DA0744</td><td>Dan  Peterson</td><td>Pest</td><td>7</td><td>0</td><td>3.50</td><td>97</td><td>29.90</td></tr>",
                            "<tr><td>3</td><td>MA0937</td><td>Mable  Lindsey</td><td>Pest</td><td>9</td><td>0</td><td>2.50</td><td>73</td><td>23.80</td></tr>",
                            "<tr><td>4</td><td>KY0938</td><td>Kyle  Carr</td><td>Pest</td><td>9</td><td>0</td><td>2.00</td><td>62</td><td>14.80</td></tr>",
                            "<tr><td>5</td><td>RA2068</td><td>Rachel  Gomez</td><td>Pest</td><td>20</td><td>0</td><td>3.00</td><td>90</td><td>25.00</td></tr>",
                            "<tr><td>6</td><td>IS0925</td><td>Isabel  Cross</td><td>Pest</td><td>9</td><td>0</td><td>1.00</td><td>49</td><td>15.00</td></tr>",
                            "<tr><td>7</td><td>BI0711</td><td>Billie  Chandler</td><td>Pest</td><td>7</td><td>0</td><td>2.00</td><td>83</td><td>18.00</td></tr>",
                            "<tr><td>8</td><td>SY1256</td><td>Sylvester  Morales</td><td>Buda</td><td>12</td><td>0</td><td>3.00</td><td>91</td><td>32.90</td></tr>",
                            "<tr><td>9</td><td>RA1091</td><td>Rachel  Gomez</td><td>Pest</td><td>10</td><td>1</td><td>2.00</td><td>49</td><td>8.70</td></tr>",
                            "<tr><td>10</td><td>BE0846</td><td>Beth  Tucker</td><td>Pest</td><td>8</td><td>0</td><td>1.00</td><td>36</td><td>10.50</td></tr>",
                            "<tr><td>11</td><td>SH0740</td><td>Shari  Silva</td><td>Pest</td><td>7</td><td>0</td><td>2.50</td><td>84</td><td>25.00</td></tr>",
                            "<tr><td>12</td><td>DR1364</td><td>Drew  Rogers</td><td>Pest</td><td>13</td><td>1</td><td>2.50</td><td>58</td><td>11.90</td></tr>",
                            "<tr><td>13</td><td>AR0236</td><td>Arturo  Francis</td><td>Buda</td><td>2</td><td>0</td><td>1.00</td><td>57</td><td>16.00</td></tr>",
                            "<tr><td>14</td><td>MA1330</td><td>Mable  Lindsey</td><td>Pest</td><td>13</td><td>0</td><td>1.00</td><td>47</td><td>11.30</td></tr>",
                            "<tr><td>15</td><td>SH1327</td><td>Shari  Silva</td><td>Pest</td><td>13</td><td>1</td><td>2.50</td><td>58</td><td>11.60</td></tr>",
                            "<tr><td>16</td><td>RA0930</td><td>Rachel  Gomez</td><td>Pest</td><td>9</td><td>0</td><td>2.00</td><td>62</td><td>14.40</td></tr>",
                            "<tr><td>17</td><td>JE1383</td><td>Jenny  Garcia</td><td>Pest</td><td>13</td><td>1</td><td>1.00</td><td>27</td><td>7.80</td></tr>",
                            "<tr><td>18</td><td>CO1048</td><td>Colleen  Warren</td><td>Pest</td><td>10</td><td>1</td><td>2.50</td><td>53</td><td>10.40</td></tr>",
                            "<tr><td>19</td><td>PA0965</td><td>Pauline  Beck</td><td>Pest</td><td>9</td><td>0</td><td>1.50</td><td>43</td><td>12.00</td></tr>",
                            "<tr><td>20</td><td>SH1339</td><td>Shari  Silva</td><td>Pest</td><td>13</td><td>1</td><td>3.00</td><td>68</td><td>14.60</td></tr>",
                            "<tr><td>21</td><td>JE0528</td><td>Jenny  Garcia</td><td>Pest</td><td>5</td><td>0</td><td>4.00</td><td>120</td><td>42.90</td></tr>",
                            "<tr><td>22</td><td>BE0986</td><td>Ben  Perez</td><td>Pest</td><td>9</td><td>0</td><td>2.50</td><td>72</td><td>17.90</td></tr>",
                            "<tr><td>23</td><td>CA0959</td><td>Cassandra  Franklin</td><td>Pest</td><td>9</td><td>0</td><td>3.50</td><td>113</td><td>36.00</td></tr>",
                            "<tr><td>24</td><td>EL0399</td><td>Elaine  Ellis</td><td>Buda</td><td>3</td><td>0</td><td>2.00</td><td>69</td><td>20.50</td></tr>",
                            "<tr><td>25</td><td>BE0269</td><td>Beth  Tucker</td><td>Buda</td><td>2</td><td>0</td><td>3.00</td><td>90</td><td>26.00</td></tr>",
                            "<tr><td>26</td><td>CA1359</td><td>Cassandra  Franklin</td><td>Pest</td><td>13</td><td>0</td><td>3.00</td><td>95</td><td>19.90</td></tr>",
                            "<tr><td>27</td><td>CO1840</td><td>Colleen  Warren</td><td>Pest</td><td>18</td><td>1</td><td>2.00</td><td>60</td><td>8.90</td></tr>",
                            "<tr><td>28</td><td>CA0952</td><td>Cassandra  Franklin</td><td>Pest</td><td>9</td><td>0</td><td>2.50</td><td>68</td><td>20.80</td></tr>",
                            "<tr><td>29</td><td>CA1566</td><td>Cassandra  Franklin</td><td>Pest</td><td>15</td><td>1</td><td>3.00</td><td>71</td><td>12.60</td></tr>",
                            "<tr><td>30</td><td>NE0627</td><td>Nellie  Joseph</td><td>Pest</td><td>6</td><td>0</td><td>1.00</td><td>42</td><td>14.00</td></tr>",
                            "<tr><td>31</td><td>GU0981</td><td>Guillermo  Potter</td><td>Pest</td><td>9</td><td>1</td><td>1.00</td><td>36</td><td>10.30</td></tr>",
                            "<tr><td>32</td><td>LY1497</td><td>Lynette  Brewer</td><td>Pest</td><td>14</td><td>1</td><td>3.00</td><td>68</td><td>13.50</td></tr>",
                            "<tr><td>33</td><td>RA1337</td><td>Rachel  Gomez</td><td>Pest</td><td>13</td><td>1</td><td>2.50</td><td>74</td><td>13.90</td></tr>",
                            "<tr><td>34</td><td>LA0923</td><td>Lance  Yates</td><td>Pest</td><td>9</td><td>0</td><td>2.50</td><td>58</td><td>13.70</td></tr>",
                            "<tr><td>35</td><td>AR0366</td><td>Arturo  Francis</td><td>Buda</td><td>3</td><td>0</td><td>1.50</td><td>38</td><td>11.90</td></tr>",
                            "<tr><td>36</td><td>LU0965</td><td>Lula  Daniels</td><td>Pest</td><td>9</td><td>0</td><td>4.00</td><td>160</td><td>43.00</td></tr>",
                            "<tr><td>37</td><td>BE0221</td><td>Bethany  Pena</td><td>Buda</td><td>2</td><td>0</td><td>2.00</td><td>63</td><td>17.90</td></tr>",
                            "<tr><td>38</td><td>RO0499</td><td>Robert  Munoz</td><td>Pest</td><td>4</td><td>1</td><td>2.50</td><td>72</td><td>12.00</td></tr>",
                            "<tr><td>39</td><td>SH0987</td><td>Shari  Silva</td><td>Pest</td><td>9</td><td>0</td><td>2.00</td><td>71</td><td>16.50</td></tr>",
                            "<tr><td>40</td><td>CI0666</td><td>Cindy  Becker</td><td>Pest</td><td>6</td><td>0</td><td>1.00</td><td>50</td><td>16.00</td></tr>",
                            "<tr><td>41</td><td>GU0146</td><td>Guillermo  Potter</td><td>Buda</td><td>1</td><td>0</td><td>1.50</td><td>40</td><td>11.00</td></tr>",
                            "<tr><td>42</td><td>SA1391</td><td>Sandra  Floyd</td><td>Pest</td><td>13</td><td>1</td><td>2.50</td><td>55</td><td>12.80</td></tr>",
                            "<tr><td>43</td><td>BI0630</td><td>Billie  Chandler</td><td>Pest</td><td>6</td><td>0</td><td>1.00</td><td>52</td><td>17.70</td></tr>",
                            "<tr><td>44</td><td>IS0470</td><td>Isabel  Cross</td><td>Pest</td><td>4</td><td>1</td><td>2.50</td><td>59</td><td>11.00</td></tr>",
                            "<tr><td>45</td><td>BE0122</td><td>Bernadette  Page</td><td>Buda</td><td>1</td><td>0</td><td>2.00</td><td>70</td><td>29.90</td></tr>",
                            "<tr><td>46</td><td>AN1357</td><td>Andrew  Meyer</td><td>Pest</td><td>13</td><td>0</td><td>1.50</td><td>42</td><td>11.50</td></tr>",
                            "<tr><td>47</td><td>LE1390</td><td>Lee  Mack</td><td>Pest</td><td>13</td><td>0</td><td>2.00</td><td>57</td><td>18.60</td></tr>",
                            "<tr><td>48</td><td>BO1390</td><td>Bobbie  Ryan</td><td>Pest</td><td>13</td><td>1</td><td>2.00</td><td>74</td><td>15.90</td></tr>",
                            "<tr><td>49</td><td>TR1315</td><td>Trevor  Jones</td><td>Pest</td><td>13</td><td>0</td><td>1.00</td><td>29</td><td>8.30</td></tr>",
                            "<tr><td>50</td><td>ER0897</td><td>Eric  Rose</td><td>Pest</td><td>8</td><td>0</td><td>3.00</td><td>110</td><td>21.90</td></tr>",
                            "<tr><td>51</td><td>DO0765</td><td>Donna  Reid</td><td>Pest</td><td>7</td><td>0</td><td>1.00</td><td>36</td><td>8.20</td></tr>",
                            "<tr><td>52</td><td>IV0288</td><td>Ivan  Adkins</td><td>Buda</td><td>2</td><td>0</td><td>2.00</td><td>99</td><td>35.00</td></tr>",
                            "<tr><td>53</td><td>BI0996</td><td>Billie  Chandler</td><td>Pest</td><td>9</td><td>0</td><td>1.00</td><td>34</td><td>8.90</td></tr>",
                            "<tr><td>54</td><td>JE0981</td><td>Jenny  Garcia</td><td>Pest</td><td>9</td><td>0</td><td>1.50</td><td>40</td><td>10.90</td></tr>",
                            "<tr><td>55</td><td>AN0548</td><td>Andrew  Meyer</td><td>Pest</td><td>5</td><td>0</td><td>2.50</td><td>84</td><td>29.50</td></tr>",
                            "<tr><td>56</td><td>BR1334</td><td>Brooke  Horton</td><td>Pest</td><td>13</td><td>1</td><td>2.00</td><td>58</td><td>11.80</td></tr>",
                            "<tr><td>57</td><td>MA1319</td><td>Max  Rodgers</td><td>Pest</td><td>13</td><td>0</td><td>1.00</td><td>24</td><td>6.20</td></tr>",
                            "<tr><td>58</td><td>ER0938</td><td>Eric  Rose</td><td>Pest</td><td>9</td><td>0</td><td>2.50</td><td>71</td><td>16.90</td></tr>",
                            "<tr><td>59</td><td>RA1326</td><td>Rachel  Gomez</td><td>Pest</td><td>13</td><td>0</td><td>5.00</td><td>70</td><td>27.00</td></tr>",
                            "<tr><td>60</td><td>MA0669</td><td>Max  Rodgers</td><td>Pest</td><td>6</td><td>0</td><td>1.00</td><td>45</td><td>12.00</td></tr>",
                            "<tr><td>61</td><td>RO0978</td><td>Robert  Munoz</td><td>Pest</td><td>9</td><td>0</td><td>1.50</td><td>52</td><td>16.50</td></tr>",
                            "<tr><td>62</td><td>DO0926</td><td>Don  Gonzales</td><td>Pest</td><td>9</td><td>0</td><td>2.00</td><td>58</td><td>18.50</td></tr>",
                            "<tr><td>63</td><td>CE1134</td><td>Cecilia  Manning</td><td>Buda</td><td>11</td><td>1</td><td>3.00</td><td>65</td><td>11.50</td></tr>",
                            "<tr><td>64</td><td>CI0865</td><td>Cindy  Becker</td><td>Pest</td><td>8</td><td>0</td><td>2.50</td><td>97</td><td>20.00</td></tr>",
                            "<tr><td>65</td><td>BR1356</td><td>Brooke  Horton</td><td>Pest</td><td>13</td><td>0</td><td>1.00</td><td>23</td><td>7.00</td></tr>",
                            "<tr><td>66</td><td>IV1790</td><td>Ivan  Adkins</td><td>Pest</td><td>17</td><td>1</td><td>3.00</td><td>78</td><td>11.90</td></tr>",
                            "<tr><td>67</td><td>CH1017</td><td>Christina  Fuller</td><td>Pest</td><td>10</td><td>1</td><td>1.00</td><td>36</td><td>6.90</td></tr>",
                            "<tr><td>68</td><td>PE1588</td><td>Peter  Hodges</td><td>Pest</td><td>15</td><td>1</td><td>2.00</td><td>55</td><td>10.50</td></tr>",
                            "<tr><td>69</td><td>BE1367</td><td>Ben  Perez</td><td>Pest</td><td>13</td><td>0</td><td>2.00</td><td>50</td><td>14.50</td></tr>",
                            "<tr><td>70</td><td>AN1358</td><td>Andrew  Meyer</td><td>Pest</td><td>13</td><td>0</td><td>1.00</td><td>44</td><td>13.00</td></tr>",
                            "<tr><td>71</td><td>PE0719</td><td>Peter  Hodges</td><td>Pest</td><td>7</td><td>0</td><td>2.00</td><td>57</td><td>14.70</td></tr>",
                            "<tr><td>72</td><td>BI0965</td><td>Billie  Chandler</td><td>Pest</td><td>9</td><td>0</td><td>3.00</td><td>105</td><td>29.00</td></tr>",
                            "<tr><td>73</td><td>RO0851</td><td>Robert  Munoz</td><td>Pest</td><td>8</td><td>0</td><td>1.00</td><td>43</td><td>11.00</td></tr>",
                            "<tr><td>74</td><td>SA0821</td><td>Salvador  Bass</td><td>Pest</td><td>8</td><td>0</td><td>1.00</td><td>27</td><td>8.60</td></tr>",
                            "<tr><td>75</td><td>SA1363</td><td>Salvador  Bass</td><td>Pest</td><td>13</td><td>0</td><td>2.00</td><td>39</td><td>16.90</td></tr>",
                            "<tr><td>76</td><td>BO1318</td><td>Bobbie  Ryan</td><td>Pest</td><td>13</td><td>1</td><td>4.00</td><td>75</td><td>16.00</td></tr>",
                            "<tr><td>77</td><td>AN0232</td><td>Andrew  Meyer</td><td>Buda</td><td>2</td><td>0</td><td>2.00</td><td>60</td><td>19.90</td></tr>",
                            "<tr><td>78</td><td>DR1337</td><td>Drew  Rogers</td><td>Pest</td><td>13</td><td>0</td><td>2.00</td><td>96</td><td>31.50</td></tr>",
                            "<tr><td>79</td><td>IS0934</td><td>Isabel  Cross</td><td>Pest</td><td>9</td><td>0</td><td>2.00</td><td>61</td><td>15.70</td></tr>",
                            "<tr><td>80</td><td>DE1351</td><td>Della  Jensen</td><td>Pest</td><td>13</td><td>0</td><td>1.00</td><td>26</td><td>7.30</td></tr>",
                            "<tr><td>81</td><td>LO0948</td><td>Lorraine  Gibson</td><td>Pest</td><td>9</td><td>0</td><td>1.00</td><td>30</td><td>9.40</td></tr>",
                            "<tr><td>82</td><td>SH1338</td><td>Shari  Silva</td><td>Pest</td><td>13</td><td>1</td><td>3.50</td><td>80</td><td>16.80</td></tr>",
                            "<tr><td>83</td><td>DR1354</td><td>Drew  Rogers</td><td>Pest</td><td>13</td><td>1</td><td>1.00</td><td>27</td><td>7.20</td></tr>",
                            "<tr><td>84</td><td>IR0944</td><td>Iris  Underwood</td><td>Pest</td><td>9</td><td>0</td><td>3.00</td><td>96</td><td>29.90</td></tr>",
                            "<tr><td>85</td><td>DR0960</td><td>Drew  Rogers</td><td>Pest</td><td>9</td><td>0</td><td>2.00</td><td>72</td><td>16.80</td></tr>",
                            "<tr><td>86</td><td>JE1430</td><td>Jenny  Garcia</td><td>Pest</td><td>14</td><td>0</td><td>1.00</td><td>29</td><td>8.50</td></tr>",
                            "<tr><td>87</td><td>LO0862</td><td>Lorraine  Gibson</td><td>Pest</td><td>8</td><td>0</td><td>3.00</td><td>100</td><td>15.80</td></tr>",
                            "<tr><td>88</td><td>EL0590</td><td>Elaine  Ellis</td><td>Pest</td><td>5</td><td>0</td><td>2.00</td><td>81</td><td>25.90</td></tr>",
                            "<tr><td>89</td><td>ER0866</td><td>Eric  Rose</td><td>Pest</td><td>8</td><td>0</td><td>1.00</td><td>31</td><td>7.90</td></tr>",
                            "<tr><td>90</td><td>IS0528</td><td>Isabel  Cross</td><td>Pest</td><td>5</td><td>0</td><td>2.00</td><td>62</td><td>27.40</td></tr>",
                            "<tr><td>91</td><td>BI1347</td><td>Billie  Chandler</td><td>Pest</td><td>13</td><td>0</td><td>1.00</td><td>40</td><td>16.50</td></tr>",
                            "<tr><td>92</td><td>WO0991</td><td>Woodrow  Colon</td><td>Pest</td><td>9</td><td>0</td><td>1.00</td><td>40</td><td>11.50</td></tr>",
                            "<tr><td>93</td><td>ED1192</td><td>Edwin  Malone</td><td>Buda</td><td>11</td><td>0</td><td>3.00</td><td>105</td><td>29.00</td></tr>",
                            "<tr><td>94</td><td>PA1384</td><td>Paulette  Spencer</td><td>Pest</td><td>13</td><td>0</td><td>2.00</td><td>54</td><td>15.50</td></tr>",
                            "<tr><td>95</td><td>CA1420</td><td>Cassandra  Franklin</td><td>Pest</td><td>14</td><td>0</td><td>1.00</td><td>38</td><td>10.50</td></tr>",
                            "<tr><td>96</td><td>AL1364</td><td>Allan  Ramos</td><td>Pest</td><td>13</td><td>0</td><td>3.00</td><td>77</td><td>36.00</td></tr>",
                            "<tr><td>97</td><td>ER1359</td><td>Eric  Rose</td><td>Pest</td><td>13</td><td>0</td><td>1.00</td><td>25</td><td>6.60</td></tr>",
                            "<tr><td>98</td><td>CA0657</td><td>Cassandra  Franklin</td><td>Pest</td><td>6</td><td>0</td><td>4.50</td><td>153</td><td>37.30</td></tr>",
                            "<tr><td>99</td><td>DE0967</td><td>Della  Jensen</td><td>Pest</td><td>9</td><td>0</td><td>2.50</td><td>80</td><td>18.20</td></tr>",
                            "<tr><td>100</td><td>SH0895</td><td>Shari  Silva</td><td>Pest</td><td>8</td><td>0</td><td>2.00</td><td>77</td><td>16.50</td></tr>",
                            "<tr><td>101</td><td>AU2181</td><td>Austin  Reynolds</td><td>Pest</td><td>21</td><td>1</td><td>2.00</td><td>35</td><td>8.00</td></tr>",
                            "<tr><td>102</td><td>DA0914</td><td>Dan  Peterson</td><td>Pest</td><td>9</td><td>0</td><td>2.00</td><td>82</td><td>18.00</td></tr>",
                            "<tr><td>103</td><td>EL1511</td><td>Elbert  Klein</td><td>Pest</td><td>15</td><td>0</td><td>1.00</td><td>32</td><td>11.00</td></tr>",
                            "<tr><td>104</td><td>NE1267</td><td>Nellie  Joseph</td><td>Buda</td><td>12</td><td>0</td><td>3.00</td><td>68</td><td>39.00</td></tr>",
                            "</table>"
                        ]
                    }
                }
            ],
            "execution_count": 1
        },
        {
            "cell_type": "code",
            "source": [
                "SELECT MIN(NumberOfRooms) AS legkisebb_szoba_méret, \r\n",
                "       MAX(NumberOfRooms) AS legnagyobb_szoba_méret, \r\n",
                "       ROUND(AVG(NumberOfRooms),3) AS átlagos_szoba_méret\r\n",
                "FROM Flat"
            ],
            "metadata": {
                "azdata_cell_guid": "c9ccef20-37f8-445d-8307-a1225bb8973b",
                "language": "sql"
            },
            "outputs": [
                {
                    "output_type": "display_data",
                    "data": {
                        "text/html": "(1 row affected)"
                    },
                    "metadata": {}
                },
                {
                    "output_type": "display_data",
                    "data": {
                        "text/html": "Total execution time: 00:00:00.030"
                    },
                    "metadata": {}
                },
                {
                    "output_type": "execute_result",
                    "metadata": {},
                    "execution_count": 3,
                    "data": {
                        "application/vnd.dataresource+json": {
                            "schema": {
                                "fields": [
                                    {
                                        "name": "legkisebb_szoba_méret"
                                    },
                                    {
                                        "name": "legnagyobb_szoba_méret"
                                    },
                                    {
                                        "name": "atlagos_szoba_méret"
                                    }
                                ]
                            },
                            "data": [
                                {
                                    "legkisebb_szoba_méret": "1.00",
                                    "legnagyobb_szoba_méret": "5.00",
                                    "atlagos_szoba_méret": "2.067000"
                                }
                            ]
                        },
                        "text/html": [
                            "<table>",
                            "<tr><th>legkisebb_szoba_méret</th><th>legnagyobb_szoba_méret</th><th>atlagos_szoba_méret</th></tr>",
                            "<tr><td>1.00</td><td>5.00</td><td>2.067000</td></tr>",
                            "</table>"
                        ]
                    }
                }
            ],
            "execution_count": 3
        },
        {
            "cell_type": "code",
            "source": [
                "SELECT MIN(Price) AS legolcsobb_ar_Millioba, \r\n",
                "       MAX(Price) AS legdragabb_ar_Millioba, \r\n",
                "       AVG(Price) AS atlagos_ar_Millioba,\r\n",
                "        STDEV(Price) AS ar_eloszlas, \r\n",
                "       VAR(Price) AS ar_variancia\r\n",
                "FROM Flat\r\n",
                "WHERE Price IS NOT NULL\r\n",
                "AND LEN(Price) > 0"
            ],
            "metadata": {
                "azdata_cell_guid": "e22051d5-3f29-4877-80c1-c6d6c680a670",
                "language": "sql"
            },
            "outputs": [
                {
                    "output_type": "display_data",
                    "data": {
                        "text/html": "(1 row affected)"
                    },
                    "metadata": {}
                },
                {
                    "output_type": "display_data",
                    "data": {
                        "text/html": "Total execution time: 00:00:00.026"
                    },
                    "metadata": {}
                },
                {
                    "output_type": "execute_result",
                    "metadata": {},
                    "execution_count": 6,
                    "data": {
                        "application/vnd.dataresource+json": {
                            "schema": {
                                "fields": [
                                    {
                                        "name": "legolcsobb_ar_Millioba"
                                    },
                                    {
                                        "name": "legdragabb_ar_Millioba"
                                    },
                                    {
                                        "name": "atlagos_ar_Millioba"
                                    },
                                    {
                                        "name": "ar_eloszlas"
                                    },
                                    {
                                        "name": "ar_variancia"
                                    }
                                ]
                            },
                            "data": [
                                {
                                    "legolcsobb_ar_Millioba": "6.20",
                                    "legdragabb_ar_Millioba": "43.00",
                                    "atlagos_ar_Millioba": "17.061538",
                                    "ar_eloszlas": "8.646906486421255",
                                    "ar_variancia": "74.76899178491396"
                                }
                            ]
                        },
                        "text/html": [
                            "<table>",
                            "<tr><th>legolcsobb_ar_Millioba</th><th>legdragabb_ar_Millioba</th><th>atlagos_ar_Millioba</th><th>ar_eloszlas</th><th>ar_variancia</th></tr>",
                            "<tr><td>6.20</td><td>43.00</td><td>17.061538</td><td>8.646906486421255</td><td>74.76899178491396</td></tr>",
                            "</table>"
                        ]
                    }
                }
            ],
            "execution_count": 6
        },
        {
            "cell_type": "markdown",
            "source": [
                "Legnépszerűbb kerületek listája (top 10)"
            ],
            "metadata": {
                "azdata_cell_guid": "b89f2c08-17c9-4462-bfb6-b6b0007eda3f"
            },
            "attachments": {}
        },
        {
            "cell_type": "code",
            "source": [
                "SELECT TOP 10\r\n",
                "    District AS kerület, \r\n",
                "    COUNT(*) darabszám\r\n",
                "from Flat\r\n",
                "WHERE District IS NOT null\r\n",
                "GROUP BY District\r\n",
                "ORDER BY COUNT(*) desc\r\n",
                "\r\n",
                ""
            ],
            "metadata": {
                "azdata_cell_guid": "60cb4ab1-f505-4346-bab4-d9becb632664",
                "language": "sql"
            },
            "outputs": [
                {
                    "output_type": "display_data",
                    "data": {
                        "text/html": "(10 rows affected)"
                    },
                    "metadata": {}
                },
                {
                    "output_type": "display_data",
                    "data": {
                        "text/html": "Total execution time: 00:00:00.040"
                    },
                    "metadata": {}
                },
                {
                    "output_type": "execute_result",
                    "metadata": {},
                    "execution_count": 8,
                    "data": {
                        "application/vnd.dataresource+json": {
                            "schema": {
                                "fields": [
                                    {
                                        "name": "kerület"
                                    },
                                    {
                                        "name": "darabszám"
                                    }
                                ]
                            },
                            "data": [
                                {
                                    "kerület": "13",
                                    "darabszám": "28"
                                },
                                {
                                    "kerület": "9",
                                    "darabszám": "25"
                                },
                                {
                                    "kerület": "8",
                                    "darabszám": "8"
                                },
                                {
                                    "kerület": "7",
                                    "darabszám": "6"
                                },
                                {
                                    "kerület": "2",
                                    "darabszám": "5"
                                },
                                {
                                    "kerület": "6",
                                    "darabszám": "5"
                                },
                                {
                                    "kerület": "5",
                                    "darabszám": "4"
                                },
                                {
                                    "kerület": "10",
                                    "darabszám": "3"
                                },
                                {
                                    "kerület": "14",
                                    "darabszám": "3"
                                },
                                {
                                    "kerület": "15",
                                    "darabszám": "3"
                                }
                            ]
                        },
                        "text/html": [
                            "<table>",
                            "<tr><th>kerület</th><th>darabszám</th></tr>",
                            "<tr><td>13</td><td>28</td></tr>",
                            "<tr><td>9</td><td>25</td></tr>",
                            "<tr><td>8</td><td>8</td></tr>",
                            "<tr><td>7</td><td>6</td></tr>",
                            "<tr><td>2</td><td>5</td></tr>",
                            "<tr><td>6</td><td>5</td></tr>",
                            "<tr><td>5</td><td>4</td></tr>",
                            "<tr><td>10</td><td>3</td></tr>",
                            "<tr><td>14</td><td>3</td></tr>",
                            "<tr><td>15</td><td>3</td></tr>",
                            "</table>"
                        ]
                    }
                }
            ],
            "execution_count": 8
        },
        {
            "cell_type": "markdown",
            "source": [
                "10 Random összes érték"
            ],
            "metadata": {
                "azdata_cell_guid": "e17da2eb-46dc-44bc-be98-a76bd41467e6"
            },
            "attachments": {}
        },
        {
            "cell_type": "code",
            "source": [
                "SELECT * \r\n",
                "FROM Flat\r\n",
                "WHERE FlatSK IN (\r\n",
                "    SELECT TOP (10) FlatSK\r\n",
                "    FROM Flat\r\n",
                "    ORDER BY NEWID())"
            ],
            "metadata": {
                "azdata_cell_guid": "c1f51327-09a9-4085-a94a-4593921179ee",
                "language": "sql"
            },
            "outputs": [
{
    "output_type": "display_data",
    "data": {
        "text/html": "(10 rows affected)"
    },
    "metadata": {}
}, {
    "output_type": "display_data",
    "data": {
        "text/html": "Total execution time: 00:00:00.028"
    },
    "metadata": {}
}, {
    "output_type": "execute_result",
    "metadata": {},
    "execution_count": 10,
    "data": {
        "application/vnd.dataresource+json": {
            "schema": {
                "fields": [
                    {
                        "name": "FlatSK"
                    },
                    {
                        "name": "Code"
                    },
                    {
                        "name": "Vendor"
                    },
                    {
                        "name": "Side"
                    },
                    {
                        "name": "District"
                    },
                    {
                        "name": "Elevator"
                    },
                    {
                        "name": "NumberOfRooms"
                    },
                    {
                        "name": "FloorArea"
                    },
                    {
                        "name": "Price"
                    }
                ]
            },
            "data": [
                {
                    "FlatSK": "94",
                    "Code": "PA1384",
                    "Vendor": "Paulette  Spencer",
                    "Side": "Pest",
                    "District": "13",
                    "Elevator": "0",
                    "NumberOfRooms": "2.00",
                    "FloorArea": "54",
                    "Price": "15.50"
                },
                {
                    "FlatSK": "98",
                    "Code": "CA0657",
                    "Vendor": "Cassandra  Franklin",
                    "Side": "Pest",
                    "District": "6",
                    "Elevator": "0",
                    "NumberOfRooms": "4.50",
                    "FloorArea": "153",
                    "Price": "37.30"
                },
                {
                    "FlatSK": "28",
                    "Code": "CA0952",
                    "Vendor": "Cassandra  Franklin",
                    "Side": "Pest",
                    "District": "9",
                    "Elevator": "0",
                    "NumberOfRooms": "2.50",
                    "FloorArea": "68",
                    "Price": "20.80"
                },
                {
                    "FlatSK": "20",
                    "Code": "SH1339",
                    "Vendor": "Shari  Silva",
                    "Side": "Pest",
                    "District": "13",
                    "Elevator": "1",
                    "NumberOfRooms": "3.00",
                    "FloorArea": "68",
                    "Price": "14.60"
                },
                {
                    "FlatSK": "86",
                    "Code": "JE1430",
                    "Vendor": "Jenny  Garcia",
                    "Side": "Pest",
                    "District": "14",
                    "Elevator": "0",
                    "NumberOfRooms": "1.00",
                    "FloorArea": "29",
                    "Price": "8.50"
                },
                {
                    "FlatSK": "51",
                    "Code": "DO0765",
                    "Vendor": "Donna  Reid",
                    "Side": "Pest",
                    "District": "7",
                    "Elevator": "0",
                    "NumberOfRooms": "1.00",
                    "FloorArea": "36",
                    "Price": "8.20"
                },
                {
                    "FlatSK": "35",
                    "Code": "AR0366",
                    "Vendor": "Arturo  Francis",
                    "Side": "Buda",
                    "District": "3",
                    "Elevator": "0",
                    "NumberOfRooms": "1.50",
                    "FloorArea": "38",
                    "Price": "11.90"
                },
                {
                    "FlatSK": "90",
                    "Code": "IS0528",
                    "Vendor": "Isabel  Cross",
                    "Side": "Pest",
                    "District": "5",
                    "Elevator": "0",
                    "NumberOfRooms": "2.00",
                    "FloorArea": "62",
                    "Price": "27.40"
                },
                {
                    "FlatSK": "39",
                    "Code": "SH0987",
                    "Vendor": "Shari  Silva",
                    "Side": "Pest",
                    "District": "9",
                    "Elevator": "0",
                    "NumberOfRooms": "2.00",
                    "FloorArea": "71",
                    "Price": "16.50"
                },
                {
                    "FlatSK": "77",
                    "Code": "AN0232",
                    "Vendor": "Andrew  Meyer",
                    "Side": "Buda",
                    "District": "2",
                    "Elevator": "0",
                    "NumberOfRooms": "2.00",
                    "FloorArea": "60",
                    "Price": "19.90"
                }
            ]
        },
        "text/html": [
            "<table>",
            "<tr><th>FlatSK</th><th>Code</th><th>Vendor</th><th>Side</th><th>District</th><th>Elevator</th><th>NumberOfRooms</th><th>FloorArea</th><th>Price</th></tr>",
            "<tr><td>94</td><td>PA1384</td><td>Paulette  Spencer</td><td>Pest</td><td>13</td><td>0</td><td>2.00</td><td>54</td><td>15.50</td></tr>",
            "<tr><td>98</td><td>CA0657</td><td>Cassandra  Franklin</td><td>Pest</td><td>6</td><td>0</td><td>4.50</td><td>153</td><td>37.30</td></tr>",
            "<tr><td>28</td><td>CA0952</td><td>Cassandra  Franklin</td><td>Pest</td><td>9</td><td>0</td><td>2.50</td><td>68</td><td>20.80</td></tr>",
            "<tr><td>20</td><td>SH1339</td><td>Shari  Silva</td><td>Pest</td><td>13</td><td>1</td><td>3.00</td><td>68</td><td>14.60</td></tr>",
            "<tr><td>86</td><td>JE1430</td><td>Jenny  Garcia</td><td>Pest</td><td>14</td><td>0</td><td>1.00</td><td>29</td><td>8.50</td></tr>",
            "<tr><td>51</td><td>DO0765</td><td>Donna  Reid</td><td>Pest</td><td>7</td><td>0</td><td>1.00</td><td>36</td><td>8.20</td></tr>",
            "<tr><td>35</td><td>AR0366</td><td>Arturo  Francis</td><td>Buda</td><td>3</td><td>0</td><td>1.50</td><td>38</td><td>11.90</td></tr>",
            "<tr><td>90</td><td>IS0528</td><td>Isabel  Cross</td><td>Pest</td><td>5</td><td>0</td><td>2.00</td><td>62</td><td>27.40</td></tr>",
            "<tr><td>39</td><td>SH0987</td><td>Shari  Silva</td><td>Pest</td><td>9</td><td>0</td><td>2.00</td><td>71</td><td>16.50</td></tr>",
            "<tr><td>77</td><td>AN0232</td><td>Andrew  Meyer</td><td>Buda</td><td>2</td><td>0</td><td>2.00</td><td>60</td><td>19.90</td></tr>",
            "</table>"
        ]
    }
}
],
            "execution_count": 10
        }
    ]
}